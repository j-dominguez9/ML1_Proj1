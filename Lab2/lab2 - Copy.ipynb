{
 "cells": [
  {
   "cell_type": "markdown",
   "metadata": {},
   "source": [
    "<h1><center>Adults Dataset</center></h1>"
   ]
  },
  {
   "cell_type": "markdown",
   "metadata": {},
   "source": [
    "# Machine Learning 1 - Lab 2: Classification"
   ]
  },
  {
   "cell_type": "markdown",
   "metadata": {},
   "source": [
    "### Authors:\n",
    "Richard Kim <br> Connor Dobbs<br> Joaquin Dominguez"
   ]
  },
  {
   "cell_type": "markdown",
   "metadata": {},
   "source": [
    "## Data Preparation, Part 1"
   ]
  },
  {
   "cell_type": "markdown",
   "metadata": {},
   "source": [
    "Define and prepare your class variables. Use proper variable representations (int, float, one-hot, etc.). Use pre-processing methods (as needed) for dimensionality reduction, scaling, etc. Remove variables that are not needed/useful for the analysis."
   ]
  },
  {
   "cell_type": "markdown",
   "metadata": {},
   "source": [
    "### Import packages and Dataset"
   ]
  },
  {
   "cell_type": "code",
   "execution_count": 1,
   "metadata": {},
   "outputs": [],
   "source": [
    "# Import relevant packages\n",
    "import pandas as pd\n",
    "import numpy as np\n",
    "import matplotlib.pyplot as plt\n",
    "import seaborn as sns\n",
    "\n",
    "# Hide deprecation warnings\n",
    "import warnings\n",
    "warnings.filterwarnings('ignore', category=FutureWarning)\n",
    "warnings.filterwarnings('ignore', category=DeprecationWarning)"
   ]
  },
  {
   "cell_type": "code",
   "execution_count": 2,
   "metadata": {},
   "outputs": [],
   "source": [
    "### Import dataset into 'df'\n",
    "df = pd.read_csv('https://raw.githubusercontent.com/j-dominguez9/ML1_Proj1/main/Data/census_clean.csv')"
   ]
  },
  {
   "cell_type": "code",
   "execution_count": 3,
   "metadata": {},
   "outputs": [
    {
     "name": "stdout",
     "output_type": "stream",
     "text": [
      "<class 'pandas.core.frame.DataFrame'>\n",
      "RangeIndex: 45175 entries, 0 to 45174\n",
      "Data columns (total 16 columns):\n",
      " #   Column           Non-Null Count  Dtype \n",
      "---  ------           --------------  ----- \n",
      " 0   Unnamed: 0       45175 non-null  int64 \n",
      " 1   age              45175 non-null  int64 \n",
      " 2   workclass        45175 non-null  object\n",
      " 3   fnlwgt           45175 non-null  int64 \n",
      " 4   education        45175 non-null  object\n",
      " 5   educational-num  45175 non-null  int64 \n",
      " 6   marital-status   45175 non-null  object\n",
      " 7   occupation       45175 non-null  object\n",
      " 8   relationship     45175 non-null  object\n",
      " 9   race             45175 non-null  object\n",
      " 10  gender           45175 non-null  object\n",
      " 11  capital-gain     45175 non-null  int64 \n",
      " 12  capital-loss     45175 non-null  int64 \n",
      " 13  hours-per-week   45175 non-null  int64 \n",
      " 14  native-country   45175 non-null  object\n",
      " 15  income           45175 non-null  object\n",
      "dtypes: int64(7), object(9)\n",
      "memory usage: 5.5+ MB\n"
     ]
    },
    {
     "data": {
      "text/html": [
       "<div>\n",
       "<style scoped>\n",
       "    .dataframe tbody tr th:only-of-type {\n",
       "        vertical-align: middle;\n",
       "    }\n",
       "\n",
       "    .dataframe tbody tr th {\n",
       "        vertical-align: top;\n",
       "    }\n",
       "\n",
       "    .dataframe thead th {\n",
       "        text-align: right;\n",
       "    }\n",
       "</style>\n",
       "<table border=\"1\" class=\"dataframe\">\n",
       "  <thead>\n",
       "    <tr style=\"text-align: right;\">\n",
       "      <th></th>\n",
       "      <th>Unnamed: 0</th>\n",
       "      <th>age</th>\n",
       "      <th>workclass</th>\n",
       "      <th>fnlwgt</th>\n",
       "      <th>education</th>\n",
       "      <th>educational-num</th>\n",
       "      <th>marital-status</th>\n",
       "      <th>occupation</th>\n",
       "      <th>relationship</th>\n",
       "      <th>race</th>\n",
       "      <th>gender</th>\n",
       "      <th>capital-gain</th>\n",
       "      <th>capital-loss</th>\n",
       "      <th>hours-per-week</th>\n",
       "      <th>native-country</th>\n",
       "      <th>income</th>\n",
       "    </tr>\n",
       "  </thead>\n",
       "  <tbody>\n",
       "    <tr>\n",
       "      <th>0</th>\n",
       "      <td>0</td>\n",
       "      <td>25</td>\n",
       "      <td>Private</td>\n",
       "      <td>226802</td>\n",
       "      <td>11th</td>\n",
       "      <td>7</td>\n",
       "      <td>Never-married</td>\n",
       "      <td>Machine-op-inspct</td>\n",
       "      <td>Own-child</td>\n",
       "      <td>Black</td>\n",
       "      <td>Male</td>\n",
       "      <td>0</td>\n",
       "      <td>0</td>\n",
       "      <td>40</td>\n",
       "      <td>United-States</td>\n",
       "      <td>&lt;=50K</td>\n",
       "    </tr>\n",
       "    <tr>\n",
       "      <th>1</th>\n",
       "      <td>1</td>\n",
       "      <td>38</td>\n",
       "      <td>Private</td>\n",
       "      <td>89814</td>\n",
       "      <td>HS-grad</td>\n",
       "      <td>9</td>\n",
       "      <td>Married-civ-spouse</td>\n",
       "      <td>Farming-fishing</td>\n",
       "      <td>Husband</td>\n",
       "      <td>White</td>\n",
       "      <td>Male</td>\n",
       "      <td>0</td>\n",
       "      <td>0</td>\n",
       "      <td>50</td>\n",
       "      <td>United-States</td>\n",
       "      <td>&lt;=50K</td>\n",
       "    </tr>\n",
       "    <tr>\n",
       "      <th>2</th>\n",
       "      <td>2</td>\n",
       "      <td>28</td>\n",
       "      <td>Local-gov</td>\n",
       "      <td>336951</td>\n",
       "      <td>Assoc-acdm</td>\n",
       "      <td>12</td>\n",
       "      <td>Married-civ-spouse</td>\n",
       "      <td>Protective-serv</td>\n",
       "      <td>Husband</td>\n",
       "      <td>White</td>\n",
       "      <td>Male</td>\n",
       "      <td>0</td>\n",
       "      <td>0</td>\n",
       "      <td>40</td>\n",
       "      <td>United-States</td>\n",
       "      <td>&gt;50K</td>\n",
       "    </tr>\n",
       "    <tr>\n",
       "      <th>3</th>\n",
       "      <td>3</td>\n",
       "      <td>44</td>\n",
       "      <td>Private</td>\n",
       "      <td>160323</td>\n",
       "      <td>Some-college</td>\n",
       "      <td>10</td>\n",
       "      <td>Married-civ-spouse</td>\n",
       "      <td>Machine-op-inspct</td>\n",
       "      <td>Husband</td>\n",
       "      <td>Black</td>\n",
       "      <td>Male</td>\n",
       "      <td>7688</td>\n",
       "      <td>0</td>\n",
       "      <td>40</td>\n",
       "      <td>United-States</td>\n",
       "      <td>&gt;50K</td>\n",
       "    </tr>\n",
       "    <tr>\n",
       "      <th>4</th>\n",
       "      <td>5</td>\n",
       "      <td>34</td>\n",
       "      <td>Private</td>\n",
       "      <td>198693</td>\n",
       "      <td>10th</td>\n",
       "      <td>6</td>\n",
       "      <td>Never-married</td>\n",
       "      <td>Other-service</td>\n",
       "      <td>Not-in-family</td>\n",
       "      <td>White</td>\n",
       "      <td>Male</td>\n",
       "      <td>0</td>\n",
       "      <td>0</td>\n",
       "      <td>30</td>\n",
       "      <td>United-States</td>\n",
       "      <td>&lt;=50K</td>\n",
       "    </tr>\n",
       "  </tbody>\n",
       "</table>\n",
       "</div>"
      ],
      "text/plain": [
       "   Unnamed: 0  age  workclass  fnlwgt     education  educational-num  \\\n",
       "0           0   25    Private  226802          11th                7   \n",
       "1           1   38    Private   89814       HS-grad                9   \n",
       "2           2   28  Local-gov  336951    Assoc-acdm               12   \n",
       "3           3   44    Private  160323  Some-college               10   \n",
       "4           5   34    Private  198693          10th                6   \n",
       "\n",
       "       marital-status         occupation   relationship   race gender  \\\n",
       "0       Never-married  Machine-op-inspct      Own-child  Black   Male   \n",
       "1  Married-civ-spouse    Farming-fishing        Husband  White   Male   \n",
       "2  Married-civ-spouse    Protective-serv        Husband  White   Male   \n",
       "3  Married-civ-spouse  Machine-op-inspct        Husband  Black   Male   \n",
       "4       Never-married      Other-service  Not-in-family  White   Male   \n",
       "\n",
       "   capital-gain  capital-loss  hours-per-week native-country income  \n",
       "0             0             0              40  United-States  <=50K  \n",
       "1             0             0              50  United-States  <=50K  \n",
       "2             0             0              40  United-States   >50K  \n",
       "3          7688             0              40  United-States   >50K  \n",
       "4             0             0              30  United-States  <=50K  "
      ]
     },
     "execution_count": 3,
     "metadata": {},
     "output_type": "execute_result"
    }
   ],
   "source": [
    "## check types, get overview\n",
    "df.info()\n",
    "\n",
    "#double check nulls\n",
    "df.isna().sum()\n",
    "df.head()"
   ]
  },
  {
   "cell_type": "markdown",
   "metadata": {},
   "source": [
    "### Check Distribution of Target Variable"
   ]
  },
  {
   "cell_type": "code",
   "execution_count": 4,
   "metadata": {},
   "outputs": [
    {
     "data": {
      "text/plain": [
       "<=50K    33973\n",
       ">50K     11202\n",
       "Name: income, dtype: int64"
      ]
     },
     "execution_count": 4,
     "metadata": {},
     "output_type": "execute_result"
    }
   ],
   "source": [
    "# check balancing\n",
    "df['income'].value_counts()"
   ]
  },
  {
   "cell_type": "code",
   "execution_count": 5,
   "metadata": {},
   "outputs": [
    {
     "name": "stdout",
     "output_type": "stream",
     "text": [
      "<=50k: 75.20309905921417%\n",
      ">50k: 24.796900940785832%\n"
     ]
    }
   ],
   "source": [
    "# get percentages for 'income' distribution\n",
    "less = 33973\n",
    "greater = 11202\n",
    "tot = less + greater\n",
    "print(f'<=50k: {(less/tot)*100}%')\n",
    "print(f'>50k: {(greater/tot)*100}%')\n"
   ]
  },
  {
   "cell_type": "markdown",
   "metadata": {},
   "source": [
    "It is clear from the distribution of our target variable (as outlined above) that applying a sampling method to balance the dataset would benefit the models that follow from the dataset."
   ]
  },
  {
   "cell_type": "markdown",
   "metadata": {},
   "source": [
    "### Prepare Dataset for Classification"
   ]
  },
  {
   "cell_type": "markdown",
   "metadata": {},
   "source": [
    "In this step, we transformed all categorical variables (via OneHotEncoding method) to prepare the data for logistic regression. Note that in further modeling, these categorical variables will be refined further. "
   ]
  },
  {
   "cell_type": "code",
   "execution_count": 6,
   "metadata": {},
   "outputs": [],
   "source": [
    "# create dummy var for income\n",
    "\n",
    "dummy = pd.get_dummies(df['income'])\n",
    "\n",
    "df_1 = pd.concat((df, dummy), axis=1)\n",
    "\n",
    "df_1 = df_1.drop(['income'], axis=1)\n",
    "\n",
    "df_1 = df_1.drop(['<=50K'], axis=1)\n",
    "\n",
    "df_1 = df_1.rename(columns={'>50K': 'income'})"
   ]
  },
  {
   "cell_type": "code",
   "execution_count": 7,
   "metadata": {},
   "outputs": [
    {
     "data": {
      "text/html": [
       "<div>\n",
       "<style scoped>\n",
       "    .dataframe tbody tr th:only-of-type {\n",
       "        vertical-align: middle;\n",
       "    }\n",
       "\n",
       "    .dataframe tbody tr th {\n",
       "        vertical-align: top;\n",
       "    }\n",
       "\n",
       "    .dataframe thead th {\n",
       "        text-align: right;\n",
       "    }\n",
       "</style>\n",
       "<table border=\"1\" class=\"dataframe\">\n",
       "  <thead>\n",
       "    <tr style=\"text-align: right;\">\n",
       "      <th></th>\n",
       "      <th>Unnamed: 0</th>\n",
       "      <th>age</th>\n",
       "      <th>fnlwgt</th>\n",
       "      <th>education</th>\n",
       "      <th>educational-num</th>\n",
       "      <th>marital-status</th>\n",
       "      <th>occupation</th>\n",
       "      <th>relationship</th>\n",
       "      <th>race</th>\n",
       "      <th>gender</th>\n",
       "      <th>...</th>\n",
       "      <th>hours-per-week</th>\n",
       "      <th>native-country</th>\n",
       "      <th>income</th>\n",
       "      <th>Federal-gov</th>\n",
       "      <th>Local-gov</th>\n",
       "      <th>Private</th>\n",
       "      <th>Self-emp-inc</th>\n",
       "      <th>Self-emp-not-inc</th>\n",
       "      <th>State-gov</th>\n",
       "      <th>Without-pay</th>\n",
       "    </tr>\n",
       "  </thead>\n",
       "  <tbody>\n",
       "    <tr>\n",
       "      <th>0</th>\n",
       "      <td>0</td>\n",
       "      <td>25</td>\n",
       "      <td>226802</td>\n",
       "      <td>11th</td>\n",
       "      <td>7</td>\n",
       "      <td>Never-married</td>\n",
       "      <td>Machine-op-inspct</td>\n",
       "      <td>Own-child</td>\n",
       "      <td>Black</td>\n",
       "      <td>Male</td>\n",
       "      <td>...</td>\n",
       "      <td>40</td>\n",
       "      <td>United-States</td>\n",
       "      <td>0</td>\n",
       "      <td>0</td>\n",
       "      <td>0</td>\n",
       "      <td>1</td>\n",
       "      <td>0</td>\n",
       "      <td>0</td>\n",
       "      <td>0</td>\n",
       "      <td>0</td>\n",
       "    </tr>\n",
       "    <tr>\n",
       "      <th>1</th>\n",
       "      <td>1</td>\n",
       "      <td>38</td>\n",
       "      <td>89814</td>\n",
       "      <td>HS-grad</td>\n",
       "      <td>9</td>\n",
       "      <td>Married-civ-spouse</td>\n",
       "      <td>Farming-fishing</td>\n",
       "      <td>Husband</td>\n",
       "      <td>White</td>\n",
       "      <td>Male</td>\n",
       "      <td>...</td>\n",
       "      <td>50</td>\n",
       "      <td>United-States</td>\n",
       "      <td>0</td>\n",
       "      <td>0</td>\n",
       "      <td>0</td>\n",
       "      <td>1</td>\n",
       "      <td>0</td>\n",
       "      <td>0</td>\n",
       "      <td>0</td>\n",
       "      <td>0</td>\n",
       "    </tr>\n",
       "    <tr>\n",
       "      <th>2</th>\n",
       "      <td>2</td>\n",
       "      <td>28</td>\n",
       "      <td>336951</td>\n",
       "      <td>Assoc-acdm</td>\n",
       "      <td>12</td>\n",
       "      <td>Married-civ-spouse</td>\n",
       "      <td>Protective-serv</td>\n",
       "      <td>Husband</td>\n",
       "      <td>White</td>\n",
       "      <td>Male</td>\n",
       "      <td>...</td>\n",
       "      <td>40</td>\n",
       "      <td>United-States</td>\n",
       "      <td>1</td>\n",
       "      <td>0</td>\n",
       "      <td>1</td>\n",
       "      <td>0</td>\n",
       "      <td>0</td>\n",
       "      <td>0</td>\n",
       "      <td>0</td>\n",
       "      <td>0</td>\n",
       "    </tr>\n",
       "    <tr>\n",
       "      <th>3</th>\n",
       "      <td>3</td>\n",
       "      <td>44</td>\n",
       "      <td>160323</td>\n",
       "      <td>Some-college</td>\n",
       "      <td>10</td>\n",
       "      <td>Married-civ-spouse</td>\n",
       "      <td>Machine-op-inspct</td>\n",
       "      <td>Husband</td>\n",
       "      <td>Black</td>\n",
       "      <td>Male</td>\n",
       "      <td>...</td>\n",
       "      <td>40</td>\n",
       "      <td>United-States</td>\n",
       "      <td>1</td>\n",
       "      <td>0</td>\n",
       "      <td>0</td>\n",
       "      <td>1</td>\n",
       "      <td>0</td>\n",
       "      <td>0</td>\n",
       "      <td>0</td>\n",
       "      <td>0</td>\n",
       "    </tr>\n",
       "    <tr>\n",
       "      <th>4</th>\n",
       "      <td>5</td>\n",
       "      <td>34</td>\n",
       "      <td>198693</td>\n",
       "      <td>10th</td>\n",
       "      <td>6</td>\n",
       "      <td>Never-married</td>\n",
       "      <td>Other-service</td>\n",
       "      <td>Not-in-family</td>\n",
       "      <td>White</td>\n",
       "      <td>Male</td>\n",
       "      <td>...</td>\n",
       "      <td>30</td>\n",
       "      <td>United-States</td>\n",
       "      <td>0</td>\n",
       "      <td>0</td>\n",
       "      <td>0</td>\n",
       "      <td>1</td>\n",
       "      <td>0</td>\n",
       "      <td>0</td>\n",
       "      <td>0</td>\n",
       "      <td>0</td>\n",
       "    </tr>\n",
       "  </tbody>\n",
       "</table>\n",
       "<p>5 rows × 22 columns</p>\n",
       "</div>"
      ],
      "text/plain": [
       "   Unnamed: 0  age  fnlwgt     education  educational-num      marital-status  \\\n",
       "0           0   25  226802          11th                7       Never-married   \n",
       "1           1   38   89814       HS-grad                9  Married-civ-spouse   \n",
       "2           2   28  336951    Assoc-acdm               12  Married-civ-spouse   \n",
       "3           3   44  160323  Some-college               10  Married-civ-spouse   \n",
       "4           5   34  198693          10th                6       Never-married   \n",
       "\n",
       "          occupation   relationship   race gender  ...  hours-per-week  \\\n",
       "0  Machine-op-inspct      Own-child  Black   Male  ...              40   \n",
       "1    Farming-fishing        Husband  White   Male  ...              50   \n",
       "2    Protective-serv        Husband  White   Male  ...              40   \n",
       "3  Machine-op-inspct        Husband  Black   Male  ...              40   \n",
       "4      Other-service  Not-in-family  White   Male  ...              30   \n",
       "\n",
       "   native-country  income Federal-gov  Local-gov  Private  Self-emp-inc  \\\n",
       "0   United-States       0           0          0        1             0   \n",
       "1   United-States       0           0          0        1             0   \n",
       "2   United-States       1           0          1        0             0   \n",
       "3   United-States       1           0          0        1             0   \n",
       "4   United-States       0           0          0        1             0   \n",
       "\n",
       "   Self-emp-not-inc  State-gov  Without-pay  \n",
       "0                 0          0            0  \n",
       "1                 0          0            0  \n",
       "2                 0          0            0  \n",
       "3                 0          0            0  \n",
       "4                 0          0            0  \n",
       "\n",
       "[5 rows x 22 columns]"
      ]
     },
     "execution_count": 7,
     "metadata": {},
     "output_type": "execute_result"
    }
   ],
   "source": [
    "# OneHotEncoding workclass variable\n",
    "dummy = pd.get_dummies(df['workclass'])\n",
    "\n",
    "df_1 = pd.concat((df_1, dummy), axis=1)\n",
    "\n",
    "df_1 = df_1.drop(['workclass'], axis=1)\n",
    "\n",
    "df_1.head()"
   ]
  },
  {
   "cell_type": "code",
   "execution_count": 8,
   "metadata": {},
   "outputs": [
    {
     "data": {
      "text/html": [
       "<div>\n",
       "<style scoped>\n",
       "    .dataframe tbody tr th:only-of-type {\n",
       "        vertical-align: middle;\n",
       "    }\n",
       "\n",
       "    .dataframe tbody tr th {\n",
       "        vertical-align: top;\n",
       "    }\n",
       "\n",
       "    .dataframe thead th {\n",
       "        text-align: right;\n",
       "    }\n",
       "</style>\n",
       "<table border=\"1\" class=\"dataframe\">\n",
       "  <thead>\n",
       "    <tr style=\"text-align: right;\">\n",
       "      <th></th>\n",
       "      <th>Unnamed: 0</th>\n",
       "      <th>age</th>\n",
       "      <th>fnlwgt</th>\n",
       "      <th>education</th>\n",
       "      <th>educational-num</th>\n",
       "      <th>marital-status</th>\n",
       "      <th>occupation</th>\n",
       "      <th>relationship</th>\n",
       "      <th>race</th>\n",
       "      <th>capital-gain</th>\n",
       "      <th>...</th>\n",
       "      <th>income</th>\n",
       "      <th>Federal-gov</th>\n",
       "      <th>Local-gov</th>\n",
       "      <th>Private</th>\n",
       "      <th>Self-emp-inc</th>\n",
       "      <th>Self-emp-not-inc</th>\n",
       "      <th>State-gov</th>\n",
       "      <th>Without-pay</th>\n",
       "      <th>Female</th>\n",
       "      <th>Male</th>\n",
       "    </tr>\n",
       "  </thead>\n",
       "  <tbody>\n",
       "    <tr>\n",
       "      <th>0</th>\n",
       "      <td>0</td>\n",
       "      <td>25</td>\n",
       "      <td>226802</td>\n",
       "      <td>11th</td>\n",
       "      <td>7</td>\n",
       "      <td>Never-married</td>\n",
       "      <td>Machine-op-inspct</td>\n",
       "      <td>Own-child</td>\n",
       "      <td>Black</td>\n",
       "      <td>0</td>\n",
       "      <td>...</td>\n",
       "      <td>0</td>\n",
       "      <td>0</td>\n",
       "      <td>0</td>\n",
       "      <td>1</td>\n",
       "      <td>0</td>\n",
       "      <td>0</td>\n",
       "      <td>0</td>\n",
       "      <td>0</td>\n",
       "      <td>0</td>\n",
       "      <td>1</td>\n",
       "    </tr>\n",
       "    <tr>\n",
       "      <th>1</th>\n",
       "      <td>1</td>\n",
       "      <td>38</td>\n",
       "      <td>89814</td>\n",
       "      <td>HS-grad</td>\n",
       "      <td>9</td>\n",
       "      <td>Married-civ-spouse</td>\n",
       "      <td>Farming-fishing</td>\n",
       "      <td>Husband</td>\n",
       "      <td>White</td>\n",
       "      <td>0</td>\n",
       "      <td>...</td>\n",
       "      <td>0</td>\n",
       "      <td>0</td>\n",
       "      <td>0</td>\n",
       "      <td>1</td>\n",
       "      <td>0</td>\n",
       "      <td>0</td>\n",
       "      <td>0</td>\n",
       "      <td>0</td>\n",
       "      <td>0</td>\n",
       "      <td>1</td>\n",
       "    </tr>\n",
       "    <tr>\n",
       "      <th>2</th>\n",
       "      <td>2</td>\n",
       "      <td>28</td>\n",
       "      <td>336951</td>\n",
       "      <td>Assoc-acdm</td>\n",
       "      <td>12</td>\n",
       "      <td>Married-civ-spouse</td>\n",
       "      <td>Protective-serv</td>\n",
       "      <td>Husband</td>\n",
       "      <td>White</td>\n",
       "      <td>0</td>\n",
       "      <td>...</td>\n",
       "      <td>1</td>\n",
       "      <td>0</td>\n",
       "      <td>1</td>\n",
       "      <td>0</td>\n",
       "      <td>0</td>\n",
       "      <td>0</td>\n",
       "      <td>0</td>\n",
       "      <td>0</td>\n",
       "      <td>0</td>\n",
       "      <td>1</td>\n",
       "    </tr>\n",
       "    <tr>\n",
       "      <th>3</th>\n",
       "      <td>3</td>\n",
       "      <td>44</td>\n",
       "      <td>160323</td>\n",
       "      <td>Some-college</td>\n",
       "      <td>10</td>\n",
       "      <td>Married-civ-spouse</td>\n",
       "      <td>Machine-op-inspct</td>\n",
       "      <td>Husband</td>\n",
       "      <td>Black</td>\n",
       "      <td>7688</td>\n",
       "      <td>...</td>\n",
       "      <td>1</td>\n",
       "      <td>0</td>\n",
       "      <td>0</td>\n",
       "      <td>1</td>\n",
       "      <td>0</td>\n",
       "      <td>0</td>\n",
       "      <td>0</td>\n",
       "      <td>0</td>\n",
       "      <td>0</td>\n",
       "      <td>1</td>\n",
       "    </tr>\n",
       "    <tr>\n",
       "      <th>4</th>\n",
       "      <td>5</td>\n",
       "      <td>34</td>\n",
       "      <td>198693</td>\n",
       "      <td>10th</td>\n",
       "      <td>6</td>\n",
       "      <td>Never-married</td>\n",
       "      <td>Other-service</td>\n",
       "      <td>Not-in-family</td>\n",
       "      <td>White</td>\n",
       "      <td>0</td>\n",
       "      <td>...</td>\n",
       "      <td>0</td>\n",
       "      <td>0</td>\n",
       "      <td>0</td>\n",
       "      <td>1</td>\n",
       "      <td>0</td>\n",
       "      <td>0</td>\n",
       "      <td>0</td>\n",
       "      <td>0</td>\n",
       "      <td>0</td>\n",
       "      <td>1</td>\n",
       "    </tr>\n",
       "  </tbody>\n",
       "</table>\n",
       "<p>5 rows × 23 columns</p>\n",
       "</div>"
      ],
      "text/plain": [
       "   Unnamed: 0  age  fnlwgt     education  educational-num      marital-status  \\\n",
       "0           0   25  226802          11th                7       Never-married   \n",
       "1           1   38   89814       HS-grad                9  Married-civ-spouse   \n",
       "2           2   28  336951    Assoc-acdm               12  Married-civ-spouse   \n",
       "3           3   44  160323  Some-college               10  Married-civ-spouse   \n",
       "4           5   34  198693          10th                6       Never-married   \n",
       "\n",
       "          occupation   relationship   race  capital-gain  ...  income  \\\n",
       "0  Machine-op-inspct      Own-child  Black             0  ...       0   \n",
       "1    Farming-fishing        Husband  White             0  ...       0   \n",
       "2    Protective-serv        Husband  White             0  ...       1   \n",
       "3  Machine-op-inspct        Husband  Black          7688  ...       1   \n",
       "4      Other-service  Not-in-family  White             0  ...       0   \n",
       "\n",
       "   Federal-gov Local-gov  Private  Self-emp-inc  Self-emp-not-inc  State-gov  \\\n",
       "0            0         0        1             0                 0          0   \n",
       "1            0         0        1             0                 0          0   \n",
       "2            0         1        0             0                 0          0   \n",
       "3            0         0        1             0                 0          0   \n",
       "4            0         0        1             0                 0          0   \n",
       "\n",
       "   Without-pay  Female  Male  \n",
       "0            0       0     1  \n",
       "1            0       0     1  \n",
       "2            0       0     1  \n",
       "3            0       0     1  \n",
       "4            0       0     1  \n",
       "\n",
       "[5 rows x 23 columns]"
      ]
     },
     "execution_count": 8,
     "metadata": {},
     "output_type": "execute_result"
    }
   ],
   "source": [
    "# OneHotEncoding gender variable\n",
    "dummy = pd.get_dummies(df['gender'])\n",
    "\n",
    "df_1 = pd.concat((df_1, dummy), axis=1)\n",
    "\n",
    "df_1 = df_1.drop(['gender'], axis=1)\n",
    "\n",
    "df_1.head()"
   ]
  },
  {
   "cell_type": "code",
   "execution_count": 9,
   "metadata": {},
   "outputs": [
    {
     "data": {
      "text/html": [
       "<div>\n",
       "<style scoped>\n",
       "    .dataframe tbody tr th:only-of-type {\n",
       "        vertical-align: middle;\n",
       "    }\n",
       "\n",
       "    .dataframe tbody tr th {\n",
       "        vertical-align: top;\n",
       "    }\n",
       "\n",
       "    .dataframe thead th {\n",
       "        text-align: right;\n",
       "    }\n",
       "</style>\n",
       "<table border=\"1\" class=\"dataframe\">\n",
       "  <thead>\n",
       "    <tr style=\"text-align: right;\">\n",
       "      <th></th>\n",
       "      <th>Unnamed: 0</th>\n",
       "      <th>age</th>\n",
       "      <th>fnlwgt</th>\n",
       "      <th>educational-num</th>\n",
       "      <th>marital-status</th>\n",
       "      <th>occupation</th>\n",
       "      <th>relationship</th>\n",
       "      <th>race</th>\n",
       "      <th>capital-gain</th>\n",
       "      <th>capital-loss</th>\n",
       "      <th>...</th>\n",
       "      <th>9th</th>\n",
       "      <th>Assoc-acdm</th>\n",
       "      <th>Assoc-voc</th>\n",
       "      <th>Bachelors</th>\n",
       "      <th>Doctorate</th>\n",
       "      <th>HS-grad</th>\n",
       "      <th>Masters</th>\n",
       "      <th>Preschool</th>\n",
       "      <th>Prof-school</th>\n",
       "      <th>Some-college</th>\n",
       "    </tr>\n",
       "  </thead>\n",
       "  <tbody>\n",
       "    <tr>\n",
       "      <th>0</th>\n",
       "      <td>0</td>\n",
       "      <td>25</td>\n",
       "      <td>226802</td>\n",
       "      <td>7</td>\n",
       "      <td>Never-married</td>\n",
       "      <td>Machine-op-inspct</td>\n",
       "      <td>Own-child</td>\n",
       "      <td>Black</td>\n",
       "      <td>0</td>\n",
       "      <td>0</td>\n",
       "      <td>...</td>\n",
       "      <td>0</td>\n",
       "      <td>0</td>\n",
       "      <td>0</td>\n",
       "      <td>0</td>\n",
       "      <td>0</td>\n",
       "      <td>0</td>\n",
       "      <td>0</td>\n",
       "      <td>0</td>\n",
       "      <td>0</td>\n",
       "      <td>0</td>\n",
       "    </tr>\n",
       "    <tr>\n",
       "      <th>1</th>\n",
       "      <td>1</td>\n",
       "      <td>38</td>\n",
       "      <td>89814</td>\n",
       "      <td>9</td>\n",
       "      <td>Married-civ-spouse</td>\n",
       "      <td>Farming-fishing</td>\n",
       "      <td>Husband</td>\n",
       "      <td>White</td>\n",
       "      <td>0</td>\n",
       "      <td>0</td>\n",
       "      <td>...</td>\n",
       "      <td>0</td>\n",
       "      <td>0</td>\n",
       "      <td>0</td>\n",
       "      <td>0</td>\n",
       "      <td>0</td>\n",
       "      <td>1</td>\n",
       "      <td>0</td>\n",
       "      <td>0</td>\n",
       "      <td>0</td>\n",
       "      <td>0</td>\n",
       "    </tr>\n",
       "    <tr>\n",
       "      <th>2</th>\n",
       "      <td>2</td>\n",
       "      <td>28</td>\n",
       "      <td>336951</td>\n",
       "      <td>12</td>\n",
       "      <td>Married-civ-spouse</td>\n",
       "      <td>Protective-serv</td>\n",
       "      <td>Husband</td>\n",
       "      <td>White</td>\n",
       "      <td>0</td>\n",
       "      <td>0</td>\n",
       "      <td>...</td>\n",
       "      <td>0</td>\n",
       "      <td>1</td>\n",
       "      <td>0</td>\n",
       "      <td>0</td>\n",
       "      <td>0</td>\n",
       "      <td>0</td>\n",
       "      <td>0</td>\n",
       "      <td>0</td>\n",
       "      <td>0</td>\n",
       "      <td>0</td>\n",
       "    </tr>\n",
       "    <tr>\n",
       "      <th>3</th>\n",
       "      <td>3</td>\n",
       "      <td>44</td>\n",
       "      <td>160323</td>\n",
       "      <td>10</td>\n",
       "      <td>Married-civ-spouse</td>\n",
       "      <td>Machine-op-inspct</td>\n",
       "      <td>Husband</td>\n",
       "      <td>Black</td>\n",
       "      <td>7688</td>\n",
       "      <td>0</td>\n",
       "      <td>...</td>\n",
       "      <td>0</td>\n",
       "      <td>0</td>\n",
       "      <td>0</td>\n",
       "      <td>0</td>\n",
       "      <td>0</td>\n",
       "      <td>0</td>\n",
       "      <td>0</td>\n",
       "      <td>0</td>\n",
       "      <td>0</td>\n",
       "      <td>1</td>\n",
       "    </tr>\n",
       "    <tr>\n",
       "      <th>4</th>\n",
       "      <td>5</td>\n",
       "      <td>34</td>\n",
       "      <td>198693</td>\n",
       "      <td>6</td>\n",
       "      <td>Never-married</td>\n",
       "      <td>Other-service</td>\n",
       "      <td>Not-in-family</td>\n",
       "      <td>White</td>\n",
       "      <td>0</td>\n",
       "      <td>0</td>\n",
       "      <td>...</td>\n",
       "      <td>0</td>\n",
       "      <td>0</td>\n",
       "      <td>0</td>\n",
       "      <td>0</td>\n",
       "      <td>0</td>\n",
       "      <td>0</td>\n",
       "      <td>0</td>\n",
       "      <td>0</td>\n",
       "      <td>0</td>\n",
       "      <td>0</td>\n",
       "    </tr>\n",
       "  </tbody>\n",
       "</table>\n",
       "<p>5 rows × 38 columns</p>\n",
       "</div>"
      ],
      "text/plain": [
       "   Unnamed: 0  age  fnlwgt  educational-num      marital-status  \\\n",
       "0           0   25  226802                7       Never-married   \n",
       "1           1   38   89814                9  Married-civ-spouse   \n",
       "2           2   28  336951               12  Married-civ-spouse   \n",
       "3           3   44  160323               10  Married-civ-spouse   \n",
       "4           5   34  198693                6       Never-married   \n",
       "\n",
       "          occupation   relationship   race  capital-gain  capital-loss  ...  \\\n",
       "0  Machine-op-inspct      Own-child  Black             0             0  ...   \n",
       "1    Farming-fishing        Husband  White             0             0  ...   \n",
       "2    Protective-serv        Husband  White             0             0  ...   \n",
       "3  Machine-op-inspct        Husband  Black          7688             0  ...   \n",
       "4      Other-service  Not-in-family  White             0             0  ...   \n",
       "\n",
       "   9th Assoc-acdm  Assoc-voc  Bachelors  Doctorate  HS-grad  Masters  \\\n",
       "0    0          0          0          0          0        0        0   \n",
       "1    0          0          0          0          0        1        0   \n",
       "2    0          1          0          0          0        0        0   \n",
       "3    0          0          0          0          0        0        0   \n",
       "4    0          0          0          0          0        0        0   \n",
       "\n",
       "   Preschool  Prof-school  Some-college  \n",
       "0          0            0             0  \n",
       "1          0            0             0  \n",
       "2          0            0             0  \n",
       "3          0            0             1  \n",
       "4          0            0             0  \n",
       "\n",
       "[5 rows x 38 columns]"
      ]
     },
     "execution_count": 9,
     "metadata": {},
     "output_type": "execute_result"
    }
   ],
   "source": [
    "# OneHotEncoding education var\n",
    "dummy = pd.get_dummies(df['education'])\n",
    "\n",
    "df_1 = pd.concat((df_1, dummy), axis=1)\n",
    "\n",
    "df_1 = df_1.drop(['education'], axis=1)\n",
    "\n",
    "df_1.head()"
   ]
  },
  {
   "cell_type": "code",
   "execution_count": 10,
   "metadata": {},
   "outputs": [
    {
     "data": {
      "text/html": [
       "<div>\n",
       "<style scoped>\n",
       "    .dataframe tbody tr th:only-of-type {\n",
       "        vertical-align: middle;\n",
       "    }\n",
       "\n",
       "    .dataframe tbody tr th {\n",
       "        vertical-align: top;\n",
       "    }\n",
       "\n",
       "    .dataframe thead th {\n",
       "        text-align: right;\n",
       "    }\n",
       "</style>\n",
       "<table border=\"1\" class=\"dataframe\">\n",
       "  <thead>\n",
       "    <tr style=\"text-align: right;\">\n",
       "      <th></th>\n",
       "      <th>Unnamed: 0</th>\n",
       "      <th>age</th>\n",
       "      <th>fnlwgt</th>\n",
       "      <th>educational-num</th>\n",
       "      <th>occupation</th>\n",
       "      <th>relationship</th>\n",
       "      <th>race</th>\n",
       "      <th>capital-gain</th>\n",
       "      <th>capital-loss</th>\n",
       "      <th>hours-per-week</th>\n",
       "      <th>...</th>\n",
       "      <th>Preschool</th>\n",
       "      <th>Prof-school</th>\n",
       "      <th>Some-college</th>\n",
       "      <th>Divorced</th>\n",
       "      <th>Married-AF-spouse</th>\n",
       "      <th>Married-civ-spouse</th>\n",
       "      <th>Married-spouse-absent</th>\n",
       "      <th>Never-married</th>\n",
       "      <th>Separated</th>\n",
       "      <th>Widowed</th>\n",
       "    </tr>\n",
       "  </thead>\n",
       "  <tbody>\n",
       "    <tr>\n",
       "      <th>0</th>\n",
       "      <td>0</td>\n",
       "      <td>25</td>\n",
       "      <td>226802</td>\n",
       "      <td>7</td>\n",
       "      <td>Machine-op-inspct</td>\n",
       "      <td>Own-child</td>\n",
       "      <td>Black</td>\n",
       "      <td>0</td>\n",
       "      <td>0</td>\n",
       "      <td>40</td>\n",
       "      <td>...</td>\n",
       "      <td>0</td>\n",
       "      <td>0</td>\n",
       "      <td>0</td>\n",
       "      <td>0</td>\n",
       "      <td>0</td>\n",
       "      <td>0</td>\n",
       "      <td>0</td>\n",
       "      <td>1</td>\n",
       "      <td>0</td>\n",
       "      <td>0</td>\n",
       "    </tr>\n",
       "    <tr>\n",
       "      <th>1</th>\n",
       "      <td>1</td>\n",
       "      <td>38</td>\n",
       "      <td>89814</td>\n",
       "      <td>9</td>\n",
       "      <td>Farming-fishing</td>\n",
       "      <td>Husband</td>\n",
       "      <td>White</td>\n",
       "      <td>0</td>\n",
       "      <td>0</td>\n",
       "      <td>50</td>\n",
       "      <td>...</td>\n",
       "      <td>0</td>\n",
       "      <td>0</td>\n",
       "      <td>0</td>\n",
       "      <td>0</td>\n",
       "      <td>0</td>\n",
       "      <td>1</td>\n",
       "      <td>0</td>\n",
       "      <td>0</td>\n",
       "      <td>0</td>\n",
       "      <td>0</td>\n",
       "    </tr>\n",
       "    <tr>\n",
       "      <th>2</th>\n",
       "      <td>2</td>\n",
       "      <td>28</td>\n",
       "      <td>336951</td>\n",
       "      <td>12</td>\n",
       "      <td>Protective-serv</td>\n",
       "      <td>Husband</td>\n",
       "      <td>White</td>\n",
       "      <td>0</td>\n",
       "      <td>0</td>\n",
       "      <td>40</td>\n",
       "      <td>...</td>\n",
       "      <td>0</td>\n",
       "      <td>0</td>\n",
       "      <td>0</td>\n",
       "      <td>0</td>\n",
       "      <td>0</td>\n",
       "      <td>1</td>\n",
       "      <td>0</td>\n",
       "      <td>0</td>\n",
       "      <td>0</td>\n",
       "      <td>0</td>\n",
       "    </tr>\n",
       "    <tr>\n",
       "      <th>3</th>\n",
       "      <td>3</td>\n",
       "      <td>44</td>\n",
       "      <td>160323</td>\n",
       "      <td>10</td>\n",
       "      <td>Machine-op-inspct</td>\n",
       "      <td>Husband</td>\n",
       "      <td>Black</td>\n",
       "      <td>7688</td>\n",
       "      <td>0</td>\n",
       "      <td>40</td>\n",
       "      <td>...</td>\n",
       "      <td>0</td>\n",
       "      <td>0</td>\n",
       "      <td>1</td>\n",
       "      <td>0</td>\n",
       "      <td>0</td>\n",
       "      <td>1</td>\n",
       "      <td>0</td>\n",
       "      <td>0</td>\n",
       "      <td>0</td>\n",
       "      <td>0</td>\n",
       "    </tr>\n",
       "    <tr>\n",
       "      <th>4</th>\n",
       "      <td>5</td>\n",
       "      <td>34</td>\n",
       "      <td>198693</td>\n",
       "      <td>6</td>\n",
       "      <td>Other-service</td>\n",
       "      <td>Not-in-family</td>\n",
       "      <td>White</td>\n",
       "      <td>0</td>\n",
       "      <td>0</td>\n",
       "      <td>30</td>\n",
       "      <td>...</td>\n",
       "      <td>0</td>\n",
       "      <td>0</td>\n",
       "      <td>0</td>\n",
       "      <td>0</td>\n",
       "      <td>0</td>\n",
       "      <td>0</td>\n",
       "      <td>0</td>\n",
       "      <td>1</td>\n",
       "      <td>0</td>\n",
       "      <td>0</td>\n",
       "    </tr>\n",
       "  </tbody>\n",
       "</table>\n",
       "<p>5 rows × 44 columns</p>\n",
       "</div>"
      ],
      "text/plain": [
       "   Unnamed: 0  age  fnlwgt  educational-num         occupation   relationship  \\\n",
       "0           0   25  226802                7  Machine-op-inspct      Own-child   \n",
       "1           1   38   89814                9    Farming-fishing        Husband   \n",
       "2           2   28  336951               12    Protective-serv        Husband   \n",
       "3           3   44  160323               10  Machine-op-inspct        Husband   \n",
       "4           5   34  198693                6      Other-service  Not-in-family   \n",
       "\n",
       "    race  capital-gain  capital-loss  hours-per-week  ... Preschool  \\\n",
       "0  Black             0             0              40  ...         0   \n",
       "1  White             0             0              50  ...         0   \n",
       "2  White             0             0              40  ...         0   \n",
       "3  Black          7688             0              40  ...         0   \n",
       "4  White             0             0              30  ...         0   \n",
       "\n",
       "   Prof-school  Some-college  Divorced  Married-AF-spouse  Married-civ-spouse  \\\n",
       "0            0             0         0                  0                   0   \n",
       "1            0             0         0                  0                   1   \n",
       "2            0             0         0                  0                   1   \n",
       "3            0             1         0                  0                   1   \n",
       "4            0             0         0                  0                   0   \n",
       "\n",
       "   Married-spouse-absent  Never-married  Separated  Widowed  \n",
       "0                      0              1          0        0  \n",
       "1                      0              0          0        0  \n",
       "2                      0              0          0        0  \n",
       "3                      0              0          0        0  \n",
       "4                      0              1          0        0  \n",
       "\n",
       "[5 rows x 44 columns]"
      ]
     },
     "execution_count": 10,
     "metadata": {},
     "output_type": "execute_result"
    }
   ],
   "source": [
    "#OneHotEncoding marital-status var\n",
    "dummy = pd.get_dummies(df['marital-status'])\n",
    "\n",
    "df_1 = pd.concat((df_1, dummy), axis=1)\n",
    "\n",
    "df_1 = df_1.drop(['marital-status'], axis=1)\n",
    "\n",
    "df_1.head()"
   ]
  },
  {
   "cell_type": "code",
   "execution_count": 11,
   "metadata": {},
   "outputs": [
    {
     "data": {
      "text/html": [
       "<div>\n",
       "<style scoped>\n",
       "    .dataframe tbody tr th:only-of-type {\n",
       "        vertical-align: middle;\n",
       "    }\n",
       "\n",
       "    .dataframe tbody tr th {\n",
       "        vertical-align: top;\n",
       "    }\n",
       "\n",
       "    .dataframe thead th {\n",
       "        text-align: right;\n",
       "    }\n",
       "</style>\n",
       "<table border=\"1\" class=\"dataframe\">\n",
       "  <thead>\n",
       "    <tr style=\"text-align: right;\">\n",
       "      <th></th>\n",
       "      <th>Unnamed: 0</th>\n",
       "      <th>age</th>\n",
       "      <th>fnlwgt</th>\n",
       "      <th>educational-num</th>\n",
       "      <th>relationship</th>\n",
       "      <th>race</th>\n",
       "      <th>capital-gain</th>\n",
       "      <th>capital-loss</th>\n",
       "      <th>hours-per-week</th>\n",
       "      <th>native-country</th>\n",
       "      <th>...</th>\n",
       "      <th>Farming-fishing</th>\n",
       "      <th>Handlers-cleaners</th>\n",
       "      <th>Machine-op-inspct</th>\n",
       "      <th>Other-service</th>\n",
       "      <th>Priv-house-serv</th>\n",
       "      <th>Prof-specialty</th>\n",
       "      <th>Protective-serv</th>\n",
       "      <th>Sales</th>\n",
       "      <th>Tech-support</th>\n",
       "      <th>Transport-moving</th>\n",
       "    </tr>\n",
       "  </thead>\n",
       "  <tbody>\n",
       "    <tr>\n",
       "      <th>0</th>\n",
       "      <td>0</td>\n",
       "      <td>25</td>\n",
       "      <td>226802</td>\n",
       "      <td>7</td>\n",
       "      <td>Own-child</td>\n",
       "      <td>Black</td>\n",
       "      <td>0</td>\n",
       "      <td>0</td>\n",
       "      <td>40</td>\n",
       "      <td>United-States</td>\n",
       "      <td>...</td>\n",
       "      <td>0</td>\n",
       "      <td>0</td>\n",
       "      <td>1</td>\n",
       "      <td>0</td>\n",
       "      <td>0</td>\n",
       "      <td>0</td>\n",
       "      <td>0</td>\n",
       "      <td>0</td>\n",
       "      <td>0</td>\n",
       "      <td>0</td>\n",
       "    </tr>\n",
       "    <tr>\n",
       "      <th>1</th>\n",
       "      <td>1</td>\n",
       "      <td>38</td>\n",
       "      <td>89814</td>\n",
       "      <td>9</td>\n",
       "      <td>Husband</td>\n",
       "      <td>White</td>\n",
       "      <td>0</td>\n",
       "      <td>0</td>\n",
       "      <td>50</td>\n",
       "      <td>United-States</td>\n",
       "      <td>...</td>\n",
       "      <td>1</td>\n",
       "      <td>0</td>\n",
       "      <td>0</td>\n",
       "      <td>0</td>\n",
       "      <td>0</td>\n",
       "      <td>0</td>\n",
       "      <td>0</td>\n",
       "      <td>0</td>\n",
       "      <td>0</td>\n",
       "      <td>0</td>\n",
       "    </tr>\n",
       "    <tr>\n",
       "      <th>2</th>\n",
       "      <td>2</td>\n",
       "      <td>28</td>\n",
       "      <td>336951</td>\n",
       "      <td>12</td>\n",
       "      <td>Husband</td>\n",
       "      <td>White</td>\n",
       "      <td>0</td>\n",
       "      <td>0</td>\n",
       "      <td>40</td>\n",
       "      <td>United-States</td>\n",
       "      <td>...</td>\n",
       "      <td>0</td>\n",
       "      <td>0</td>\n",
       "      <td>0</td>\n",
       "      <td>0</td>\n",
       "      <td>0</td>\n",
       "      <td>0</td>\n",
       "      <td>1</td>\n",
       "      <td>0</td>\n",
       "      <td>0</td>\n",
       "      <td>0</td>\n",
       "    </tr>\n",
       "    <tr>\n",
       "      <th>3</th>\n",
       "      <td>3</td>\n",
       "      <td>44</td>\n",
       "      <td>160323</td>\n",
       "      <td>10</td>\n",
       "      <td>Husband</td>\n",
       "      <td>Black</td>\n",
       "      <td>7688</td>\n",
       "      <td>0</td>\n",
       "      <td>40</td>\n",
       "      <td>United-States</td>\n",
       "      <td>...</td>\n",
       "      <td>0</td>\n",
       "      <td>0</td>\n",
       "      <td>1</td>\n",
       "      <td>0</td>\n",
       "      <td>0</td>\n",
       "      <td>0</td>\n",
       "      <td>0</td>\n",
       "      <td>0</td>\n",
       "      <td>0</td>\n",
       "      <td>0</td>\n",
       "    </tr>\n",
       "    <tr>\n",
       "      <th>4</th>\n",
       "      <td>5</td>\n",
       "      <td>34</td>\n",
       "      <td>198693</td>\n",
       "      <td>6</td>\n",
       "      <td>Not-in-family</td>\n",
       "      <td>White</td>\n",
       "      <td>0</td>\n",
       "      <td>0</td>\n",
       "      <td>30</td>\n",
       "      <td>United-States</td>\n",
       "      <td>...</td>\n",
       "      <td>0</td>\n",
       "      <td>0</td>\n",
       "      <td>0</td>\n",
       "      <td>1</td>\n",
       "      <td>0</td>\n",
       "      <td>0</td>\n",
       "      <td>0</td>\n",
       "      <td>0</td>\n",
       "      <td>0</td>\n",
       "      <td>0</td>\n",
       "    </tr>\n",
       "  </tbody>\n",
       "</table>\n",
       "<p>5 rows × 57 columns</p>\n",
       "</div>"
      ],
      "text/plain": [
       "   Unnamed: 0  age  fnlwgt  educational-num   relationship   race  \\\n",
       "0           0   25  226802                7      Own-child  Black   \n",
       "1           1   38   89814                9        Husband  White   \n",
       "2           2   28  336951               12        Husband  White   \n",
       "3           3   44  160323               10        Husband  Black   \n",
       "4           5   34  198693                6  Not-in-family  White   \n",
       "\n",
       "   capital-gain  capital-loss  hours-per-week native-country  ...  \\\n",
       "0             0             0              40  United-States  ...   \n",
       "1             0             0              50  United-States  ...   \n",
       "2             0             0              40  United-States  ...   \n",
       "3          7688             0              40  United-States  ...   \n",
       "4             0             0              30  United-States  ...   \n",
       "\n",
       "   Farming-fishing  Handlers-cleaners  Machine-op-inspct  Other-service  \\\n",
       "0                0                  0                  1              0   \n",
       "1                1                  0                  0              0   \n",
       "2                0                  0                  0              0   \n",
       "3                0                  0                  1              0   \n",
       "4                0                  0                  0              1   \n",
       "\n",
       "   Priv-house-serv  Prof-specialty  Protective-serv  Sales  Tech-support  \\\n",
       "0                0               0                0      0             0   \n",
       "1                0               0                0      0             0   \n",
       "2                0               0                1      0             0   \n",
       "3                0               0                0      0             0   \n",
       "4                0               0                0      0             0   \n",
       "\n",
       "   Transport-moving  \n",
       "0                 0  \n",
       "1                 0  \n",
       "2                 0  \n",
       "3                 0  \n",
       "4                 0  \n",
       "\n",
       "[5 rows x 57 columns]"
      ]
     },
     "execution_count": 11,
     "metadata": {},
     "output_type": "execute_result"
    }
   ],
   "source": [
    "#OneHotEncoding occupation var\n",
    "dummy = pd.get_dummies(df['occupation'])\n",
    "\n",
    "df_1 = pd.concat((df_1, dummy), axis=1)\n",
    "\n",
    "df_1 = df_1.drop(['occupation'], axis=1)\n",
    "\n",
    "df_1.head()"
   ]
  },
  {
   "cell_type": "code",
   "execution_count": 12,
   "metadata": {},
   "outputs": [
    {
     "data": {
      "text/html": [
       "<div>\n",
       "<style scoped>\n",
       "    .dataframe tbody tr th:only-of-type {\n",
       "        vertical-align: middle;\n",
       "    }\n",
       "\n",
       "    .dataframe tbody tr th {\n",
       "        vertical-align: top;\n",
       "    }\n",
       "\n",
       "    .dataframe thead th {\n",
       "        text-align: right;\n",
       "    }\n",
       "</style>\n",
       "<table border=\"1\" class=\"dataframe\">\n",
       "  <thead>\n",
       "    <tr style=\"text-align: right;\">\n",
       "      <th></th>\n",
       "      <th>Unnamed: 0</th>\n",
       "      <th>age</th>\n",
       "      <th>fnlwgt</th>\n",
       "      <th>educational-num</th>\n",
       "      <th>race</th>\n",
       "      <th>capital-gain</th>\n",
       "      <th>capital-loss</th>\n",
       "      <th>hours-per-week</th>\n",
       "      <th>native-country</th>\n",
       "      <th>income</th>\n",
       "      <th>...</th>\n",
       "      <th>Protective-serv</th>\n",
       "      <th>Sales</th>\n",
       "      <th>Tech-support</th>\n",
       "      <th>Transport-moving</th>\n",
       "      <th>Husband</th>\n",
       "      <th>Not-in-family</th>\n",
       "      <th>Other-relative</th>\n",
       "      <th>Own-child</th>\n",
       "      <th>Unmarried</th>\n",
       "      <th>Wife</th>\n",
       "    </tr>\n",
       "  </thead>\n",
       "  <tbody>\n",
       "    <tr>\n",
       "      <th>0</th>\n",
       "      <td>0</td>\n",
       "      <td>25</td>\n",
       "      <td>226802</td>\n",
       "      <td>7</td>\n",
       "      <td>Black</td>\n",
       "      <td>0</td>\n",
       "      <td>0</td>\n",
       "      <td>40</td>\n",
       "      <td>United-States</td>\n",
       "      <td>0</td>\n",
       "      <td>...</td>\n",
       "      <td>0</td>\n",
       "      <td>0</td>\n",
       "      <td>0</td>\n",
       "      <td>0</td>\n",
       "      <td>0</td>\n",
       "      <td>0</td>\n",
       "      <td>0</td>\n",
       "      <td>1</td>\n",
       "      <td>0</td>\n",
       "      <td>0</td>\n",
       "    </tr>\n",
       "    <tr>\n",
       "      <th>1</th>\n",
       "      <td>1</td>\n",
       "      <td>38</td>\n",
       "      <td>89814</td>\n",
       "      <td>9</td>\n",
       "      <td>White</td>\n",
       "      <td>0</td>\n",
       "      <td>0</td>\n",
       "      <td>50</td>\n",
       "      <td>United-States</td>\n",
       "      <td>0</td>\n",
       "      <td>...</td>\n",
       "      <td>0</td>\n",
       "      <td>0</td>\n",
       "      <td>0</td>\n",
       "      <td>0</td>\n",
       "      <td>1</td>\n",
       "      <td>0</td>\n",
       "      <td>0</td>\n",
       "      <td>0</td>\n",
       "      <td>0</td>\n",
       "      <td>0</td>\n",
       "    </tr>\n",
       "    <tr>\n",
       "      <th>2</th>\n",
       "      <td>2</td>\n",
       "      <td>28</td>\n",
       "      <td>336951</td>\n",
       "      <td>12</td>\n",
       "      <td>White</td>\n",
       "      <td>0</td>\n",
       "      <td>0</td>\n",
       "      <td>40</td>\n",
       "      <td>United-States</td>\n",
       "      <td>1</td>\n",
       "      <td>...</td>\n",
       "      <td>1</td>\n",
       "      <td>0</td>\n",
       "      <td>0</td>\n",
       "      <td>0</td>\n",
       "      <td>1</td>\n",
       "      <td>0</td>\n",
       "      <td>0</td>\n",
       "      <td>0</td>\n",
       "      <td>0</td>\n",
       "      <td>0</td>\n",
       "    </tr>\n",
       "    <tr>\n",
       "      <th>3</th>\n",
       "      <td>3</td>\n",
       "      <td>44</td>\n",
       "      <td>160323</td>\n",
       "      <td>10</td>\n",
       "      <td>Black</td>\n",
       "      <td>7688</td>\n",
       "      <td>0</td>\n",
       "      <td>40</td>\n",
       "      <td>United-States</td>\n",
       "      <td>1</td>\n",
       "      <td>...</td>\n",
       "      <td>0</td>\n",
       "      <td>0</td>\n",
       "      <td>0</td>\n",
       "      <td>0</td>\n",
       "      <td>1</td>\n",
       "      <td>0</td>\n",
       "      <td>0</td>\n",
       "      <td>0</td>\n",
       "      <td>0</td>\n",
       "      <td>0</td>\n",
       "    </tr>\n",
       "    <tr>\n",
       "      <th>4</th>\n",
       "      <td>5</td>\n",
       "      <td>34</td>\n",
       "      <td>198693</td>\n",
       "      <td>6</td>\n",
       "      <td>White</td>\n",
       "      <td>0</td>\n",
       "      <td>0</td>\n",
       "      <td>30</td>\n",
       "      <td>United-States</td>\n",
       "      <td>0</td>\n",
       "      <td>...</td>\n",
       "      <td>0</td>\n",
       "      <td>0</td>\n",
       "      <td>0</td>\n",
       "      <td>0</td>\n",
       "      <td>0</td>\n",
       "      <td>1</td>\n",
       "      <td>0</td>\n",
       "      <td>0</td>\n",
       "      <td>0</td>\n",
       "      <td>0</td>\n",
       "    </tr>\n",
       "  </tbody>\n",
       "</table>\n",
       "<p>5 rows × 62 columns</p>\n",
       "</div>"
      ],
      "text/plain": [
       "   Unnamed: 0  age  fnlwgt  educational-num   race  capital-gain  \\\n",
       "0           0   25  226802                7  Black             0   \n",
       "1           1   38   89814                9  White             0   \n",
       "2           2   28  336951               12  White             0   \n",
       "3           3   44  160323               10  Black          7688   \n",
       "4           5   34  198693                6  White             0   \n",
       "\n",
       "   capital-loss  hours-per-week native-country  income  ...  Protective-serv  \\\n",
       "0             0              40  United-States       0  ...                0   \n",
       "1             0              50  United-States       0  ...                0   \n",
       "2             0              40  United-States       1  ...                1   \n",
       "3             0              40  United-States       1  ...                0   \n",
       "4             0              30  United-States       0  ...                0   \n",
       "\n",
       "   Sales  Tech-support  Transport-moving  Husband  Not-in-family  \\\n",
       "0      0             0                 0        0              0   \n",
       "1      0             0                 0        1              0   \n",
       "2      0             0                 0        1              0   \n",
       "3      0             0                 0        1              0   \n",
       "4      0             0                 0        0              1   \n",
       "\n",
       "   Other-relative  Own-child  Unmarried  Wife  \n",
       "0               0          1          0     0  \n",
       "1               0          0          0     0  \n",
       "2               0          0          0     0  \n",
       "3               0          0          0     0  \n",
       "4               0          0          0     0  \n",
       "\n",
       "[5 rows x 62 columns]"
      ]
     },
     "execution_count": 12,
     "metadata": {},
     "output_type": "execute_result"
    }
   ],
   "source": [
    "#OneHotEncoding relationship var\n",
    "dummy = pd.get_dummies(df['relationship'])\n",
    "\n",
    "df_1 = pd.concat((df_1, dummy), axis=1)\n",
    "\n",
    "df_1 = df_1.drop(['relationship'], axis=1)\n",
    "\n",
    "df_1.head()"
   ]
  },
  {
   "cell_type": "code",
   "execution_count": 13,
   "metadata": {},
   "outputs": [
    {
     "data": {
      "text/html": [
       "<div>\n",
       "<style scoped>\n",
       "    .dataframe tbody tr th:only-of-type {\n",
       "        vertical-align: middle;\n",
       "    }\n",
       "\n",
       "    .dataframe tbody tr th {\n",
       "        vertical-align: top;\n",
       "    }\n",
       "\n",
       "    .dataframe thead th {\n",
       "        text-align: right;\n",
       "    }\n",
       "</style>\n",
       "<table border=\"1\" class=\"dataframe\">\n",
       "  <thead>\n",
       "    <tr style=\"text-align: right;\">\n",
       "      <th></th>\n",
       "      <th>Unnamed: 0</th>\n",
       "      <th>age</th>\n",
       "      <th>fnlwgt</th>\n",
       "      <th>educational-num</th>\n",
       "      <th>capital-gain</th>\n",
       "      <th>capital-loss</th>\n",
       "      <th>hours-per-week</th>\n",
       "      <th>native-country</th>\n",
       "      <th>income</th>\n",
       "      <th>Federal-gov</th>\n",
       "      <th>...</th>\n",
       "      <th>Not-in-family</th>\n",
       "      <th>Other-relative</th>\n",
       "      <th>Own-child</th>\n",
       "      <th>Unmarried</th>\n",
       "      <th>Wife</th>\n",
       "      <th>Amer-Indian-Eskimo</th>\n",
       "      <th>Asian-Pac-Islander</th>\n",
       "      <th>Black</th>\n",
       "      <th>Other</th>\n",
       "      <th>White</th>\n",
       "    </tr>\n",
       "  </thead>\n",
       "  <tbody>\n",
       "    <tr>\n",
       "      <th>0</th>\n",
       "      <td>0</td>\n",
       "      <td>25</td>\n",
       "      <td>226802</td>\n",
       "      <td>7</td>\n",
       "      <td>0</td>\n",
       "      <td>0</td>\n",
       "      <td>40</td>\n",
       "      <td>United-States</td>\n",
       "      <td>0</td>\n",
       "      <td>0</td>\n",
       "      <td>...</td>\n",
       "      <td>0</td>\n",
       "      <td>0</td>\n",
       "      <td>1</td>\n",
       "      <td>0</td>\n",
       "      <td>0</td>\n",
       "      <td>0</td>\n",
       "      <td>0</td>\n",
       "      <td>1</td>\n",
       "      <td>0</td>\n",
       "      <td>0</td>\n",
       "    </tr>\n",
       "    <tr>\n",
       "      <th>1</th>\n",
       "      <td>1</td>\n",
       "      <td>38</td>\n",
       "      <td>89814</td>\n",
       "      <td>9</td>\n",
       "      <td>0</td>\n",
       "      <td>0</td>\n",
       "      <td>50</td>\n",
       "      <td>United-States</td>\n",
       "      <td>0</td>\n",
       "      <td>0</td>\n",
       "      <td>...</td>\n",
       "      <td>0</td>\n",
       "      <td>0</td>\n",
       "      <td>0</td>\n",
       "      <td>0</td>\n",
       "      <td>0</td>\n",
       "      <td>0</td>\n",
       "      <td>0</td>\n",
       "      <td>0</td>\n",
       "      <td>0</td>\n",
       "      <td>1</td>\n",
       "    </tr>\n",
       "    <tr>\n",
       "      <th>2</th>\n",
       "      <td>2</td>\n",
       "      <td>28</td>\n",
       "      <td>336951</td>\n",
       "      <td>12</td>\n",
       "      <td>0</td>\n",
       "      <td>0</td>\n",
       "      <td>40</td>\n",
       "      <td>United-States</td>\n",
       "      <td>1</td>\n",
       "      <td>0</td>\n",
       "      <td>...</td>\n",
       "      <td>0</td>\n",
       "      <td>0</td>\n",
       "      <td>0</td>\n",
       "      <td>0</td>\n",
       "      <td>0</td>\n",
       "      <td>0</td>\n",
       "      <td>0</td>\n",
       "      <td>0</td>\n",
       "      <td>0</td>\n",
       "      <td>1</td>\n",
       "    </tr>\n",
       "    <tr>\n",
       "      <th>3</th>\n",
       "      <td>3</td>\n",
       "      <td>44</td>\n",
       "      <td>160323</td>\n",
       "      <td>10</td>\n",
       "      <td>7688</td>\n",
       "      <td>0</td>\n",
       "      <td>40</td>\n",
       "      <td>United-States</td>\n",
       "      <td>1</td>\n",
       "      <td>0</td>\n",
       "      <td>...</td>\n",
       "      <td>0</td>\n",
       "      <td>0</td>\n",
       "      <td>0</td>\n",
       "      <td>0</td>\n",
       "      <td>0</td>\n",
       "      <td>0</td>\n",
       "      <td>0</td>\n",
       "      <td>1</td>\n",
       "      <td>0</td>\n",
       "      <td>0</td>\n",
       "    </tr>\n",
       "    <tr>\n",
       "      <th>4</th>\n",
       "      <td>5</td>\n",
       "      <td>34</td>\n",
       "      <td>198693</td>\n",
       "      <td>6</td>\n",
       "      <td>0</td>\n",
       "      <td>0</td>\n",
       "      <td>30</td>\n",
       "      <td>United-States</td>\n",
       "      <td>0</td>\n",
       "      <td>0</td>\n",
       "      <td>...</td>\n",
       "      <td>1</td>\n",
       "      <td>0</td>\n",
       "      <td>0</td>\n",
       "      <td>0</td>\n",
       "      <td>0</td>\n",
       "      <td>0</td>\n",
       "      <td>0</td>\n",
       "      <td>0</td>\n",
       "      <td>0</td>\n",
       "      <td>1</td>\n",
       "    </tr>\n",
       "  </tbody>\n",
       "</table>\n",
       "<p>5 rows × 66 columns</p>\n",
       "</div>"
      ],
      "text/plain": [
       "   Unnamed: 0  age  fnlwgt  educational-num  capital-gain  capital-loss  \\\n",
       "0           0   25  226802                7             0             0   \n",
       "1           1   38   89814                9             0             0   \n",
       "2           2   28  336951               12             0             0   \n",
       "3           3   44  160323               10          7688             0   \n",
       "4           5   34  198693                6             0             0   \n",
       "\n",
       "   hours-per-week native-country  income  Federal-gov  ...  Not-in-family  \\\n",
       "0              40  United-States       0            0  ...              0   \n",
       "1              50  United-States       0            0  ...              0   \n",
       "2              40  United-States       1            0  ...              0   \n",
       "3              40  United-States       1            0  ...              0   \n",
       "4              30  United-States       0            0  ...              1   \n",
       "\n",
       "   Other-relative  Own-child  Unmarried  Wife  Amer-Indian-Eskimo  \\\n",
       "0               0          1          0     0                   0   \n",
       "1               0          0          0     0                   0   \n",
       "2               0          0          0     0                   0   \n",
       "3               0          0          0     0                   0   \n",
       "4               0          0          0     0                   0   \n",
       "\n",
       "   Asian-Pac-Islander  Black  Other  White  \n",
       "0                   0      1      0      0  \n",
       "1                   0      0      0      1  \n",
       "2                   0      0      0      1  \n",
       "3                   0      1      0      0  \n",
       "4                   0      0      0      1  \n",
       "\n",
       "[5 rows x 66 columns]"
      ]
     },
     "execution_count": 13,
     "metadata": {},
     "output_type": "execute_result"
    }
   ],
   "source": [
    "#OneHotEncoding race var\n",
    "dummy = pd.get_dummies(df['race'])\n",
    "\n",
    "df_1 = pd.concat((df_1, dummy), axis=1)\n",
    "\n",
    "df_1 = df_1.drop(['race'], axis=1)\n",
    "\n",
    "df_1.head()"
   ]
  },
  {
   "cell_type": "code",
   "execution_count": 14,
   "metadata": {},
   "outputs": [
    {
     "data": {
      "text/html": [
       "<div>\n",
       "<style scoped>\n",
       "    .dataframe tbody tr th:only-of-type {\n",
       "        vertical-align: middle;\n",
       "    }\n",
       "\n",
       "    .dataframe tbody tr th {\n",
       "        vertical-align: top;\n",
       "    }\n",
       "\n",
       "    .dataframe thead th {\n",
       "        text-align: right;\n",
       "    }\n",
       "</style>\n",
       "<table border=\"1\" class=\"dataframe\">\n",
       "  <thead>\n",
       "    <tr style=\"text-align: right;\">\n",
       "      <th></th>\n",
       "      <th>Unnamed: 0</th>\n",
       "      <th>age</th>\n",
       "      <th>fnlwgt</th>\n",
       "      <th>educational-num</th>\n",
       "      <th>capital-gain</th>\n",
       "      <th>capital-loss</th>\n",
       "      <th>hours-per-week</th>\n",
       "      <th>income</th>\n",
       "      <th>Federal-gov</th>\n",
       "      <th>Local-gov</th>\n",
       "      <th>...</th>\n",
       "      <th>Portugal</th>\n",
       "      <th>Puerto-Rico</th>\n",
       "      <th>Scotland</th>\n",
       "      <th>South</th>\n",
       "      <th>Taiwan</th>\n",
       "      <th>Thailand</th>\n",
       "      <th>Trinadad&amp;Tobago</th>\n",
       "      <th>United-States</th>\n",
       "      <th>Vietnam</th>\n",
       "      <th>Yugoslavia</th>\n",
       "    </tr>\n",
       "  </thead>\n",
       "  <tbody>\n",
       "    <tr>\n",
       "      <th>0</th>\n",
       "      <td>0</td>\n",
       "      <td>25</td>\n",
       "      <td>226802</td>\n",
       "      <td>7</td>\n",
       "      <td>0</td>\n",
       "      <td>0</td>\n",
       "      <td>40</td>\n",
       "      <td>0</td>\n",
       "      <td>0</td>\n",
       "      <td>0</td>\n",
       "      <td>...</td>\n",
       "      <td>0</td>\n",
       "      <td>0</td>\n",
       "      <td>0</td>\n",
       "      <td>0</td>\n",
       "      <td>0</td>\n",
       "      <td>0</td>\n",
       "      <td>0</td>\n",
       "      <td>1</td>\n",
       "      <td>0</td>\n",
       "      <td>0</td>\n",
       "    </tr>\n",
       "    <tr>\n",
       "      <th>1</th>\n",
       "      <td>1</td>\n",
       "      <td>38</td>\n",
       "      <td>89814</td>\n",
       "      <td>9</td>\n",
       "      <td>0</td>\n",
       "      <td>0</td>\n",
       "      <td>50</td>\n",
       "      <td>0</td>\n",
       "      <td>0</td>\n",
       "      <td>0</td>\n",
       "      <td>...</td>\n",
       "      <td>0</td>\n",
       "      <td>0</td>\n",
       "      <td>0</td>\n",
       "      <td>0</td>\n",
       "      <td>0</td>\n",
       "      <td>0</td>\n",
       "      <td>0</td>\n",
       "      <td>1</td>\n",
       "      <td>0</td>\n",
       "      <td>0</td>\n",
       "    </tr>\n",
       "    <tr>\n",
       "      <th>2</th>\n",
       "      <td>2</td>\n",
       "      <td>28</td>\n",
       "      <td>336951</td>\n",
       "      <td>12</td>\n",
       "      <td>0</td>\n",
       "      <td>0</td>\n",
       "      <td>40</td>\n",
       "      <td>1</td>\n",
       "      <td>0</td>\n",
       "      <td>1</td>\n",
       "      <td>...</td>\n",
       "      <td>0</td>\n",
       "      <td>0</td>\n",
       "      <td>0</td>\n",
       "      <td>0</td>\n",
       "      <td>0</td>\n",
       "      <td>0</td>\n",
       "      <td>0</td>\n",
       "      <td>1</td>\n",
       "      <td>0</td>\n",
       "      <td>0</td>\n",
       "    </tr>\n",
       "    <tr>\n",
       "      <th>3</th>\n",
       "      <td>3</td>\n",
       "      <td>44</td>\n",
       "      <td>160323</td>\n",
       "      <td>10</td>\n",
       "      <td>7688</td>\n",
       "      <td>0</td>\n",
       "      <td>40</td>\n",
       "      <td>1</td>\n",
       "      <td>0</td>\n",
       "      <td>0</td>\n",
       "      <td>...</td>\n",
       "      <td>0</td>\n",
       "      <td>0</td>\n",
       "      <td>0</td>\n",
       "      <td>0</td>\n",
       "      <td>0</td>\n",
       "      <td>0</td>\n",
       "      <td>0</td>\n",
       "      <td>1</td>\n",
       "      <td>0</td>\n",
       "      <td>0</td>\n",
       "    </tr>\n",
       "    <tr>\n",
       "      <th>4</th>\n",
       "      <td>5</td>\n",
       "      <td>34</td>\n",
       "      <td>198693</td>\n",
       "      <td>6</td>\n",
       "      <td>0</td>\n",
       "      <td>0</td>\n",
       "      <td>30</td>\n",
       "      <td>0</td>\n",
       "      <td>0</td>\n",
       "      <td>0</td>\n",
       "      <td>...</td>\n",
       "      <td>0</td>\n",
       "      <td>0</td>\n",
       "      <td>0</td>\n",
       "      <td>0</td>\n",
       "      <td>0</td>\n",
       "      <td>0</td>\n",
       "      <td>0</td>\n",
       "      <td>1</td>\n",
       "      <td>0</td>\n",
       "      <td>0</td>\n",
       "    </tr>\n",
       "  </tbody>\n",
       "</table>\n",
       "<p>5 rows × 106 columns</p>\n",
       "</div>"
      ],
      "text/plain": [
       "   Unnamed: 0  age  fnlwgt  educational-num  capital-gain  capital-loss  \\\n",
       "0           0   25  226802                7             0             0   \n",
       "1           1   38   89814                9             0             0   \n",
       "2           2   28  336951               12             0             0   \n",
       "3           3   44  160323               10          7688             0   \n",
       "4           5   34  198693                6             0             0   \n",
       "\n",
       "   hours-per-week  income  Federal-gov  Local-gov  ...  Portugal  Puerto-Rico  \\\n",
       "0              40       0            0          0  ...         0            0   \n",
       "1              50       0            0          0  ...         0            0   \n",
       "2              40       1            0          1  ...         0            0   \n",
       "3              40       1            0          0  ...         0            0   \n",
       "4              30       0            0          0  ...         0            0   \n",
       "\n",
       "   Scotland  South  Taiwan  Thailand  Trinadad&Tobago  United-States  Vietnam  \\\n",
       "0         0      0       0         0                0              1        0   \n",
       "1         0      0       0         0                0              1        0   \n",
       "2         0      0       0         0                0              1        0   \n",
       "3         0      0       0         0                0              1        0   \n",
       "4         0      0       0         0                0              1        0   \n",
       "\n",
       "   Yugoslavia  \n",
       "0           0  \n",
       "1           0  \n",
       "2           0  \n",
       "3           0  \n",
       "4           0  \n",
       "\n",
       "[5 rows x 106 columns]"
      ]
     },
     "execution_count": 14,
     "metadata": {},
     "output_type": "execute_result"
    }
   ],
   "source": [
    "#OneHotEncoding native-country var\n",
    "dummy = pd.get_dummies(df['native-country'])\n",
    "\n",
    "df_1 = pd.concat((df_1, dummy), axis=1)\n",
    "\n",
    "df_1 = df_1.drop(['native-country'], axis=1)\n",
    "\n",
    "df_1.head()"
   ]
  },
  {
   "cell_type": "code",
   "execution_count": 15,
   "metadata": {},
   "outputs": [
    {
     "data": {
      "text/html": [
       "<div>\n",
       "<style scoped>\n",
       "    .dataframe tbody tr th:only-of-type {\n",
       "        vertical-align: middle;\n",
       "    }\n",
       "\n",
       "    .dataframe tbody tr th {\n",
       "        vertical-align: top;\n",
       "    }\n",
       "\n",
       "    .dataframe thead th {\n",
       "        text-align: right;\n",
       "    }\n",
       "</style>\n",
       "<table border=\"1\" class=\"dataframe\">\n",
       "  <thead>\n",
       "    <tr style=\"text-align: right;\">\n",
       "      <th></th>\n",
       "      <th>age</th>\n",
       "      <th>fnlwgt</th>\n",
       "      <th>educational-num</th>\n",
       "      <th>capital-gain</th>\n",
       "      <th>capital-loss</th>\n",
       "      <th>hours-per-week</th>\n",
       "      <th>income</th>\n",
       "      <th>Federal-gov</th>\n",
       "      <th>Local-gov</th>\n",
       "      <th>Private</th>\n",
       "      <th>...</th>\n",
       "      <th>Portugal</th>\n",
       "      <th>Puerto-Rico</th>\n",
       "      <th>Scotland</th>\n",
       "      <th>South</th>\n",
       "      <th>Taiwan</th>\n",
       "      <th>Thailand</th>\n",
       "      <th>Trinadad&amp;Tobago</th>\n",
       "      <th>United-States</th>\n",
       "      <th>Vietnam</th>\n",
       "      <th>Yugoslavia</th>\n",
       "    </tr>\n",
       "  </thead>\n",
       "  <tbody>\n",
       "    <tr>\n",
       "      <th>0</th>\n",
       "      <td>25</td>\n",
       "      <td>226802</td>\n",
       "      <td>7</td>\n",
       "      <td>0</td>\n",
       "      <td>0</td>\n",
       "      <td>40</td>\n",
       "      <td>0</td>\n",
       "      <td>0</td>\n",
       "      <td>0</td>\n",
       "      <td>1</td>\n",
       "      <td>...</td>\n",
       "      <td>0</td>\n",
       "      <td>0</td>\n",
       "      <td>0</td>\n",
       "      <td>0</td>\n",
       "      <td>0</td>\n",
       "      <td>0</td>\n",
       "      <td>0</td>\n",
       "      <td>1</td>\n",
       "      <td>0</td>\n",
       "      <td>0</td>\n",
       "    </tr>\n",
       "    <tr>\n",
       "      <th>1</th>\n",
       "      <td>38</td>\n",
       "      <td>89814</td>\n",
       "      <td>9</td>\n",
       "      <td>0</td>\n",
       "      <td>0</td>\n",
       "      <td>50</td>\n",
       "      <td>0</td>\n",
       "      <td>0</td>\n",
       "      <td>0</td>\n",
       "      <td>1</td>\n",
       "      <td>...</td>\n",
       "      <td>0</td>\n",
       "      <td>0</td>\n",
       "      <td>0</td>\n",
       "      <td>0</td>\n",
       "      <td>0</td>\n",
       "      <td>0</td>\n",
       "      <td>0</td>\n",
       "      <td>1</td>\n",
       "      <td>0</td>\n",
       "      <td>0</td>\n",
       "    </tr>\n",
       "    <tr>\n",
       "      <th>2</th>\n",
       "      <td>28</td>\n",
       "      <td>336951</td>\n",
       "      <td>12</td>\n",
       "      <td>0</td>\n",
       "      <td>0</td>\n",
       "      <td>40</td>\n",
       "      <td>1</td>\n",
       "      <td>0</td>\n",
       "      <td>1</td>\n",
       "      <td>0</td>\n",
       "      <td>...</td>\n",
       "      <td>0</td>\n",
       "      <td>0</td>\n",
       "      <td>0</td>\n",
       "      <td>0</td>\n",
       "      <td>0</td>\n",
       "      <td>0</td>\n",
       "      <td>0</td>\n",
       "      <td>1</td>\n",
       "      <td>0</td>\n",
       "      <td>0</td>\n",
       "    </tr>\n",
       "    <tr>\n",
       "      <th>3</th>\n",
       "      <td>44</td>\n",
       "      <td>160323</td>\n",
       "      <td>10</td>\n",
       "      <td>7688</td>\n",
       "      <td>0</td>\n",
       "      <td>40</td>\n",
       "      <td>1</td>\n",
       "      <td>0</td>\n",
       "      <td>0</td>\n",
       "      <td>1</td>\n",
       "      <td>...</td>\n",
       "      <td>0</td>\n",
       "      <td>0</td>\n",
       "      <td>0</td>\n",
       "      <td>0</td>\n",
       "      <td>0</td>\n",
       "      <td>0</td>\n",
       "      <td>0</td>\n",
       "      <td>1</td>\n",
       "      <td>0</td>\n",
       "      <td>0</td>\n",
       "    </tr>\n",
       "    <tr>\n",
       "      <th>4</th>\n",
       "      <td>34</td>\n",
       "      <td>198693</td>\n",
       "      <td>6</td>\n",
       "      <td>0</td>\n",
       "      <td>0</td>\n",
       "      <td>30</td>\n",
       "      <td>0</td>\n",
       "      <td>0</td>\n",
       "      <td>0</td>\n",
       "      <td>1</td>\n",
       "      <td>...</td>\n",
       "      <td>0</td>\n",
       "      <td>0</td>\n",
       "      <td>0</td>\n",
       "      <td>0</td>\n",
       "      <td>0</td>\n",
       "      <td>0</td>\n",
       "      <td>0</td>\n",
       "      <td>1</td>\n",
       "      <td>0</td>\n",
       "      <td>0</td>\n",
       "    </tr>\n",
       "  </tbody>\n",
       "</table>\n",
       "<p>5 rows × 105 columns</p>\n",
       "</div>"
      ],
      "text/plain": [
       "   age  fnlwgt  educational-num  capital-gain  capital-loss  hours-per-week  \\\n",
       "0   25  226802                7             0             0              40   \n",
       "1   38   89814                9             0             0              50   \n",
       "2   28  336951               12             0             0              40   \n",
       "3   44  160323               10          7688             0              40   \n",
       "4   34  198693                6             0             0              30   \n",
       "\n",
       "   income  Federal-gov  Local-gov  Private  ...  Portugal  Puerto-Rico  \\\n",
       "0       0            0          0        1  ...         0            0   \n",
       "1       0            0          0        1  ...         0            0   \n",
       "2       1            0          1        0  ...         0            0   \n",
       "3       1            0          0        1  ...         0            0   \n",
       "4       0            0          0        1  ...         0            0   \n",
       "\n",
       "   Scotland  South  Taiwan  Thailand  Trinadad&Tobago  United-States  Vietnam  \\\n",
       "0         0      0       0         0                0              1        0   \n",
       "1         0      0       0         0                0              1        0   \n",
       "2         0      0       0         0                0              1        0   \n",
       "3         0      0       0         0                0              1        0   \n",
       "4         0      0       0         0                0              1        0   \n",
       "\n",
       "   Yugoslavia  \n",
       "0           0  \n",
       "1           0  \n",
       "2           0  \n",
       "3           0  \n",
       "4           0  \n",
       "\n",
       "[5 rows x 105 columns]"
      ]
     },
     "execution_count": 15,
     "metadata": {},
     "output_type": "execute_result"
    }
   ],
   "source": [
    "df_1 = df_1.drop(['Unnamed: 0'], axis = 1)\n",
    "\n",
    "df_1.head()"
   ]
  },
  {
   "cell_type": "markdown",
   "metadata": {},
   "source": [
    "As shown in the output above, all categorical variables and respective levels were transformed into binary form."
   ]
  },
  {
   "cell_type": "code",
   "execution_count": 16,
   "metadata": {},
   "outputs": [
    {
     "name": "stdout",
     "output_type": "stream",
     "text": [
      "<class 'pandas.core.frame.DataFrame'>\n",
      "RangeIndex: 45175 entries, 0 to 45174\n",
      "Data columns (total 105 columns):\n",
      " #   Column                      Dtype\n",
      "---  ------                      -----\n",
      " 0   age                         int64\n",
      " 1   fnlwgt                      int64\n",
      " 2   educational-num             int64\n",
      " 3   capital-gain                int64\n",
      " 4   capital-loss                int64\n",
      " 5   hours-per-week              int64\n",
      " 6   income                      uint8\n",
      " 7   Federal-gov                 uint8\n",
      " 8   Local-gov                   uint8\n",
      " 9   Private                     uint8\n",
      " 10  Self-emp-inc                uint8\n",
      " 11  Self-emp-not-inc            uint8\n",
      " 12  State-gov                   uint8\n",
      " 13  Without-pay                 uint8\n",
      " 14  Female                      uint8\n",
      " 15  Male                        uint8\n",
      " 16  10th                        uint8\n",
      " 17  11th                        uint8\n",
      " 18  12th                        uint8\n",
      " 19  1st-4th                     uint8\n",
      " 20  5th-6th                     uint8\n",
      " 21  7th-8th                     uint8\n",
      " 22  9th                         uint8\n",
      " 23  Assoc-acdm                  uint8\n",
      " 24  Assoc-voc                   uint8\n",
      " 25  Bachelors                   uint8\n",
      " 26  Doctorate                   uint8\n",
      " 27  HS-grad                     uint8\n",
      " 28  Masters                     uint8\n",
      " 29  Preschool                   uint8\n",
      " 30  Prof-school                 uint8\n",
      " 31  Some-college                uint8\n",
      " 32  Divorced                    uint8\n",
      " 33  Married-AF-spouse           uint8\n",
      " 34  Married-civ-spouse          uint8\n",
      " 35  Married-spouse-absent       uint8\n",
      " 36  Never-married               uint8\n",
      " 37  Separated                   uint8\n",
      " 38  Widowed                     uint8\n",
      " 39  Adm-clerical                uint8\n",
      " 40  Armed-Forces                uint8\n",
      " 41  Craft-repair                uint8\n",
      " 42  Exec-managerial             uint8\n",
      " 43  Farming-fishing             uint8\n",
      " 44  Handlers-cleaners           uint8\n",
      " 45  Machine-op-inspct           uint8\n",
      " 46  Other-service               uint8\n",
      " 47  Priv-house-serv             uint8\n",
      " 48  Prof-specialty              uint8\n",
      " 49  Protective-serv             uint8\n",
      " 50  Sales                       uint8\n",
      " 51  Tech-support                uint8\n",
      " 52  Transport-moving            uint8\n",
      " 53  Husband                     uint8\n",
      " 54  Not-in-family               uint8\n",
      " 55  Other-relative              uint8\n",
      " 56  Own-child                   uint8\n",
      " 57  Unmarried                   uint8\n",
      " 58  Wife                        uint8\n",
      " 59  Amer-Indian-Eskimo          uint8\n",
      " 60  Asian-Pac-Islander          uint8\n",
      " 61  Black                       uint8\n",
      " 62  Other                       uint8\n",
      " 63  White                       uint8\n",
      " 64  Cambodia                    uint8\n",
      " 65  Canada                      uint8\n",
      " 66  China                       uint8\n",
      " 67  Columbia                    uint8\n",
      " 68  Cuba                        uint8\n",
      " 69  Dominican-Republic          uint8\n",
      " 70  Ecuador                     uint8\n",
      " 71  El-Salvador                 uint8\n",
      " 72  England                     uint8\n",
      " 73  France                      uint8\n",
      " 74  Germany                     uint8\n",
      " 75  Greece                      uint8\n",
      " 76  Guatemala                   uint8\n",
      " 77  Haiti                       uint8\n",
      " 78  Holand-Netherlands          uint8\n",
      " 79  Honduras                    uint8\n",
      " 80  Hong                        uint8\n",
      " 81  Hungary                     uint8\n",
      " 82  India                       uint8\n",
      " 83  Iran                        uint8\n",
      " 84  Ireland                     uint8\n",
      " 85  Italy                       uint8\n",
      " 86  Jamaica                     uint8\n",
      " 87  Japan                       uint8\n",
      " 88  Laos                        uint8\n",
      " 89  Mexico                      uint8\n",
      " 90  Nicaragua                   uint8\n",
      " 91  Outlying-US(Guam-USVI-etc)  uint8\n",
      " 92  Peru                        uint8\n",
      " 93  Philippines                 uint8\n",
      " 94  Poland                      uint8\n",
      " 95  Portugal                    uint8\n",
      " 96  Puerto-Rico                 uint8\n",
      " 97  Scotland                    uint8\n",
      " 98  South                       uint8\n",
      " 99  Taiwan                      uint8\n",
      " 100 Thailand                    uint8\n",
      " 101 Trinadad&Tobago             uint8\n",
      " 102 United-States               uint8\n",
      " 103 Vietnam                     uint8\n",
      " 104 Yugoslavia                  uint8\n",
      "dtypes: int64(6), uint8(99)\n",
      "memory usage: 6.3 MB\n"
     ]
    }
   ],
   "source": [
    "### verify all variables have correct type\n",
    "\n",
    "df_1.info(verbose=True)"
   ]
  },
  {
   "cell_type": "markdown",
   "metadata": {},
   "source": [
    "It's important to ensure all variables have the right type for memory and modeling purposes."
   ]
  },
  {
   "cell_type": "markdown",
   "metadata": {},
   "source": [
    "### Split Dataset"
   ]
  },
  {
   "cell_type": "markdown",
   "metadata": {},
   "source": [
    "First, we seperate the entire dataset into 'train' and 'test' with a 90/10 split. This 'test' set will be used as a hold out set for final evaluation after models have been hyperparameter tuned."
   ]
  },
  {
   "cell_type": "code",
   "execution_count": 17,
   "metadata": {},
   "outputs": [
    {
     "name": "stdout",
     "output_type": "stream",
     "text": [
      "40657\n"
     ]
    }
   ],
   "source": [
    "# create train, validation, and test sets\n",
    "\n",
    "from sklearn.model_selection import train_test_split\n",
    "from collections import Counter\n",
    "\n",
    "df_2 = df_1.copy()\n",
    "\n",
    "train, test = np.split(df_2.sample(frac=1), [int(.9*len(df_2))])\n",
    "print(len(train))\n"
   ]
  },
  {
   "cell_type": "code",
   "execution_count": 18,
   "metadata": {},
   "outputs": [],
   "source": [
    "### import relevant function\n",
    "from sklearn.model_selection import ShuffleSplit\n",
    "\n",
    "### acquire target label values, delete column of said acquired values, and assign remaining variables and corresponding values to 'X'\n",
    "\n",
    "if 'income' in train:\n",
    "    y_train = train['income'].values \n",
    "    del train['income'] \n",
    "    X_train = train.values \n",
    "\n",
    "\n",
    "# target label values for test set\n",
    "if 'income' in test:\n",
    "    y_test = test['income'].values \n",
    "    del test['income'] \n",
    "    X_test = test.values \n"
   ]
  },
  {
   "cell_type": "markdown",
   "metadata": {},
   "source": [
    "### Sampling"
   ]
  },
  {
   "cell_type": "markdown",
   "metadata": {},
   "source": [
    "As established above, given the unbalanced distribution of the target variable, we will be using different sampling methods to increase performance of models."
   ]
  },
  {
   "cell_type": "code",
   "execution_count": 19,
   "metadata": {},
   "outputs": [
    {
     "name": "stdout",
     "output_type": "stream",
     "text": [
      "Training target statistics: Counter({1: 30606, 0: 30606})\n"
     ]
    }
   ],
   "source": [
    "# Over sample dataset\n",
    "from imblearn.over_sampling import RandomOverSampler\n",
    "over_sampler = RandomOverSampler(random_state=42)\n",
    "X_over, y_over = over_sampler.fit_resample(X_train, y_train)\n",
    "print(f\"Training target statistics: {Counter(y_over)}\")"
   ]
  },
  {
   "cell_type": "code",
   "execution_count": 20,
   "metadata": {},
   "outputs": [
    {
     "name": "stdout",
     "output_type": "stream",
     "text": [
      "Training target statistics: Counter({0: 10051, 1: 10051})\n"
     ]
    }
   ],
   "source": [
    "# Under sample\n",
    "from imblearn.under_sampling import RandomUnderSampler\n",
    "under_sampler = RandomUnderSampler(random_state=42)\n",
    "X_under, y_under = under_sampler.fit_resample(X_train, y_train)\n",
    "print(f\"Training target statistics: {Counter(y_under)}\")"
   ]
  },
  {
   "cell_type": "markdown",
   "metadata": {},
   "source": [
    "### Standardize and Scale Data\n",
    "\n",
    "We will standardize the dataset to ensure that each variable is weighted equally, since there are many variables on very different scales as well as one hot encoded categorical variables. This should help reduce model bias, improving performance, as well as making feature importance easier to interpret later on. "
   ]
  },
  {
   "cell_type": "code",
   "execution_count": 21,
   "metadata": {},
   "outputs": [],
   "source": [
    "from sklearn.preprocessing import StandardScaler\n",
    "#standard set\n",
    "scl_obj = StandardScaler()\n",
    "scl_obj.fit(X_train)\n",
    "X_train = scl_obj.transform(X_train) \n",
    "X_test = scl_obj.transform(X_test)\n",
    "\n",
    "#oversampled data \n",
    "scl_obj = StandardScaler()\n",
    "scl_obj.fit(X_over)\n",
    "X_over = scl_obj.transform(X_over) \n",
    "X_test_over = scl_obj.transform(X_test)\n",
    "\n",
    "#undersampled data\n",
    "scl_obj = StandardScaler()\n",
    "scl_obj.fit(X_under)\n",
    "X_under = scl_obj.transform(X_under) \n",
    "X_test_under = scl_obj.transform(X_test)\n",
    "\n"
   ]
  },
  {
   "cell_type": "markdown",
   "metadata": {},
   "source": [
    "##  Data Preparation, Part 2"
   ]
  },
  {
   "cell_type": "markdown",
   "metadata": {},
   "source": [
    "Describe the final dataset that is used for classification/regression (include a description of any newly formed variables you created)."
   ]
  },
  {
   "cell_type": "markdown",
   "metadata": {},
   "source": [
    "Here is a glimpse of how the dataset looks like:"
   ]
  },
  {
   "cell_type": "code",
   "execution_count": 22,
   "metadata": {},
   "outputs": [
    {
     "name": "stdout",
     "output_type": "stream",
     "text": [
      "       age  fnlwgt  educational-num  capital-gain  capital-loss  \\\n",
      "36943   57  170411               13             0             0   \n",
      "4578    49  201127                7             0          1902   \n",
      "28496   19  219867                9             0             0   \n",
      "20378   39   52645               10             0             0   \n",
      "9933    42  222756               13          7430             0   \n",
      "\n",
      "       hours-per-week  Federal-gov  Local-gov  Private  Self-emp-inc  ...  \\\n",
      "36943              40            0          0        1             0  ...   \n",
      "4578               70            0          0        1             0  ...   \n",
      "28496              35            0          0        1             0  ...   \n",
      "20378              40            0          0        1             0  ...   \n",
      "9933               40            0          0        1             0  ...   \n",
      "\n",
      "       Portugal  Puerto-Rico  Scotland  South  Taiwan  Thailand  \\\n",
      "36943         0            0         0      0       0         0   \n",
      "4578          0            0         0      0       0         0   \n",
      "28496         0            0         0      0       0         0   \n",
      "20378         0            0         0      0       0         0   \n",
      "9933          0            0         0      0       0         0   \n",
      "\n",
      "       Trinadad&Tobago  United-States  Vietnam  Yugoslavia  \n",
      "36943                0              1        0           0  \n",
      "4578                 0              1        0           0  \n",
      "28496                0              1        0           0  \n",
      "20378                0              1        0           0  \n",
      "9933                 0              1        0           0  \n",
      "\n",
      "[5 rows x 104 columns]\n",
      "(40657, 104)\n"
     ]
    }
   ],
   "source": [
    "print(train.head())\n",
    "print(train.shape)"
   ]
  },
  {
   "cell_type": "markdown",
   "metadata": {},
   "source": [
    "In the 'train' dataset, there are 40657 instances, wherein each instance represents an individual. Due to the transformation of categorical variables to OneHotEncoding binary format, the dataset holds 104 attributes for each instance. The value of the target variable is represented as a 1 if the individual has a reported annual income of greater than or equal to 50K USD and a 0 if it is less than 50K USD.\n",
    "\n",
    "Additionally, given the unbalanced distribution of the target variable, we appplied two sampling methods (over and under) that may increase performance and evaluation of models being trained on this data."
   ]
  },
  {
   "cell_type": "markdown",
   "metadata": {},
   "source": [
    "# Modeling and Evaluation\n",
    "\n",
    "## Evaluation Metrics"
   ]
  },
  {
   "cell_type": "markdown",
   "metadata": {},
   "source": [
    "Choose and explain your evaluation metrics that you will use (i.e., accuracy,\n",
    "precision, recall, F-measure, or any metric we have discussed). Why are the measure(s) appropriate for analyzing the results of your modeling? Give a detailed explanation backing up any assertions."
   ]
  },
  {
   "cell_type": "markdown",
   "metadata": {},
   "source": [
    "### Income Classification Evaluation Metrics\n",
    "Accuracy: <br>\n",
    "> The first metric we will be using is Accuracy. By accuracy, we mean \"the ratio of number of correct predictions to the total number of input samples.\"[^1] \n",
    "\n",
    "> Accuracy = Number of Correct Predictions/Total Number of Predictions Made\n",
    "\n",
    "> By balancing our datset with respect to our target variable, we took measures to maximize the value that this metric provides. For our dataset, accuracy will give us a measure of how maany instances are correctly classified as >=50K  or <50K, in any given model.\n",
    "\n",
    "Precision: <br>\n",
    "> In order to get a more detailed look at what accuracy represents, we first break down the metric into Precision and Recall. Precision, in essence, outlines the proportion of positive identifications was actually correct[^2].\n",
    "\n",
    "> Precision = True Positive/(True Positive + False Positive)\n",
    "\n",
    "> For our dataset, Precision will give us a measure of the proportion of positives (>=50K) were classified correctly.\n",
    "\n",
    "Sensitivity/Recall: <br>\n",
    "\n",
    "> Recall, on the other hand, measures the proportion of actual positives that  were identified correctly[^3].\n",
    "\n",
    "> Recall = True Positive/(True Positive + False Negative)\n",
    "\n",
    "> For our dataset, Recall will give us a measure of how many of the instances that were actually >=50K were classified as such by the model.\n",
    "\n",
    "Specificity: <br>\n",
    "> Inversely to the previous measure, specificity (True Negative Rate) refers to the \"proportion of negative data points that are correctly considered as negative, with respect to all negative data points.\"[^5]\n",
    "\n",
    "> Sensitivity = True Negative/(True Negative + False Positive)\n",
    "\n",
    "> For our dataset, specificity measures the proportion of actual <50K classified as such by a given model.\n",
    "\n",
    "While we will look at the above metrics for income classifcation, the primary metric we will be looking to optimize in this case is Sensitivity, as it is the more useful metric in many contexts because it is harder to predict because it is a minority of people, and because predicting high earners could be used for things like targeted marketing campaigns for high margin products. \n",
    "\n",
    "[^1]: https://towardsdatascience.com/metrics-to-evaluate-your-machine-learning-algorithm-f10ba6e38234\n",
    "[^2]: https://developers.google.com/machine-learning/crash-course/classification/precision-and-recall\n",
    "[^3]: https://developers.google.com/machine-learning/crash-course/classification/precision-and-recall\n",
    "[^4]: https://towardsdatascience.com/metrics-to-evaluate-your-machine-learning-algorithm-f10ba6e38234\n",
    "[^5]: https://towardsdatascience.com/metrics-to-evaluate-your-machine-learning-algorithm-f10ba6e38234\n",
    "\n",
    "### Age Prediction Evaluation Metric"
   ]
  },
  {
   "cell_type": "markdown",
   "metadata": {},
   "source": [
    "## Splitting"
   ]
  },
  {
   "cell_type": "markdown",
   "metadata": {},
   "source": [
    "Choose the method you will use for dividing your data into training and\n",
    "testing splits (i.e., are you using Stratified 10-fold cross validation? Why?). Explain why\n",
    "your chosen method is appropriate or use more than one method as appropriate. For example, if you are using time series data then you should be using continuous training and testing sets across time."
   ]
  },
  {
   "cell_type": "markdown",
   "metadata": {},
   "source": [
    "The primary method used for splitting between training and testing splits is 10 fold shuffle cross validation. Shuffle split was chosen over K fold CV to help keep the validation scalable if the datasize is to grow in the future (for example if more years are to be brought in). It is not a large concern if a single observation is used multiple times, or one is not used at all, because with the current size of this dataset, the risk of over-biasing the model because of that is very low. \n",
    "\n",
    "With inbalanced data such as this, biasing for the majority class is a large risk. Random over and under sampling techinques were decided to be used to attempt to deal with bias from the lack of balance in the dataset rather than a stratified validation method. The over sampling method in particular is likely to help improve our important sensitivity metric by intentionally introducing bias towards the minority class (income > 50k) by randomly duplicating minority class observations to even out the balance of the dataset. The undersampling method instead seeks to reduce bias by randomly removing the majority class, however this comes with a higher risk of removing important information by cutting down the size of the data by a large margin, and because of this is the less preferred method. "
   ]
  },
  {
   "cell_type": "markdown",
   "metadata": {},
   "source": [
    "### Split Dataset\n",
    "\n",
    "In data preparation, we seperated the entire dataset into 'train' and 'test' with a 90/10 split. This 'test' set will be used for final evaluation after models have been hyperparameter tuned."
   ]
  },
  {
   "cell_type": "markdown",
   "metadata": {},
   "source": [
    "Within the 'train' set, we create a 10-fold shuffle split cross validation object that can be used with the regular, over, and under sampled training data."
   ]
  },
  {
   "cell_type": "code",
   "execution_count": 23,
   "metadata": {},
   "outputs": [
    {
     "name": "stdout",
     "output_type": "stream",
     "text": [
      "ShuffleSplit(n_splits=10, random_state=42, test_size=0.2, train_size=None)\n"
     ]
    }
   ],
   "source": [
    "### import relevant function\n",
    "from sklearn.model_selection import ShuffleSplit\n",
    "\n",
    "### split data 80/20 with 10 cross-validation\n",
    "num_cv_iterations = 10\n",
    "cv_object = ShuffleSplit(n_splits=num_cv_iterations,\n",
    "                         test_size  = 0.2, random_state = 42)\n",
    "                         \n",
    "print(cv_object)"
   ]
  },
  {
   "cell_type": "markdown",
   "metadata": {},
   "source": [
    "## Model Training"
   ]
  },
  {
   "cell_type": "markdown",
   "metadata": {},
   "source": [
    "Create three different classification/regression models for each task (e.g., random forest, KNN, and SVM for task one and the same or different algorithms for task two). Two modeling techniques must be new (but the third could be SVM or logistic regression). Adjust parameters as appropriate to increase generalization performance using your chosen metric. You must investigate different parameters of the algorithms!"
   ]
  },
  {
   "cell_type": "markdown",
   "metadata": {},
   "source": [
    "### Income Classification"
   ]
  },
  {
   "cell_type": "code",
   "execution_count": 24,
   "metadata": {},
   "outputs": [
    {
     "name": "stdout",
     "output_type": "stream",
     "text": [
      "Model: Random Trees 1 per leaf Accuracy (Regular, Oversample, Undersample): 0.85 0.93 0.81 Sensitivity (Regular, Oversample, Undersample): 0.62 0.97 0.82\n",
      "Model: Random Trees 10 per leaf Accuracy (Regular, Oversample, Undersample): 0.86 0.84 0.83 Sensitivity (Regular, Oversample, Undersample): 0.59 0.88 0.86\n",
      "Model: Random Trees 30 per leaf Accuracy (Regular, Oversample, Undersample): 0.85 0.83 0.82 Sensitivity (Regular, Oversample, Undersample): 0.57 0.87 0.86\n",
      "Model: Random Trees 100 per leaf Accuracy (Regular, Oversample, Undersample): 0.85 0.82 0.81 Sensitivity (Regular, Oversample, Undersample): 0.54 0.87 0.86\n",
      "Model: LogReg L2 C1 Accuracy (Regular, Oversample, Undersample): 0.85 0.82 0.81 Sensitivity (Regular, Oversample, Undersample): 0.61 0.85 0.84\n",
      "Model: LogReg L1 C1 Accuracy (Regular, Oversample, Undersample): 0.85 0.82 0.81 Sensitivity (Regular, Oversample, Undersample): 0.61 0.85 0.84\n",
      "Model: LogReg L2 C.1 Accuracy (Regular, Oversample, Undersample): 0.85 0.82 0.81 Sensitivity (Regular, Oversample, Undersample): 0.61 0.85 0.84\n",
      "Model: LogReg L1 C.1 Accuracy (Regular, Oversample, Undersample): 0.85 0.82 0.82 Sensitivity (Regular, Oversample, Undersample): 0.61 0.85 0.84\n",
      "Model: LogReg L2 C5 Accuracy (Regular, Oversample, Undersample): 0.85 0.82 0.81 Sensitivity (Regular, Oversample, Undersample): 0.61 0.85 0.84\n",
      "Model: LogReg L1 C5 Accuracy (Regular, Oversample, Undersample): 0.85 0.82 0.81 Sensitivity (Regular, Oversample, Undersample): 0.61 0.85 0.84\n",
      "Model: Gaussian Naive Bayes Accuracy (Regular, Oversample, Undersample): 0.6 0.73 0.72 Sensitivity (Regular, Oversample, Undersample): 0.93 0.92 0.93\n",
      "Model: Bernoulli Naive Bayes Accuracy (Regular, Oversample, Undersample): 0.78 0.78 0.78 Sensitivity (Regular, Oversample, Undersample): 0.78 0.84 0.84\n",
      "Wall time: 15min 30s\n"
     ]
    }
   ],
   "source": [
    "%%time\n",
    "from sklearn.ensemble import RandomForestClassifier\n",
    "from sklearn.linear_model import LogisticRegression\n",
    "from sklearn.naive_bayes import GaussianNB\n",
    "from sklearn.naive_bayes import BernoulliNB\n",
    "from sklearn.model_selection import cross_validate\n",
    "\n",
    "### create LR object and apply parameters and consants\n",
    "\n",
    "num_estimators = 50\n",
    "# lets train some trees\n",
    "clf_array = [\n",
    "    ('Random Trees 1 per leaf', RandomForestClassifier(random_state = 42, min_samples_leaf = 1, n_estimators = num_estimators)),\n",
    "    ('Random Trees 10 per leaf', RandomForestClassifier(random_state = 42, min_samples_leaf = 10, n_estimators = num_estimators)),\n",
    "    ('Random Trees 30 per leaf', RandomForestClassifier(random_state = 42, min_samples_leaf = 30, n_estimators = num_estimators)),\n",
    "    ('Random Trees 100 per leaf', RandomForestClassifier(random_state = 42, min_samples_leaf = 100, n_estimators = num_estimators)),\n",
    "    ('LogReg L2 C1', LogisticRegression(penalty='l2', C=1.0, class_weight=None, solver='liblinear')),\n",
    "    ('LogReg L1 C1', LogisticRegression(penalty='l1', C=1.0, class_weight=None, solver='liblinear')),\n",
    "    ('LogReg L2 C.1', LogisticRegression(penalty='l2', C=.1, class_weight=None, solver='liblinear')),\n",
    "    ('LogReg L1 C.1', LogisticRegression(penalty='l1', C=.1, class_weight=None, solver='liblinear')),\n",
    "    ('LogReg L2 C5', LogisticRegression(penalty='l2', C=5.0, class_weight=None, solver='liblinear')),\n",
    "    ('LogReg L1 C5', LogisticRegression(penalty='l1', C=5.0, class_weight=None, solver='liblinear')),\n",
    "    ('Gaussian Naive Bayes', GaussianNB()),\n",
    "    ('Bernoulli Naive Bayes', BernoulliNB())\n",
    "    ]\n",
    "\n",
    "scoring = {'acc': 'accuracy',\n",
    "           'sens': 'recall'}\n",
    "\n",
    "for clf in clf_array:\n",
    "    scores = cross_validate(clf[1], X_train, y_train, scoring=scoring,\n",
    "                         cv=cv_object, return_train_score=False)\n",
    "    scoreso = cross_validate(clf[1], X_over, y_over, scoring=scoring,\n",
    "                         cv=cv_object, return_train_score=False)\n",
    "    scoresu = cross_validate(clf[1], X_under, y_under, scoring=scoring,\n",
    "                         cv=cv_object, return_train_score=False)\n",
    "    print (\"Model:\", clf[0], \"Accuracy (Regular, Oversample, Undersample):\", round(scores['test_acc'].mean(),2), round(scoreso['test_acc'].mean(),2), round(scoresu['test_acc'].mean(),2),\n",
    "    \"Sensitivity (Regular, Oversample, Undersample):\", round(scores['test_sens'].mean(),2), round(scoreso['test_sens'].mean(),2), round(scoresu['test_sens'].mean(),2)) "
   ]
  },
  {
   "cell_type": "markdown",
   "metadata": {},
   "source": [
    "### Age Prediction"
   ]
  },
  {
   "cell_type": "markdown",
   "metadata": {},
   "source": [
    "## Results Analysis and Visualization\n",
    "\n"
   ]
  },
  {
   "cell_type": "markdown",
   "metadata": {},
   "source": [
    "Analyze the results using your chosen method of evaluation. Use visualizations of the results to bolster the analysis. Explain any visuals and analyze why they are interesting to someone that might use this model."
   ]
  },
  {
   "cell_type": "markdown",
   "metadata": {},
   "source": [
    "### Income Classification\n",
    "\n",
    "The over/under sampling methods improved sensitivity performance in the case of the logreg by a signficant amount, typically 20+ points, so the over sampled training data is used in the final models. \n",
    "\n",
    "The ROC curve below shows that the final three versions of all models performed similary when predicting the holdout test set, with AUCs ranging from .85 to .86. We see a dip indicating an increase in false positive rate with the Random Forest Classifier and NB model, indicating that the model has a higher tradeoff of false positives per true positives than the logistic regression models. However the \"cost\" of a false positive in this context is quite low, so being aggressive with calling out positive values could be acceptable. \n",
    "\n",
    "Based on the accuracy and sensitivity metrics in the above section and confusion matrix in the code below: \n",
    "\n",
    "1. The final model chosen for the Random Forest Classifier is using a minimum of 100 samples per leaf to reduce overfitting. While some of the higher depth models provided improved metrics, the performance gain is not worth the increased complexity and overfitting risk. The model only predicts a handful of  observations make over 50k which indicates there are very few \"branches\" that will lead to a positive prediction with the test holdout data. \n",
    "1. The logistic regression models were also able to perform well on the scaled data with a similar accuracy as the random forest classifier, however they performed consistently worse in specificity, the most important metric we are trying to optimize for. It is also worth noting it had the lowest AUC against the test set at .85 despite having the \"smoothest\" curve. There was little difference between various parameters when using the scaled and standardized data. \n",
    "1. Interestingly, the Bernoulli Naive Bayes model performed quite well against the holdout test data with the highest AUC of .86, despite underperforming with the cross validated training data. \n",
    "\n",
    "The confusion matrices show fairly similar performance between naive bayes and the logistic regression model as far as how often they were predicting that someone makes over 50k in income and are the standout models here. Both had decent accuracy around 81% with the test holdout data, however logreg had the edge in sensititivty coming in just under 59%. \n",
    "\n"
   ]
  },
  {
   "cell_type": "code",
   "execution_count": 25,
   "metadata": {},
   "outputs": [
    {
     "data": {
      "image/png": "[encoded data removed]",
      "text/plain": [
       "<Figure size 432x288 with 1 Axes>"
      ]
     },
     "metadata": {
      "needs_background": "light"
     },
     "output_type": "display_data"
    }
   ],
   "source": [
    "from sklearn.metrics import RocCurveDisplay\n",
    "\n",
    "\n",
    "#final models and ROC curve (code from sklearn documentation)\n",
    "rfc = RandomForestClassifier(random_state = 42, min_samples_leaf = 100, n_estimators = 50)\n",
    "rfc.fit(X_over, y_over)\n",
    "\n",
    "logreg = LogisticRegression(penalty='l2', C=1.0, class_weight=None, solver='liblinear' )\n",
    "logreg.fit(X_over, y_over)\n",
    "\n",
    "nb = BernoulliNB()\n",
    "nb.fit(X_over, y_over)\n",
    "\n",
    "ax = plt.gca()\n",
    "rfc_disp = RocCurveDisplay.from_estimator(rfc, X_test_over, y_test, ax=ax, alpha=0.8)\n",
    "log_disp = RocCurveDisplay.from_estimator(logreg, X_test_over, y_test, ax=ax, alpha=0.8)\n",
    "nb_disp = RocCurveDisplay.from_estimator(nb, X_test_over, y_test, ax=ax, alpha=0.8)\n",
    "plt.show()"
   ]
  },
  {
   "cell_type": "code",
   "execution_count": 26,
   "metadata": {},
   "outputs": [
    {
     "name": "stdout",
     "output_type": "stream",
     "text": [
      "RFC Confusion Matrix\n"
     ]
    },
    {
     "data": {
      "image/png": "[encoded data removed]",
      "text/plain": [
       "<Figure size 432x288 with 2 Axes>"
      ]
     },
     "metadata": {
      "needs_background": "light"
     },
     "output_type": "display_data"
    },
    {
     "name": "stdout",
     "output_type": "stream",
     "text": [
      "Logistic Regression Confusion Matrix\n"
     ]
    },
    {
     "data": {
      "image/png": "[encoded data removed]",
      "text/plain": [
       "<Figure size 432x288 with 2 Axes>"
      ]
     },
     "metadata": {
      "needs_background": "light"
     },
     "output_type": "display_data"
    },
    {
     "name": "stdout",
     "output_type": "stream",
     "text": [
      "Naive Bayes Confusion Matrix\n"
     ]
    },
    {
     "data": {
      "image/png": "[encoded data removed]",
      "text/plain": [
       "<Figure size 432x288 with 2 Axes>"
      ]
     },
     "metadata": {
      "needs_background": "light"
     },
     "output_type": "display_data"
    }
   ],
   "source": [
    "# Print Confusion Matrices (code from sklearn documentation)\n",
    "import matplotlib.pyplot as plt\n",
    "from sklearn.datasets import make_classification\n",
    "from sklearn.metrics import plot_confusion_matrix\n",
    "\n",
    "print(\"RFC Confusion Matrix\")\n",
    "plot_confusion_matrix(rfc, X_test_over, y_test)\n",
    "plt.show()\n",
    "\n",
    "print(\"Logistic Regression Confusion Matrix\")\n",
    "plot_confusion_matrix(logreg, X_test_over, y_test)\n",
    "plt.show()\n",
    "\n",
    "print(\"Naive Bayes Confusion Matrix\")\n",
    "plot_confusion_matrix(nb, X_test_over, y_test)\n",
    "plt.show()"
   ]
  },
  {
   "cell_type": "code",
   "execution_count": 27,
   "metadata": {},
   "outputs": [
    {
     "name": "stdout",
     "output_type": "stream",
     "text": [
      "RFC accuracy: 0.7454625940681717\n",
      "[[3364    3]\n",
      " [1147    4]]\n",
      "RFC specificity: 0.9991089991089991\n",
      "RFC sensitivity: 0.0034752389226759338\n",
      "logreg accuracy: 0.813634351482957\n",
      "[[3026  341]\n",
      " [ 501  650]]\n",
      "logreg specificity: 0.8987228987228987\n",
      "logreg sensitivity: 0.5647263249348393\n",
      "nb accuracy: 0.8180610889774237\n",
      "[[3061  306]\n",
      " [ 516  635]]\n",
      "nb specificity: 0.9091179091179091\n",
      "nb sensitivity: 0.5516941789748045\n"
     ]
    }
   ],
   "source": [
    "from sklearn import metrics as mt\n",
    "\n",
    "### test predictions\n",
    "predrfc = rfc.predict(X_test_over)\n",
    "predlogreg = logreg.predict(X_test_over)\n",
    "prednb = nb.predict(X_test_over)\n",
    "\n",
    "acc = mt.accuracy_score(y_test,predrfc)\n",
    "conf = mt.confusion_matrix(y_test,predrfc)\n",
    "print('RFC accuracy:', acc )\n",
    "print(conf )\n",
    "\n",
    "#get specificity (code from https://stackoverflow.com/questions/33275461/specificity-in-scikit-learn)\n",
    "tn, fp, fn, tp = mt.confusion_matrix(y_test,predrfc).ravel()\n",
    "specificity = tn / (tn+fp)\n",
    "sensitivity = tp / (tp+fn)\n",
    "print(\"RFC specificity:\", specificity)\n",
    "print('RFC sensitivity:', sensitivity)\n",
    "\n",
    "#logreg metrics\n",
    "acc = mt.accuracy_score(y_test,predlogreg)\n",
    "conf = mt.confusion_matrix(y_test,predlogreg)\n",
    "print('logreg accuracy:', acc )\n",
    "print(conf )\n",
    "\n",
    "tn, fp, fn, tp = mt.confusion_matrix(y_test,predlogreg).ravel()\n",
    "specificity = tn / (tn+fp)\n",
    "sensitivity = tp / (tp+fn)\n",
    "print(\"logreg specificity:\", specificity)\n",
    "print('logreg sensitivity:', sensitivity)\n",
    "\n",
    "#nb metrics\n",
    "acc = mt.accuracy_score(y_test,prednb)\n",
    "conf = mt.confusion_matrix(y_test,prednb)\n",
    "print('nb accuracy:', acc )\n",
    "print(conf )\n",
    "\n",
    "tn, fp, fn, tp = mt.confusion_matrix(y_test,prednb).ravel()\n",
    "specificity = tn / (tn+fp)\n",
    "sensitivity = tp / (tp+fn)\n",
    "print(\"nb specificity:\", specificity)\n",
    "print('nb sensitivity:', sensitivity)"
   ]
  },
  {
   "cell_type": "markdown",
   "metadata": {},
   "source": [
    "### Age Prediction"
   ]
  },
  {
   "cell_type": "markdown",
   "metadata": {},
   "source": [
    "## Model Advantages"
   ]
  },
  {
   "cell_type": "markdown",
   "metadata": {},
   "source": [
    "Discuss the advantages of each model for each classification task, if any. If there are not advantages, explain why. Is any model better than another? Is the difference significant with 95% confidence? Use proper statistical comparison methods. You must use statistical comparison techniques—be sure they are appropriate for your chosen method of validation as discussed in unit 7 of the course."
   ]
  },
  {
   "cell_type": "markdown",
   "metadata": {},
   "source": [
    "### Income Classification\n",
    "\n",
    "The Naive Bayes model performs the quickest, however the speed of the random forest classifier and the logistic regression models are also fairly quick, so time efficiency of the models is not a deciding factor in this case.\n",
    "\n",
    "The logistic regression model is the most interpretable, and overall seems to be the best fit. While the Naive Bayes model performed well against the test set, it struggled in the training cross validation which may suggest it is underfit compared to the logistic regression model.  \n",
    "\n",
    "The Random Forest Classifier performed consistently well on the oversampled training data but dropped off in sensitivity greatly against the holdout data. With requiring at least 100 samples per \"leaf\", the model should be reasonably well fit and not be overly biased, however even with oversampling, it struggled to create branches to predict the minority class which is our primary goal. \n",
    "\n",
    "10 KFold cross validated t tests show that there is overwelming statistical signifcance that the logistic regression model outperforms the RFC model in recall score against the holdout set. Interestingly it appears the Naive Bayes model also performed even against the logistic regression model and that there is sufficient evidence to suggest it is the best model for mean recall."
   ]
  },
  {
   "cell_type": "code",
   "execution_count": 28,
   "metadata": {},
   "outputs": [
    {
     "name": "stderr",
     "output_type": "stream",
     "text": [
      "c:\\Users\\dobbs\\anaconda3\\lib\\site-packages\\sklearn\\svm\\_base.py:1225: ConvergenceWarning: Liblinear failed to converge, increase the number of iterations.\n",
      "  warnings.warn(\n",
      "c:\\Users\\dobbs\\anaconda3\\lib\\site-packages\\sklearn\\svm\\_base.py:1225: ConvergenceWarning: Liblinear failed to converge, increase the number of iterations.\n",
      "  warnings.warn(\n",
      "c:\\Users\\dobbs\\anaconda3\\lib\\site-packages\\sklearn\\svm\\_base.py:1225: ConvergenceWarning: Liblinear failed to converge, increase the number of iterations.\n",
      "  warnings.warn(\n"
     ]
    },
    {
     "name": "stdout",
     "output_type": "stream",
     "text": [
      "t statistic: -10.898\n",
      "p value: 0.000\n"
     ]
    }
   ],
   "source": [
    "#paired 10fold ttest CV between RFC and Logreg\n",
    "\n",
    "from mlxtend.evaluate import paired_ttest_kfold_cv\n",
    "\n",
    "\n",
    "t, p = paired_ttest_kfold_cv(estimator1=rfc,\n",
    "                              estimator2=logreg,\n",
    "                              X=X_test_over, y=y_test,\n",
    "                              random_seed=42, scoring = 'recall')\n",
    "\n",
    "print('t statistic: %.3f' % t)\n",
    "print('p value: %.3f' % p)\n",
    "\n",
    "\n"
   ]
  },
  {
   "cell_type": "code",
   "execution_count": 29,
   "metadata": {},
   "outputs": [
    {
     "name": "stderr",
     "output_type": "stream",
     "text": [
      "c:\\Users\\dobbs\\anaconda3\\lib\\site-packages\\sklearn\\svm\\_base.py:1225: ConvergenceWarning: Liblinear failed to converge, increase the number of iterations.\n",
      "  warnings.warn(\n",
      "c:\\Users\\dobbs\\anaconda3\\lib\\site-packages\\sklearn\\svm\\_base.py:1225: ConvergenceWarning: Liblinear failed to converge, increase the number of iterations.\n",
      "  warnings.warn(\n",
      "c:\\Users\\dobbs\\anaconda3\\lib\\site-packages\\sklearn\\svm\\_base.py:1225: ConvergenceWarning: Liblinear failed to converge, increase the number of iterations.\n",
      "  warnings.warn(\n"
     ]
    },
    {
     "name": "stdout",
     "output_type": "stream",
     "text": [
      "t statistic: 12.591\n",
      "p value: 0.000\n"
     ]
    }
   ],
   "source": [
    "#paired 10fold ttest CV between NB model and Logreg\n",
    "\n",
    "t, p = paired_ttest_kfold_cv(estimator1=nb,\n",
    "                              estimator2=logreg,\n",
    "                              X=X_test_over, y=y_test,\n",
    "                              random_seed=42, scoring = 'recall')\n",
    "\n",
    "print('t statistic: %.3f' % t)\n",
    "print('p value: %.3f' % p)"
   ]
  },
  {
   "cell_type": "markdown",
   "metadata": {},
   "source": [
    "### Age Prediction"
   ]
  },
  {
   "cell_type": "markdown",
   "metadata": {},
   "source": [
    "## Attribute Importance"
   ]
  },
  {
   "cell_type": "markdown",
   "metadata": {},
   "source": [
    "Which attributes from your analysis are most important? Use proper methods discussed in class to evaluate the importance of different attributes. Discuss the results and hypothesize about why certain attributes are more important than others for a given classification task."
   ]
  },
  {
   "cell_type": "markdown",
   "metadata": {},
   "source": [
    "### Income Classification\n",
    "\n",
    "Since logistic regression provides feature importances and was our best performing model, we will use it to evaluate how important each feature is in determining if an observation makes > $50k per year. \n",
    "\n",
    "Top 5 Most Important Variables:\n",
    "\n",
    "1. **Age** - Age is the most important feature with a weight of over 3, which is not surprising, since people early in their careers typically will make less money than they will later on. Higher age is more time to earn promotions, etc. \n",
    "1. **Hours Worked** - Hours worked per week is next up with a weight of 2.8. This makes sense as those working lots of overtime, or at least 40 hours per week are likely to at least have steady jobs or a salaried job. After this, the remaining features begin to quickly drop off in importance with no values even greater than 1. This means that age and hours worked was doing much of the \"work\" in prediction. \n",
    "1. **Education Amount** - The number of years of education is the fifth most weighted variable with a weight of -.97. This is also not surprising, as those who attain an undergraduate degree or higher are more likely to be in techincal skilled jobs that are higher paying than those without an upper level degree. It is interesting this weight has a negative value, however these weights are working interactively with all the variables in the model, so one should not necarilly interpret the negative value as having a higher education leads to less income. \n",
    "1. **United States** - Next is if the obserrvation is native to the US, with another negative weight of -.71. This is somewhat interesting, because it is such a large amount of the observations that one might expect it to be fairly representative of the entire population. I would have expected other country variables to be more important, if they were from a group of immigrants typically going into higher or lower paying jobs. \n",
    "1. **White** - Last up is if the observation is white, with a negative weight of -.47. Similar to the above variable, this group is likely a large portion of the observations and so is somewhat surprising in that case. It could be due to the lack of balance in the dataset overweighting these variables that are also overly represented in the dataset. \n"
   ]
  },
  {
   "cell_type": "code",
   "execution_count": 30,
   "metadata": {},
   "outputs": [],
   "source": [
    "#calculate importances\n",
    "importances = pd.DataFrame(data = {\n",
    "    'Attribute': train.columns,\n",
    "    'Importance': logreg.coef_[0]\n",
    "})\n",
    "\n",
    "#sort by abs value - https://stackoverflow.com/questions/30486263/sorting-by-absolute-value-without-changing-the-data\n",
    "\n",
    "importances = importances.reindex(importances.Importance.abs().sort_values(ascending = False).index)\n",
    "\n",
    "#filter to top 10\n",
    "importances = importances.head(n = 10)"
   ]
  },
  {
   "cell_type": "code",
   "execution_count": 31,
   "metadata": {},
   "outputs": [
    {
     "data": {
      "application/vnd.plotly.v1+json": {
       "config": {
        "plotlyServerURL": "https://plot.ly"
       },
       "data": [
        {
         "alignmentgroup": "True",
         "hovertemplate": "variable=Importance<br>Attribute=%{x}<br>value=%{y}<extra></extra>",
         "legendgroup": "Importance",
         "marker": {
          "color": "#636efa",
          "pattern": {
           "shape": ""
          }
         },
         "name": "Importance",
         "offsetgroup": "Importance",
         "orientation": "v",
         "showlegend": true,
         "textposition": "auto",
         "type": "bar",
         "x": [
          "hours-per-week",
          "age",
          "educational-num",
          "United-States",
          "White",
          "Never-married",
          "fnlwgt",
          "Female",
          "Black",
          "Private"
         ],
         "xaxis": "x",
         "y": [
          2.8935436463196633,
          2.4951756162224177,
          -0.9362747002969612,
          -0.7166817364398691,
          -0.4344439771509179,
          -0.43436775399119376,
          -0.4259360546053885,
          -0.35505553372921783,
          -0.3177696527228028,
          -0.3072592245225321
         ],
         "yaxis": "y"
        }
       ],
       "layout": {
        "barmode": "relative",
        "legend": {
         "title": {
          "text": "variable"
         },
         "tracegroupgap": 0
        },
        "template": {
         "data": {
          "bar": [
           {
            "error_x": {
             "color": "#2a3f5f"
            },
            "error_y": {
             "color": "#2a3f5f"
            },
            "marker": {
             "line": {
              "color": "#E5ECF6",
              "width": 0.5
             },
             "pattern": {
              "fillmode": "overlay",
              "size": 10,
              "solidity": 0.2
             }
            },
            "type": "bar"
           }
          ],
          "barpolar": [
           {
            "marker": {
             "line": {
              "color": "#E5ECF6",
              "width": 0.5
             },
             "pattern": {
              "fillmode": "overlay",
              "size": 10,
              "solidity": 0.2
             }
            },
            "type": "barpolar"
           }
          ],
          "carpet": [
           {
            "aaxis": {
             "endlinecolor": "#2a3f5f",
             "gridcolor": "white",
             "linecolor": "white",
             "minorgridcolor": "white",
             "startlinecolor": "#2a3f5f"
            },
            "baxis": {
             "endlinecolor": "#2a3f5f",
             "gridcolor": "white",
             "linecolor": "white",
             "minorgridcolor": "white",
             "startlinecolor": "#2a3f5f"
            },
            "type": "carpet"
           }
          ],
          "choropleth": [
           {
            "colorbar": {
             "outlinewidth": 0,
             "ticks": ""
            },
            "type": "choropleth"
           }
          ],
          "contour": [
           {
            "colorbar": {
             "outlinewidth": 0,
             "ticks": ""
            },
            "colorscale": [
             [
              0,
              "#0d0887"
             ],
             [
              0.1111111111111111,
              "#46039f"
             ],
             [
              0.2222222222222222,
              "#7201a8"
             ],
             [
              0.3333333333333333,
              "#9c179e"
             ],
             [
              0.4444444444444444,
              "#bd3786"
             ],
             [
              0.5555555555555556,
              "#d8576b"
             ],
             [
              0.6666666666666666,
              "#ed7953"
             ],
             [
              0.7777777777777778,
              "#fb9f3a"
             ],
             [
              0.8888888888888888,
              "#fdca26"
             ],
             [
              1,
              "#f0f921"
             ]
            ],
            "type": "contour"
           }
          ],
          "contourcarpet": [
           {
            "colorbar": {
             "outlinewidth": 0,
             "ticks": ""
            },
            "type": "contourcarpet"
           }
          ],
          "heatmap": [
           {
            "colorbar": {
             "outlinewidth": 0,
             "ticks": ""
            },
            "colorscale": [
             [
              0,
              "#0d0887"
             ],
             [
              0.1111111111111111,
              "#46039f"
             ],
             [
              0.2222222222222222,
              "#7201a8"
             ],
             [
              0.3333333333333333,
              "#9c179e"
             ],
             [
              0.4444444444444444,
              "#bd3786"
             ],
             [
              0.5555555555555556,
              "#d8576b"
             ],
             [
              0.6666666666666666,
              "#ed7953"
             ],
             [
              0.7777777777777778,
              "#fb9f3a"
             ],
             [
              0.8888888888888888,
              "#fdca26"
             ],
             [
              1,
              "#f0f921"
             ]
            ],
            "type": "heatmap"
           }
          ],
          "heatmapgl": [
           {
            "colorbar": {
             "outlinewidth": 0,
             "ticks": ""
            },
            "colorscale": [
             [
              0,
              "#0d0887"
             ],
             [
              0.1111111111111111,
              "#46039f"
             ],
             [
              0.2222222222222222,
              "#7201a8"
             ],
             [
              0.3333333333333333,
              "#9c179e"
             ],
             [
              0.4444444444444444,
              "#bd3786"
             ],
             [
              0.5555555555555556,
              "#d8576b"
             ],
             [
              0.6666666666666666,
              "#ed7953"
             ],
             [
              0.7777777777777778,
              "#fb9f3a"
             ],
             [
              0.8888888888888888,
              "#fdca26"
             ],
             [
              1,
              "#f0f921"
             ]
            ],
            "type": "heatmapgl"
           }
          ],
          "histogram": [
           {
            "marker": {
             "pattern": {
              "fillmode": "overlay",
              "size": 10,
              "solidity": 0.2
             }
            },
            "type": "histogram"
           }
          ],
          "histogram2d": [
           {
            "colorbar": {
             "outlinewidth": 0,
             "ticks": ""
            },
            "colorscale": [
             [
              0,
              "#0d0887"
             ],
             [
              0.1111111111111111,
              "#46039f"
             ],
             [
              0.2222222222222222,
              "#7201a8"
             ],
             [
              0.3333333333333333,
              "#9c179e"
             ],
             [
              0.4444444444444444,
              "#bd3786"
             ],
             [
              0.5555555555555556,
              "#d8576b"
             ],
             [
              0.6666666666666666,
              "#ed7953"
             ],
             [
              0.7777777777777778,
              "#fb9f3a"
             ],
             [
              0.8888888888888888,
              "#fdca26"
             ],
             [
              1,
              "#f0f921"
             ]
            ],
            "type": "histogram2d"
           }
          ],
          "histogram2dcontour": [
           {
            "colorbar": {
             "outlinewidth": 0,
             "ticks": ""
            },
            "colorscale": [
             [
              0,
              "#0d0887"
             ],
             [
              0.1111111111111111,
              "#46039f"
             ],
             [
              0.2222222222222222,
              "#7201a8"
             ],
             [
              0.3333333333333333,
              "#9c179e"
             ],
             [
              0.4444444444444444,
              "#bd3786"
             ],
             [
              0.5555555555555556,
              "#d8576b"
             ],
             [
              0.6666666666666666,
              "#ed7953"
             ],
             [
              0.7777777777777778,
              "#fb9f3a"
             ],
             [
              0.8888888888888888,
              "#fdca26"
             ],
             [
              1,
              "#f0f921"
             ]
            ],
            "type": "histogram2dcontour"
           }
          ],
          "mesh3d": [
           {
            "colorbar": {
             "outlinewidth": 0,
             "ticks": ""
            },
            "type": "mesh3d"
           }
          ],
          "parcoords": [
           {
            "line": {
             "colorbar": {
              "outlinewidth": 0,
              "ticks": ""
             }
            },
            "type": "parcoords"
           }
          ],
          "pie": [
           {
            "automargin": true,
            "type": "pie"
           }
          ],
          "scatter": [
           {
            "fillpattern": {
             "fillmode": "overlay",
             "size": 10,
             "solidity": 0.2
            },
            "type": "scatter"
           }
          ],
          "scatter3d": [
           {
            "line": {
             "colorbar": {
              "outlinewidth": 0,
              "ticks": ""
             }
            },
            "marker": {
             "colorbar": {
              "outlinewidth": 0,
              "ticks": ""
             }
            },
            "type": "scatter3d"
           }
          ],
          "scattercarpet": [
           {
            "marker": {
             "colorbar": {
              "outlinewidth": 0,
              "ticks": ""
             }
            },
            "type": "scattercarpet"
           }
          ],
          "scattergeo": [
           {
            "marker": {
             "colorbar": {
              "outlinewidth": 0,
              "ticks": ""
             }
            },
            "type": "scattergeo"
           }
          ],
          "scattergl": [
           {
            "marker": {
             "colorbar": {
              "outlinewidth": 0,
              "ticks": ""
             }
            },
            "type": "scattergl"
           }
          ],
          "scattermapbox": [
           {
            "marker": {
             "colorbar": {
              "outlinewidth": 0,
              "ticks": ""
             }
            },
            "type": "scattermapbox"
           }
          ],
          "scatterpolar": [
           {
            "marker": {
             "colorbar": {
              "outlinewidth": 0,
              "ticks": ""
             }
            },
            "type": "scatterpolar"
           }
          ],
          "scatterpolargl": [
           {
            "marker": {
             "colorbar": {
              "outlinewidth": 0,
              "ticks": ""
             }
            },
            "type": "scatterpolargl"
           }
          ],
          "scatterternary": [
           {
            "marker": {
             "colorbar": {
              "outlinewidth": 0,
              "ticks": ""
             }
            },
            "type": "scatterternary"
           }
          ],
          "surface": [
           {
            "colorbar": {
             "outlinewidth": 0,
             "ticks": ""
            },
            "colorscale": [
             [
              0,
              "#0d0887"
             ],
             [
              0.1111111111111111,
              "#46039f"
             ],
             [
              0.2222222222222222,
              "#7201a8"
             ],
             [
              0.3333333333333333,
              "#9c179e"
             ],
             [
              0.4444444444444444,
              "#bd3786"
             ],
             [
              0.5555555555555556,
              "#d8576b"
             ],
             [
              0.6666666666666666,
              "#ed7953"
             ],
             [
              0.7777777777777778,
              "#fb9f3a"
             ],
             [
              0.8888888888888888,
              "#fdca26"
             ],
             [
              1,
              "#f0f921"
             ]
            ],
            "type": "surface"
           }
          ],
          "table": [
           {
            "cells": {
             "fill": {
              "color": "#EBF0F8"
             },
             "line": {
              "color": "white"
             }
            },
            "header": {
             "fill": {
              "color": "#C8D4E3"
             },
             "line": {
              "color": "white"
             }
            },
            "type": "table"
           }
          ]
         },
         "layout": {
          "annotationdefaults": {
           "arrowcolor": "#2a3f5f",
           "arrowhead": 0,
           "arrowwidth": 1
          },
          "autotypenumbers": "strict",
          "coloraxis": {
           "colorbar": {
            "outlinewidth": 0,
            "ticks": ""
           }
          },
          "colorscale": {
           "diverging": [
            [
             0,
             "#8e0152"
            ],
            [
             0.1,
             "#c51b7d"
            ],
            [
             0.2,
             "#de77ae"
            ],
            [
             0.3,
             "#f1b6da"
            ],
            [
             0.4,
             "#fde0ef"
            ],
            [
             0.5,
             "#f7f7f7"
            ],
            [
             0.6,
             "#e6f5d0"
            ],
            [
             0.7,
             "#b8e186"
            ],
            [
             0.8,
             "#7fbc41"
            ],
            [
             0.9,
             "#4d9221"
            ],
            [
             1,
             "#276419"
            ]
           ],
           "sequential": [
            [
             0,
             "#0d0887"
            ],
            [
             0.1111111111111111,
             "#46039f"
            ],
            [
             0.2222222222222222,
             "#7201a8"
            ],
            [
             0.3333333333333333,
             "#9c179e"
            ],
            [
             0.4444444444444444,
             "#bd3786"
            ],
            [
             0.5555555555555556,
             "#d8576b"
            ],
            [
             0.6666666666666666,
             "#ed7953"
            ],
            [
             0.7777777777777778,
             "#fb9f3a"
            ],
            [
             0.8888888888888888,
             "#fdca26"
            ],
            [
             1,
             "#f0f921"
            ]
           ],
           "sequentialminus": [
            [
             0,
             "#0d0887"
            ],
            [
             0.1111111111111111,
             "#46039f"
            ],
            [
             0.2222222222222222,
             "#7201a8"
            ],
            [
             0.3333333333333333,
             "#9c179e"
            ],
            [
             0.4444444444444444,
             "#bd3786"
            ],
            [
             0.5555555555555556,
             "#d8576b"
            ],
            [
             0.6666666666666666,
             "#ed7953"
            ],
            [
             0.7777777777777778,
             "#fb9f3a"
            ],
            [
             0.8888888888888888,
             "#fdca26"
            ],
            [
             1,
             "#f0f921"
            ]
           ]
          },
          "colorway": [
           "#636efa",
           "#EF553B",
           "#00cc96",
           "#ab63fa",
           "#FFA15A",
           "#19d3f3",
           "#FF6692",
           "#B6E880",
           "#FF97FF",
           "#FECB52"
          ],
          "font": {
           "color": "#2a3f5f"
          },
          "geo": {
           "bgcolor": "white",
           "lakecolor": "white",
           "landcolor": "#E5ECF6",
           "showlakes": true,
           "showland": true,
           "subunitcolor": "white"
          },
          "hoverlabel": {
           "align": "left"
          },
          "hovermode": "closest",
          "mapbox": {
           "style": "light"
          },
          "paper_bgcolor": "white",
          "plot_bgcolor": "#E5ECF6",
          "polar": {
           "angularaxis": {
            "gridcolor": "white",
            "linecolor": "white",
            "ticks": ""
           },
           "bgcolor": "#E5ECF6",
           "radialaxis": {
            "gridcolor": "white",
            "linecolor": "white",
            "ticks": ""
           }
          },
          "scene": {
           "xaxis": {
            "backgroundcolor": "#E5ECF6",
            "gridcolor": "white",
            "gridwidth": 2,
            "linecolor": "white",
            "showbackground": true,
            "ticks": "",
            "zerolinecolor": "white"
           },
           "yaxis": {
            "backgroundcolor": "#E5ECF6",
            "gridcolor": "white",
            "gridwidth": 2,
            "linecolor": "white",
            "showbackground": true,
            "ticks": "",
            "zerolinecolor": "white"
           },
           "zaxis": {
            "backgroundcolor": "#E5ECF6",
            "gridcolor": "white",
            "gridwidth": 2,
            "linecolor": "white",
            "showbackground": true,
            "ticks": "",
            "zerolinecolor": "white"
           }
          },
          "shapedefaults": {
           "line": {
            "color": "#2a3f5f"
           }
          },
          "ternary": {
           "aaxis": {
            "gridcolor": "white",
            "linecolor": "white",
            "ticks": ""
           },
           "baxis": {
            "gridcolor": "white",
            "linecolor": "white",
            "ticks": ""
           },
           "bgcolor": "#E5ECF6",
           "caxis": {
            "gridcolor": "white",
            "linecolor": "white",
            "ticks": ""
           }
          },
          "title": {
           "x": 0.05
          },
          "xaxis": {
           "automargin": true,
           "gridcolor": "white",
           "linecolor": "white",
           "ticks": "",
           "title": {
            "standoff": 15
           },
           "zerolinecolor": "white",
           "zerolinewidth": 2
          },
          "yaxis": {
           "automargin": true,
           "gridcolor": "white",
           "linecolor": "white",
           "ticks": "",
           "title": {
            "standoff": 15
           },
           "zerolinecolor": "white",
           "zerolinewidth": 2
          }
         }
        },
        "title": {
         "text": "Top 10 Important Features"
        },
        "xaxis": {
         "anchor": "y",
         "domain": [
          0,
          1
         ],
         "title": {
          "text": "Attribute"
         }
        },
        "yaxis": {
         "anchor": "x",
         "domain": [
          0,
          1
         ],
         "title": {
          "text": "value"
         }
        }
       }
      }
     },
     "metadata": {},
     "output_type": "display_data"
    }
   ],
   "source": [
    "import plotly.express as px\n",
    "fig = px.bar(importances, x=\"Attribute\", y=[\"Importance\"], title=\"Top 10 Important Features\")\n",
    "fig.show()"
   ]
  },
  {
   "cell_type": "markdown",
   "metadata": {},
   "source": [
    "### Age Prediction"
   ]
  },
  {
   "cell_type": "markdown",
   "metadata": {},
   "source": [
    "## Deployment"
   ]
  },
  {
   "cell_type": "markdown",
   "metadata": {},
   "source": [
    "How useful is your model for interested parties (i.e., the companies or organizations that might want to use it for prediction)? How would you measure the model's value if it was used by these parties? How would your deploy your model for interested parties? What other data should be collected? How often would the model need to be updated, etc.? "
   ]
  },
  {
   "cell_type": "markdown",
   "metadata": {},
   "source": [
    "### Income Classification\n",
    "\n",
    "1. The  model prediction itself could be quite useful for reasons mentioned earlier, such as helping target marketing campaigns to high earners based off of demographic information if other information (such as spending habits) is not as easily available.\n",
    "1. The feature interpretation itself provides useful context in what is correlated with income. These factors can be looked at to see if there is anything surprising or indications of more systemic inequality. \n",
    "\n",
    "Since the data is quite outdated, it probably can't provide useful conclusions to today. However, it provides the barebones to \"productinize\" the model with updated census data or other demographic information. Being able to update the information with new variables or updated information will help it retain it's usefulness in either direction of prediction or interpretation. With that in mind, the 50k threshold is probably less useful today than it was before, and there could be an issue with accounting for inflation if collecting data from longer periods of time together. "
   ]
  },
  {
   "cell_type": "markdown",
   "metadata": {},
   "source": [
    "## Exceptional Work"
   ]
  },
  {
   "cell_type": "markdown",
   "metadata": {},
   "source": [
    "You have free reign to provide additional analyses. One idea: grid search parameters in a parallelized fashion and visualize the performances across attributes. Which parameters are most significant for making a good model for each classification algorithm?"
   ]
  },
  {
   "cell_type": "code",
   "execution_count": null,
   "metadata": {},
   "outputs": [],
   "source": []
  }
 ],
 "metadata": {
  "kernelspec": {
   "display_name": "Python 3.8.5 ('base')",
   "language": "python",
   "name": "python3"
  },
  "language_info": {
   "codemirror_mode": {
    "name": "ipython",
    "version": 3
   },
   "file_extension": ".py",
   "mimetype": "text/x-python",
   "name": "python",
   "nbconvert_exporter": "python",
   "pygments_lexer": "ipython3",
   "version": "3.8.5"
  },
  "orig_nbformat": 4,
  "vscode": {
   "interpreter": {
    "hash": "15c55a88c969a044bee6557bfeb40235ce004cc486821eff8c3e6916f943766a"
   }
  }
 },
 "nbformat": 4,
 "nbformat_minor": 2
}
