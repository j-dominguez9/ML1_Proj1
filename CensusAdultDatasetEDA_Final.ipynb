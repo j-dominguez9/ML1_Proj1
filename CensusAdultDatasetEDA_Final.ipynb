{
 "cells": [
  {
   "cell_type": "markdown",
   "metadata": {},
   "source": [
    "# Business Understanding\n",
    "\n",
    "## Purpose of Data:\n",
    "\n",
    "This data was originally collected as part of the 1994 US Census. According to census.gov, The purpose of the Census is for the government to better understand the demographics of the people living there and where a variety of metrics are trending. This information is used to help determine where and how to allocate federal and state funding. The raw data was then extracted and compiled by Barry Becker and is available on UCI's machine learning repository here: https://archive.ics.uci.edu/ml/datasets/adult\n",
    "\n",
    "## Data Outcomes\n",
    "\n",
    "There are two outcomes in mind with this dataset:\n",
    "\n",
    "1. To use logistic regression or a random forest model to predict whether an observation makes more or less than \\$50k. Repeated 10 fold cross validation will be used to obtain metrics. While classification accuracy will be the primary measure of prediction success, since this is an unbalanced dataset, precision will also be an important metric to judge success to see how well the prediction works at correctly identifying those that make greater than $50k. Since this is the smaller level of outcomes, it will be harder to predict, and in a context of trying to predict who to market something towards, could be more valuable. The goal will be to try to maximize precision while keeping accuracy above that of a naive models performance. \n",
    "1. To use multiple linear regression to predict age. Repeated 10 fold cross validation will be used to obtain metrics and judging success based off RMSE, because it will provide a clearly interpretable measure of how close the model is able to typically predict the age of an observation from just the available variables in the dataset.  "
   ]
  },
  {
   "cell_type": "markdown",
   "metadata": {},
   "source": [
    "# Data Understanding\n",
    "\n",
    "## Data Meaning and Type\n",
    "\n",
    "The dataset contains 48,842 observations with 15 total variables, for a total of 732,630 data elements. The below list contains each attribute definition based on the UCI archive and data type determined in the code below. \n",
    "\n",
    "* age (integer between 17 and 90): The age of the individaul observed.\n",
    "* workclass (object with 8 levels): The employment type of the individual. For example if they are self employed or government employed. \n",
    "* fnlwgt (integer between ~12,285 and ~1,490,400): The definition of this is slightly unclear, but generally seems to be the number of people the census estimates the observation represents. \n",
    "* education (object with 16 levels): Category of education completed by observation.\n",
    "* educational-num (integer between 1 and 16): Numeric value of education completed by observation. \n",
    "* marital-status (object with 7 levels): Marital status of individual, including if their spouse is in the armed forces or absent.\n",
    "* occupation (object with 14 levels): The type of work the indidividual does.\n",
    "* relationship (object with 6 levels): Relationship individual has with others in the househould, similar to marital status but includes other categories potentially more applicable to younger observations such as ownly child or not in a family. \n",
    "* race (object with 5 levels): Race of indivdual\n",
    "* sex (object with 2 levels): Sex of individual, male or female\n",
    "* capital-gain (integer between 0 and 99,999): Self-reported capital gains by the indidivdual for the most recent year.\n",
    "* capital-loss (integer between 0 and 4,356): Self-reported capital losses by the individual for the most recent year. \n",
    "* hours-per-week (integer between 1 and 99): Self-reported number of hours worked per week by the individual.\n",
    "* native-country (object with 42 levels): Native country of the individual\n",
    "* income (object with 2 levels): Self-reported income class for the individual, either greater or less than $50k.\n"
   ]
  },
  {
   "cell_type": "code",
   "execution_count": 4,
   "metadata": {},
   "outputs": [
    {
     "name": "stdout",
     "output_type": "stream",
     "text": [
      "<class 'pandas.core.frame.DataFrame'>\n",
      "RangeIndex: 48842 entries, 0 to 48841\n",
      "Data columns (total 15 columns):\n",
      " #   Column           Non-Null Count  Dtype \n",
      "---  ------           --------------  ----- \n",
      " 0   age              48842 non-null  int64 \n",
      " 1   workclass        46043 non-null  object\n",
      " 2   fnlwgt           48842 non-null  int64 \n",
      " 3   education        48842 non-null  object\n",
      " 4   educational-num  48842 non-null  int64 \n",
      " 5   marital-status   48842 non-null  object\n",
      " 6   occupation       46033 non-null  object\n",
      " 7   relationship     48842 non-null  object\n",
      " 8   race             48842 non-null  object\n",
      " 9   gender           48842 non-null  object\n",
      " 10  capital-gain     48842 non-null  int64 \n",
      " 11  capital-loss     48842 non-null  int64 \n",
      " 12  hours-per-week   48842 non-null  int64 \n",
      " 13  native-country   47985 non-null  object\n",
      " 14  income           48842 non-null  object\n",
      "dtypes: int64(6), object(9)\n",
      "memory usage: 5.6+ MB\n",
      "No.of.unique values in each column :\n",
      " age                   74\n",
      "workclass              8\n",
      "fnlwgt             28523\n",
      "education             16\n",
      "educational-num       16\n",
      "marital-status         7\n",
      "occupation            14\n",
      "relationship           6\n",
      "race                   5\n",
      "gender                 2\n",
      "capital-gain         123\n",
      "capital-loss          99\n",
      "hours-per-week        96\n",
      "native-country        41\n",
      "income                 2\n",
      "dtype: int64\n"
     ]
    }
   ],
   "source": [
    "import pandas as pd\n",
    "import numpy as np\n",
    "import matplotlib.pyplot as plt\n",
    "import seaborn as sns\n",
    "\n",
    "df = pd.read_csv('data/adult.csv') # read in the csv file\n",
    "\n",
    "#replace question mark values as na\n",
    "df = df.replace('?', np.NaN)\n",
    "\n",
    "df.info()\n",
    "\n",
    "# below method of finding count of unique values by column from: https://www.geeksforgeeks.org/how-to-count-distinct-values-of-a-pandas-dataframe-column/\n",
    "\n",
    "n = df.nunique(axis=0)\n",
    "  \n",
    "print(\"No.of.unique values in each column :\\n\",\n",
    "      n)"
   ]
  },
  {
   "cell_type": "markdown",
   "metadata": {},
   "source": [
    "## Data Quality\n",
    "\n",
    "### Missing Values - Workclass and Occupation\n",
    "\n",
    "There are missing values in 3 of the columns: workclass, occupation, and native-country. \n",
    "\n",
    "While a missing value in occupation could indicate unemployed, it would then be expected to better align with the count of workclass in the level of \"never-worked\" and/or \"Without pay\", however this is not the case. \n",
    "\n",
    "It is also seen that all 2,799 missing workclass values are also missing an occupation. This pattern might suggest that they are unemployed, however they are still reporting working hours as well as at times income > $50k. \n",
    "\n",
    "The most likely explanation is a data collection or data quality issue for these two fields, since everyone should have a native country and class of work. With no clear pattern to these missing values, we will drop these records rather than trying to impute and potentially bias the dataset.  "
   ]
  },
  {
   "cell_type": "code",
   "execution_count": 5,
   "metadata": {},
   "outputs": [
    {
     "data": {
      "text/plain": [
       "age                   0\n",
       "workclass          2799\n",
       "fnlwgt                0\n",
       "education             0\n",
       "educational-num       0\n",
       "marital-status        0\n",
       "occupation         2809\n",
       "relationship          0\n",
       "race                  0\n",
       "gender                0\n",
       "capital-gain          0\n",
       "capital-loss          0\n",
       "hours-per-week        0\n",
       "native-country      857\n",
       "income                0\n",
       "dtype: int64"
      ]
     },
     "execution_count": 5,
     "metadata": {},
     "output_type": "execute_result"
    }
   ],
   "source": [
    "# count missing values in each column\n",
    "df.isna().sum()"
   ]
  },
  {
   "cell_type": "code",
   "execution_count": 6,
   "metadata": {},
   "outputs": [
    {
     "data": {
      "text/html": [
       "<div>\n",
       "<style scoped>\n",
       "    .dataframe tbody tr th:only-of-type {\n",
       "        vertical-align: middle;\n",
       "    }\n",
       "\n",
       "    .dataframe tbody tr th {\n",
       "        vertical-align: top;\n",
       "    }\n",
       "\n",
       "    .dataframe thead th {\n",
       "        text-align: right;\n",
       "    }\n",
       "</style>\n",
       "<table border=\"1\" class=\"dataframe\">\n",
       "  <thead>\n",
       "    <tr style=\"text-align: right;\">\n",
       "      <th></th>\n",
       "      <th>age</th>\n",
       "      <th>fnlwgt</th>\n",
       "      <th>education</th>\n",
       "      <th>educational-num</th>\n",
       "      <th>marital-status</th>\n",
       "      <th>occupation</th>\n",
       "      <th>relationship</th>\n",
       "      <th>race</th>\n",
       "      <th>gender</th>\n",
       "      <th>capital-gain</th>\n",
       "      <th>capital-loss</th>\n",
       "      <th>hours-per-week</th>\n",
       "      <th>native-country</th>\n",
       "      <th>income</th>\n",
       "    </tr>\n",
       "    <tr>\n",
       "      <th>workclass</th>\n",
       "      <th></th>\n",
       "      <th></th>\n",
       "      <th></th>\n",
       "      <th></th>\n",
       "      <th></th>\n",
       "      <th></th>\n",
       "      <th></th>\n",
       "      <th></th>\n",
       "      <th></th>\n",
       "      <th></th>\n",
       "      <th></th>\n",
       "      <th></th>\n",
       "      <th></th>\n",
       "      <th></th>\n",
       "    </tr>\n",
       "  </thead>\n",
       "  <tbody>\n",
       "    <tr>\n",
       "      <th>Federal-gov</th>\n",
       "      <td>1432</td>\n",
       "      <td>1432</td>\n",
       "      <td>1432</td>\n",
       "      <td>1432</td>\n",
       "      <td>1432</td>\n",
       "      <td>1432</td>\n",
       "      <td>1432</td>\n",
       "      <td>1432</td>\n",
       "      <td>1432</td>\n",
       "      <td>1432</td>\n",
       "      <td>1432</td>\n",
       "      <td>1432</td>\n",
       "      <td>1406</td>\n",
       "      <td>1432</td>\n",
       "    </tr>\n",
       "    <tr>\n",
       "      <th>Local-gov</th>\n",
       "      <td>3136</td>\n",
       "      <td>3136</td>\n",
       "      <td>3136</td>\n",
       "      <td>3136</td>\n",
       "      <td>3136</td>\n",
       "      <td>3136</td>\n",
       "      <td>3136</td>\n",
       "      <td>3136</td>\n",
       "      <td>3136</td>\n",
       "      <td>3136</td>\n",
       "      <td>3136</td>\n",
       "      <td>3136</td>\n",
       "      <td>3100</td>\n",
       "      <td>3136</td>\n",
       "    </tr>\n",
       "    <tr>\n",
       "      <th>Never-worked</th>\n",
       "      <td>10</td>\n",
       "      <td>10</td>\n",
       "      <td>10</td>\n",
       "      <td>10</td>\n",
       "      <td>10</td>\n",
       "      <td>0</td>\n",
       "      <td>10</td>\n",
       "      <td>10</td>\n",
       "      <td>10</td>\n",
       "      <td>10</td>\n",
       "      <td>10</td>\n",
       "      <td>10</td>\n",
       "      <td>10</td>\n",
       "      <td>10</td>\n",
       "    </tr>\n",
       "    <tr>\n",
       "      <th>Private</th>\n",
       "      <td>33906</td>\n",
       "      <td>33906</td>\n",
       "      <td>33906</td>\n",
       "      <td>33906</td>\n",
       "      <td>33906</td>\n",
       "      <td>33906</td>\n",
       "      <td>33906</td>\n",
       "      <td>33906</td>\n",
       "      <td>33906</td>\n",
       "      <td>33906</td>\n",
       "      <td>33906</td>\n",
       "      <td>33906</td>\n",
       "      <td>33307</td>\n",
       "      <td>33906</td>\n",
       "    </tr>\n",
       "    <tr>\n",
       "      <th>Self-emp-inc</th>\n",
       "      <td>1695</td>\n",
       "      <td>1695</td>\n",
       "      <td>1695</td>\n",
       "      <td>1695</td>\n",
       "      <td>1695</td>\n",
       "      <td>1695</td>\n",
       "      <td>1695</td>\n",
       "      <td>1695</td>\n",
       "      <td>1695</td>\n",
       "      <td>1695</td>\n",
       "      <td>1695</td>\n",
       "      <td>1695</td>\n",
       "      <td>1646</td>\n",
       "      <td>1695</td>\n",
       "    </tr>\n",
       "    <tr>\n",
       "      <th>Self-emp-not-inc</th>\n",
       "      <td>3862</td>\n",
       "      <td>3862</td>\n",
       "      <td>3862</td>\n",
       "      <td>3862</td>\n",
       "      <td>3862</td>\n",
       "      <td>3862</td>\n",
       "      <td>3862</td>\n",
       "      <td>3862</td>\n",
       "      <td>3862</td>\n",
       "      <td>3862</td>\n",
       "      <td>3862</td>\n",
       "      <td>3862</td>\n",
       "      <td>3796</td>\n",
       "      <td>3862</td>\n",
       "    </tr>\n",
       "    <tr>\n",
       "      <th>State-gov</th>\n",
       "      <td>1981</td>\n",
       "      <td>1981</td>\n",
       "      <td>1981</td>\n",
       "      <td>1981</td>\n",
       "      <td>1981</td>\n",
       "      <td>1981</td>\n",
       "      <td>1981</td>\n",
       "      <td>1981</td>\n",
       "      <td>1981</td>\n",
       "      <td>1981</td>\n",
       "      <td>1981</td>\n",
       "      <td>1981</td>\n",
       "      <td>1946</td>\n",
       "      <td>1981</td>\n",
       "    </tr>\n",
       "    <tr>\n",
       "      <th>Without-pay</th>\n",
       "      <td>21</td>\n",
       "      <td>21</td>\n",
       "      <td>21</td>\n",
       "      <td>21</td>\n",
       "      <td>21</td>\n",
       "      <td>21</td>\n",
       "      <td>21</td>\n",
       "      <td>21</td>\n",
       "      <td>21</td>\n",
       "      <td>21</td>\n",
       "      <td>21</td>\n",
       "      <td>21</td>\n",
       "      <td>21</td>\n",
       "      <td>21</td>\n",
       "    </tr>\n",
       "  </tbody>\n",
       "</table>\n",
       "</div>"
      ],
      "text/plain": [
       "                    age  fnlwgt  education  educational-num  marital-status  \\\n",
       "workclass                                                                     \n",
       "Federal-gov        1432    1432       1432             1432            1432   \n",
       "Local-gov          3136    3136       3136             3136            3136   \n",
       "Never-worked         10      10         10               10              10   \n",
       "Private           33906   33906      33906            33906           33906   \n",
       "Self-emp-inc       1695    1695       1695             1695            1695   \n",
       "Self-emp-not-inc   3862    3862       3862             3862            3862   \n",
       "State-gov          1981    1981       1981             1981            1981   \n",
       "Without-pay          21      21         21               21              21   \n",
       "\n",
       "                  occupation  relationship   race  gender  capital-gain  \\\n",
       "workclass                                                                 \n",
       "Federal-gov             1432          1432   1432    1432          1432   \n",
       "Local-gov               3136          3136   3136    3136          3136   \n",
       "Never-worked               0            10     10      10            10   \n",
       "Private                33906         33906  33906   33906         33906   \n",
       "Self-emp-inc            1695          1695   1695    1695          1695   \n",
       "Self-emp-not-inc        3862          3862   3862    3862          3862   \n",
       "State-gov               1981          1981   1981    1981          1981   \n",
       "Without-pay               21            21     21      21            21   \n",
       "\n",
       "                  capital-loss  hours-per-week  native-country  income  \n",
       "workclass                                                               \n",
       "Federal-gov               1432            1432            1406    1432  \n",
       "Local-gov                 3136            3136            3100    3136  \n",
       "Never-worked                10              10              10      10  \n",
       "Private                  33906           33906           33307   33906  \n",
       "Self-emp-inc              1695            1695            1646    1695  \n",
       "Self-emp-not-inc          3862            3862            3796    3862  \n",
       "State-gov                 1981            1981            1946    1981  \n",
       "Without-pay                 21              21              21      21  "
      ]
     },
     "execution_count": 6,
     "metadata": {},
     "output_type": "execute_result"
    }
   ],
   "source": [
    "# check count of neverworked and without pay to see if it alligns with blank occupations\n",
    "df.groupby('workclass').count()"
   ]
  },
  {
   "cell_type": "code",
   "execution_count": 7,
   "metadata": {},
   "outputs": [
    {
     "data": {
      "text/plain": [
       "(2799, 15)"
      ]
     },
     "execution_count": 7,
     "metadata": {},
     "output_type": "execute_result"
    }
   ],
   "source": [
    "# see if all 2799 missing workclass are also missing occupation\n",
    "np.shape(df[(df.workclass.isnull()) & (df.occupation.isnull())])"
   ]
  },
  {
   "cell_type": "code",
   "execution_count": 8,
   "metadata": {},
   "outputs": [
    {
     "data": {
      "text/plain": [
       "age                  0\n",
       "workclass            0\n",
       "fnlwgt               0\n",
       "education            0\n",
       "educational-num      0\n",
       "marital-status       0\n",
       "occupation           0\n",
       "relationship         0\n",
       "race                 0\n",
       "gender               0\n",
       "capital-gain         0\n",
       "capital-loss         0\n",
       "hours-per-week       0\n",
       "native-country     811\n",
       "income               0\n",
       "dtype: int64"
      ]
     },
     "execution_count": 8,
     "metadata": {},
     "output_type": "execute_result"
    }
   ],
   "source": [
    "# remove missing occupation values\n",
    "df = df[df['occupation'].notna()]\n",
    "\n",
    "#see remaining missing values\n",
    "df.isna().sum()"
   ]
  },
  {
   "cell_type": "markdown",
   "metadata": {},
   "source": [
    "### Missing Values - Native Country\n",
    "\n",
    "There are still 811 missing native country values in the dataset. To see if there is a pattern in these values, a Chi-Squared test with income was done, since that is our most important field for prediction. The resulting p-value was .314, providing insufficient evidence to reject the idea that the two groups (missing and not missing countries) had a different balance of income. Therefore, these values were also removed, leaving 45,222 values. "
   ]
  },
  {
   "cell_type": "code",
   "execution_count": 9,
   "metadata": {},
   "outputs": [
    {
     "name": "stderr",
     "output_type": "stream",
     "text": [
      "C:\\Users\\Rysk\\AppData\\Local\\Temp\\ipykernel_20732\\1533713338.py:4: SettingWithCopyWarning: \n",
      "A value is trying to be set on a copy of a slice from a DataFrame.\n",
      "Try using .loc[row_indexer,col_indexer] = value instead\n",
      "\n",
      "See the caveats in the documentation: https://pandas.pydata.org/pandas-docs/stable/user_guide/indexing.html#returning-a-view-versus-a-copy\n",
      "  testdf[\"native-country\"] = np.where(testdf[\"native-country\"].isnull(), 0, 1)\n"
     ]
    }
   ],
   "source": [
    "testdf = df[['native-country', 'income']]\n",
    "\n",
    "#impute native country to just true or false, where 0 is missing values\n",
    "testdf[\"native-country\"] = np.where(testdf[\"native-country\"].isnull(), 0, 1)"
   ]
  },
  {
   "cell_type": "code",
   "execution_count": 10,
   "metadata": {},
   "outputs": [
    {
     "data": {
      "text/plain": [
       "native-country  income\n",
       "1               <=50K     34014\n",
       "                >50K      11208\n",
       "0               <=50K       597\n",
       "                >50K        214\n",
       "dtype: int64"
      ]
     },
     "execution_count": 10,
     "metadata": {},
     "output_type": "execute_result"
    }
   ],
   "source": [
    "#get category counts\n",
    "testdf.value_counts()"
   ]
  },
  {
   "cell_type": "code",
   "execution_count": 11,
   "metadata": {},
   "outputs": [
    {
     "data": {
      "text/plain": [
       "(1.0128313012805379,\n",
       " 0.3142255010560008,\n",
       " 1,\n",
       " array([[  609.7695349,   201.2304651],\n",
       "        [34001.2304651, 11220.7695349]]))"
      ]
     },
     "execution_count": 11,
     "metadata": {},
     "output_type": "execute_result"
    }
   ],
   "source": [
    "# Chi squared test, code based on: https://www.reneshbedre.com/blog/chi-square-test.html\n",
    "from scipy.stats import chi2_contingency\n",
    "\n",
    "observed = np.array([[597, 214], [34014,11208]])\n",
    "chi_val, p_val, dof, expected =  chi2_contingency(observed)\n",
    "chi_val, p_val, dof, expected"
   ]
  },
  {
   "cell_type": "code",
   "execution_count": 13,
   "metadata": {},
   "outputs": [
    {
     "data": {
      "text/plain": [
       "(45222, 15)"
      ]
     },
     "execution_count": 13,
     "metadata": {},
     "output_type": "execute_result"
    }
   ],
   "source": [
    "# remove missing country values\n",
    "df = df[df['native-country'].notna()]\n",
    "\n",
    "#see remaining missing values\n",
    "df.isna().sum()\n",
    "\n",
    "np.shape(df)"
   ]
  },
  {
   "cell_type": "markdown",
   "metadata": {},
   "source": [
    "### Duplicate Values\n",
    "\n",
    "There were 47 duplicate values in the dataset. While duplicates are unlikely, they are possible that two people responded with the same information to this set of census questions. While the data may be real, it still poses a risk of biasing the dataset towards these observations, when they contain the same information. Because of this, these 47 records are also removed. "
   ]
  },
  {
   "cell_type": "code",
   "execution_count": 14,
   "metadata": {},
   "outputs": [
    {
     "data": {
      "text/html": [
       "<div>\n",
       "<style scoped>\n",
       "    .dataframe tbody tr th:only-of-type {\n",
       "        vertical-align: middle;\n",
       "    }\n",
       "\n",
       "    .dataframe tbody tr th {\n",
       "        vertical-align: top;\n",
       "    }\n",
       "\n",
       "    .dataframe thead th {\n",
       "        text-align: right;\n",
       "    }\n",
       "</style>\n",
       "<table border=\"1\" class=\"dataframe\">\n",
       "  <thead>\n",
       "    <tr style=\"text-align: right;\">\n",
       "      <th></th>\n",
       "      <th>age</th>\n",
       "      <th>workclass</th>\n",
       "      <th>fnlwgt</th>\n",
       "      <th>education</th>\n",
       "      <th>educational-num</th>\n",
       "      <th>marital-status</th>\n",
       "      <th>occupation</th>\n",
       "      <th>relationship</th>\n",
       "      <th>race</th>\n",
       "      <th>gender</th>\n",
       "      <th>capital-gain</th>\n",
       "      <th>capital-loss</th>\n",
       "      <th>hours-per-week</th>\n",
       "      <th>native-country</th>\n",
       "      <th>income</th>\n",
       "    </tr>\n",
       "  </thead>\n",
       "  <tbody>\n",
       "    <tr>\n",
       "      <th>864</th>\n",
       "      <td>24</td>\n",
       "      <td>Private</td>\n",
       "      <td>194630</td>\n",
       "      <td>Bachelors</td>\n",
       "      <td>13</td>\n",
       "      <td>Never-married</td>\n",
       "      <td>Prof-specialty</td>\n",
       "      <td>Not-in-family</td>\n",
       "      <td>White</td>\n",
       "      <td>Male</td>\n",
       "      <td>0</td>\n",
       "      <td>0</td>\n",
       "      <td>35</td>\n",
       "      <td>United-States</td>\n",
       "      <td>&lt;=50K</td>\n",
       "    </tr>\n",
       "    <tr>\n",
       "      <th>11189</th>\n",
       "      <td>37</td>\n",
       "      <td>Private</td>\n",
       "      <td>52870</td>\n",
       "      <td>Bachelors</td>\n",
       "      <td>13</td>\n",
       "      <td>Married-civ-spouse</td>\n",
       "      <td>Exec-managerial</td>\n",
       "      <td>Husband</td>\n",
       "      <td>White</td>\n",
       "      <td>Male</td>\n",
       "      <td>0</td>\n",
       "      <td>0</td>\n",
       "      <td>40</td>\n",
       "      <td>United-States</td>\n",
       "      <td>&lt;=50K</td>\n",
       "    </tr>\n",
       "    <tr>\n",
       "      <th>11212</th>\n",
       "      <td>29</td>\n",
       "      <td>Private</td>\n",
       "      <td>36440</td>\n",
       "      <td>Bachelors</td>\n",
       "      <td>13</td>\n",
       "      <td>Never-married</td>\n",
       "      <td>Adm-clerical</td>\n",
       "      <td>Not-in-family</td>\n",
       "      <td>White</td>\n",
       "      <td>Female</td>\n",
       "      <td>0</td>\n",
       "      <td>0</td>\n",
       "      <td>40</td>\n",
       "      <td>United-States</td>\n",
       "      <td>&lt;=50K</td>\n",
       "    </tr>\n",
       "    <tr>\n",
       "      <th>13848</th>\n",
       "      <td>30</td>\n",
       "      <td>Private</td>\n",
       "      <td>180317</td>\n",
       "      <td>Assoc-voc</td>\n",
       "      <td>11</td>\n",
       "      <td>Divorced</td>\n",
       "      <td>Machine-op-inspct</td>\n",
       "      <td>Not-in-family</td>\n",
       "      <td>White</td>\n",
       "      <td>Male</td>\n",
       "      <td>0</td>\n",
       "      <td>0</td>\n",
       "      <td>40</td>\n",
       "      <td>United-States</td>\n",
       "      <td>&lt;=50K</td>\n",
       "    </tr>\n",
       "    <tr>\n",
       "      <th>15960</th>\n",
       "      <td>18</td>\n",
       "      <td>Self-emp-inc</td>\n",
       "      <td>378036</td>\n",
       "      <td>12th</td>\n",
       "      <td>8</td>\n",
       "      <td>Never-married</td>\n",
       "      <td>Farming-fishing</td>\n",
       "      <td>Own-child</td>\n",
       "      <td>White</td>\n",
       "      <td>Male</td>\n",
       "      <td>0</td>\n",
       "      <td>0</td>\n",
       "      <td>10</td>\n",
       "      <td>United-States</td>\n",
       "      <td>&lt;=50K</td>\n",
       "    </tr>\n",
       "    <tr>\n",
       "      <th>18476</th>\n",
       "      <td>39</td>\n",
       "      <td>Private</td>\n",
       "      <td>184659</td>\n",
       "      <td>HS-grad</td>\n",
       "      <td>9</td>\n",
       "      <td>Married-civ-spouse</td>\n",
       "      <td>Machine-op-inspct</td>\n",
       "      <td>Husband</td>\n",
       "      <td>White</td>\n",
       "      <td>Male</td>\n",
       "      <td>0</td>\n",
       "      <td>0</td>\n",
       "      <td>40</td>\n",
       "      <td>United-States</td>\n",
       "      <td>&lt;=50K</td>\n",
       "    </tr>\n",
       "    <tr>\n",
       "      <th>19399</th>\n",
       "      <td>19</td>\n",
       "      <td>Private</td>\n",
       "      <td>130431</td>\n",
       "      <td>5th-6th</td>\n",
       "      <td>3</td>\n",
       "      <td>Never-married</td>\n",
       "      <td>Farming-fishing</td>\n",
       "      <td>Not-in-family</td>\n",
       "      <td>White</td>\n",
       "      <td>Male</td>\n",
       "      <td>0</td>\n",
       "      <td>0</td>\n",
       "      <td>36</td>\n",
       "      <td>Mexico</td>\n",
       "      <td>&lt;=50K</td>\n",
       "    </tr>\n",
       "    <tr>\n",
       "      <th>19726</th>\n",
       "      <td>41</td>\n",
       "      <td>Private</td>\n",
       "      <td>116391</td>\n",
       "      <td>Bachelors</td>\n",
       "      <td>13</td>\n",
       "      <td>Married-civ-spouse</td>\n",
       "      <td>Exec-managerial</td>\n",
       "      <td>Husband</td>\n",
       "      <td>White</td>\n",
       "      <td>Male</td>\n",
       "      <td>0</td>\n",
       "      <td>0</td>\n",
       "      <td>40</td>\n",
       "      <td>United-States</td>\n",
       "      <td>&gt;50K</td>\n",
       "    </tr>\n",
       "    <tr>\n",
       "      <th>20606</th>\n",
       "      <td>25</td>\n",
       "      <td>Private</td>\n",
       "      <td>308144</td>\n",
       "      <td>Bachelors</td>\n",
       "      <td>13</td>\n",
       "      <td>Never-married</td>\n",
       "      <td>Craft-repair</td>\n",
       "      <td>Not-in-family</td>\n",
       "      <td>White</td>\n",
       "      <td>Male</td>\n",
       "      <td>0</td>\n",
       "      <td>0</td>\n",
       "      <td>40</td>\n",
       "      <td>Mexico</td>\n",
       "      <td>&lt;=50K</td>\n",
       "    </tr>\n",
       "    <tr>\n",
       "      <th>21162</th>\n",
       "      <td>25</td>\n",
       "      <td>Private</td>\n",
       "      <td>308144</td>\n",
       "      <td>Bachelors</td>\n",
       "      <td>13</td>\n",
       "      <td>Never-married</td>\n",
       "      <td>Craft-repair</td>\n",
       "      <td>Not-in-family</td>\n",
       "      <td>White</td>\n",
       "      <td>Male</td>\n",
       "      <td>0</td>\n",
       "      <td>0</td>\n",
       "      <td>40</td>\n",
       "      <td>Mexico</td>\n",
       "      <td>&lt;=50K</td>\n",
       "    </tr>\n",
       "    <tr>\n",
       "      <th>21385</th>\n",
       "      <td>90</td>\n",
       "      <td>Private</td>\n",
       "      <td>52386</td>\n",
       "      <td>Some-college</td>\n",
       "      <td>10</td>\n",
       "      <td>Never-married</td>\n",
       "      <td>Other-service</td>\n",
       "      <td>Not-in-family</td>\n",
       "      <td>Asian-Pac-Islander</td>\n",
       "      <td>Male</td>\n",
       "      <td>0</td>\n",
       "      <td>0</td>\n",
       "      <td>35</td>\n",
       "      <td>United-States</td>\n",
       "      <td>&lt;=50K</td>\n",
       "    </tr>\n",
       "    <tr>\n",
       "      <th>24361</th>\n",
       "      <td>21</td>\n",
       "      <td>Private</td>\n",
       "      <td>243368</td>\n",
       "      <td>Preschool</td>\n",
       "      <td>1</td>\n",
       "      <td>Never-married</td>\n",
       "      <td>Farming-fishing</td>\n",
       "      <td>Not-in-family</td>\n",
       "      <td>White</td>\n",
       "      <td>Male</td>\n",
       "      <td>0</td>\n",
       "      <td>0</td>\n",
       "      <td>50</td>\n",
       "      <td>Mexico</td>\n",
       "      <td>&lt;=50K</td>\n",
       "    </tr>\n",
       "    <tr>\n",
       "      <th>25452</th>\n",
       "      <td>21</td>\n",
       "      <td>Private</td>\n",
       "      <td>250051</td>\n",
       "      <td>Some-college</td>\n",
       "      <td>10</td>\n",
       "      <td>Never-married</td>\n",
       "      <td>Prof-specialty</td>\n",
       "      <td>Own-child</td>\n",
       "      <td>White</td>\n",
       "      <td>Female</td>\n",
       "      <td>0</td>\n",
       "      <td>0</td>\n",
       "      <td>10</td>\n",
       "      <td>United-States</td>\n",
       "      <td>&lt;=50K</td>\n",
       "    </tr>\n",
       "    <tr>\n",
       "      <th>25652</th>\n",
       "      <td>23</td>\n",
       "      <td>Private</td>\n",
       "      <td>239539</td>\n",
       "      <td>HS-grad</td>\n",
       "      <td>9</td>\n",
       "      <td>Never-married</td>\n",
       "      <td>Machine-op-inspct</td>\n",
       "      <td>Own-child</td>\n",
       "      <td>Asian-Pac-Islander</td>\n",
       "      <td>Male</td>\n",
       "      <td>0</td>\n",
       "      <td>0</td>\n",
       "      <td>40</td>\n",
       "      <td>Philippines</td>\n",
       "      <td>&lt;=50K</td>\n",
       "    </tr>\n",
       "    <tr>\n",
       "      <th>26122</th>\n",
       "      <td>21</td>\n",
       "      <td>Private</td>\n",
       "      <td>301694</td>\n",
       "      <td>HS-grad</td>\n",
       "      <td>9</td>\n",
       "      <td>Never-married</td>\n",
       "      <td>Craft-repair</td>\n",
       "      <td>Not-in-family</td>\n",
       "      <td>White</td>\n",
       "      <td>Male</td>\n",
       "      <td>0</td>\n",
       "      <td>0</td>\n",
       "      <td>35</td>\n",
       "      <td>Mexico</td>\n",
       "      <td>&lt;=50K</td>\n",
       "    </tr>\n",
       "    <tr>\n",
       "      <th>27912</th>\n",
       "      <td>20</td>\n",
       "      <td>Private</td>\n",
       "      <td>107658</td>\n",
       "      <td>Some-college</td>\n",
       "      <td>10</td>\n",
       "      <td>Never-married</td>\n",
       "      <td>Tech-support</td>\n",
       "      <td>Not-in-family</td>\n",
       "      <td>White</td>\n",
       "      <td>Female</td>\n",
       "      <td>0</td>\n",
       "      <td>0</td>\n",
       "      <td>10</td>\n",
       "      <td>United-States</td>\n",
       "      <td>&lt;=50K</td>\n",
       "    </tr>\n",
       "    <tr>\n",
       "      <th>29365</th>\n",
       "      <td>25</td>\n",
       "      <td>Private</td>\n",
       "      <td>195994</td>\n",
       "      <td>1st-4th</td>\n",
       "      <td>2</td>\n",
       "      <td>Never-married</td>\n",
       "      <td>Priv-house-serv</td>\n",
       "      <td>Not-in-family</td>\n",
       "      <td>White</td>\n",
       "      <td>Female</td>\n",
       "      <td>0</td>\n",
       "      <td>0</td>\n",
       "      <td>40</td>\n",
       "      <td>Guatemala</td>\n",
       "      <td>&lt;=50K</td>\n",
       "    </tr>\n",
       "    <tr>\n",
       "      <th>30862</th>\n",
       "      <td>31</td>\n",
       "      <td>Private</td>\n",
       "      <td>228873</td>\n",
       "      <td>HS-grad</td>\n",
       "      <td>9</td>\n",
       "      <td>Married-civ-spouse</td>\n",
       "      <td>Craft-repair</td>\n",
       "      <td>Husband</td>\n",
       "      <td>White</td>\n",
       "      <td>Male</td>\n",
       "      <td>0</td>\n",
       "      <td>0</td>\n",
       "      <td>40</td>\n",
       "      <td>United-States</td>\n",
       "      <td>&lt;=50K</td>\n",
       "    </tr>\n",
       "    <tr>\n",
       "      <th>30971</th>\n",
       "      <td>19</td>\n",
       "      <td>Private</td>\n",
       "      <td>318822</td>\n",
       "      <td>HS-grad</td>\n",
       "      <td>9</td>\n",
       "      <td>Never-married</td>\n",
       "      <td>Adm-clerical</td>\n",
       "      <td>Not-in-family</td>\n",
       "      <td>White</td>\n",
       "      <td>Female</td>\n",
       "      <td>0</td>\n",
       "      <td>0</td>\n",
       "      <td>40</td>\n",
       "      <td>United-States</td>\n",
       "      <td>&lt;=50K</td>\n",
       "    </tr>\n",
       "    <tr>\n",
       "      <th>31340</th>\n",
       "      <td>21</td>\n",
       "      <td>Private</td>\n",
       "      <td>243368</td>\n",
       "      <td>Preschool</td>\n",
       "      <td>1</td>\n",
       "      <td>Never-married</td>\n",
       "      <td>Farming-fishing</td>\n",
       "      <td>Not-in-family</td>\n",
       "      <td>White</td>\n",
       "      <td>Male</td>\n",
       "      <td>0</td>\n",
       "      <td>0</td>\n",
       "      <td>50</td>\n",
       "      <td>Mexico</td>\n",
       "      <td>&lt;=50K</td>\n",
       "    </tr>\n",
       "    <tr>\n",
       "      <th>33321</th>\n",
       "      <td>46</td>\n",
       "      <td>Private</td>\n",
       "      <td>173243</td>\n",
       "      <td>HS-grad</td>\n",
       "      <td>9</td>\n",
       "      <td>Married-civ-spouse</td>\n",
       "      <td>Craft-repair</td>\n",
       "      <td>Husband</td>\n",
       "      <td>White</td>\n",
       "      <td>Male</td>\n",
       "      <td>0</td>\n",
       "      <td>0</td>\n",
       "      <td>40</td>\n",
       "      <td>United-States</td>\n",
       "      <td>&lt;=50K</td>\n",
       "    </tr>\n",
       "    <tr>\n",
       "      <th>34148</th>\n",
       "      <td>45</td>\n",
       "      <td>Private</td>\n",
       "      <td>82797</td>\n",
       "      <td>Bachelors</td>\n",
       "      <td>13</td>\n",
       "      <td>Married-civ-spouse</td>\n",
       "      <td>Exec-managerial</td>\n",
       "      <td>Husband</td>\n",
       "      <td>White</td>\n",
       "      <td>Male</td>\n",
       "      <td>0</td>\n",
       "      <td>0</td>\n",
       "      <td>45</td>\n",
       "      <td>United-States</td>\n",
       "      <td>&gt;50K</td>\n",
       "    </tr>\n",
       "    <tr>\n",
       "      <th>34979</th>\n",
       "      <td>19</td>\n",
       "      <td>Private</td>\n",
       "      <td>97261</td>\n",
       "      <td>HS-grad</td>\n",
       "      <td>9</td>\n",
       "      <td>Never-married</td>\n",
       "      <td>Farming-fishing</td>\n",
       "      <td>Not-in-family</td>\n",
       "      <td>White</td>\n",
       "      <td>Male</td>\n",
       "      <td>0</td>\n",
       "      <td>0</td>\n",
       "      <td>40</td>\n",
       "      <td>United-States</td>\n",
       "      <td>&lt;=50K</td>\n",
       "    </tr>\n",
       "    <tr>\n",
       "      <th>35848</th>\n",
       "      <td>47</td>\n",
       "      <td>Private</td>\n",
       "      <td>199058</td>\n",
       "      <td>Some-college</td>\n",
       "      <td>10</td>\n",
       "      <td>Married-civ-spouse</td>\n",
       "      <td>Prof-specialty</td>\n",
       "      <td>Husband</td>\n",
       "      <td>White</td>\n",
       "      <td>Male</td>\n",
       "      <td>0</td>\n",
       "      <td>0</td>\n",
       "      <td>40</td>\n",
       "      <td>United-States</td>\n",
       "      <td>&gt;50K</td>\n",
       "    </tr>\n",
       "    <tr>\n",
       "      <th>36767</th>\n",
       "      <td>43</td>\n",
       "      <td>Private</td>\n",
       "      <td>195258</td>\n",
       "      <td>HS-grad</td>\n",
       "      <td>9</td>\n",
       "      <td>Married-civ-spouse</td>\n",
       "      <td>Craft-repair</td>\n",
       "      <td>Husband</td>\n",
       "      <td>White</td>\n",
       "      <td>Male</td>\n",
       "      <td>0</td>\n",
       "      <td>0</td>\n",
       "      <td>40</td>\n",
       "      <td>United-States</td>\n",
       "      <td>&gt;50K</td>\n",
       "    </tr>\n",
       "    <tr>\n",
       "      <th>36848</th>\n",
       "      <td>22</td>\n",
       "      <td>Private</td>\n",
       "      <td>137876</td>\n",
       "      <td>Some-college</td>\n",
       "      <td>10</td>\n",
       "      <td>Never-married</td>\n",
       "      <td>Protective-serv</td>\n",
       "      <td>Not-in-family</td>\n",
       "      <td>White</td>\n",
       "      <td>Male</td>\n",
       "      <td>0</td>\n",
       "      <td>0</td>\n",
       "      <td>20</td>\n",
       "      <td>United-States</td>\n",
       "      <td>&lt;=50K</td>\n",
       "    </tr>\n",
       "    <tr>\n",
       "      <th>37599</th>\n",
       "      <td>19</td>\n",
       "      <td>Private</td>\n",
       "      <td>138153</td>\n",
       "      <td>Some-college</td>\n",
       "      <td>10</td>\n",
       "      <td>Never-married</td>\n",
       "      <td>Adm-clerical</td>\n",
       "      <td>Own-child</td>\n",
       "      <td>White</td>\n",
       "      <td>Female</td>\n",
       "      <td>0</td>\n",
       "      <td>0</td>\n",
       "      <td>10</td>\n",
       "      <td>United-States</td>\n",
       "      <td>&lt;=50K</td>\n",
       "    </tr>\n",
       "    <tr>\n",
       "      <th>37771</th>\n",
       "      <td>19</td>\n",
       "      <td>Private</td>\n",
       "      <td>146679</td>\n",
       "      <td>Some-college</td>\n",
       "      <td>10</td>\n",
       "      <td>Never-married</td>\n",
       "      <td>Exec-managerial</td>\n",
       "      <td>Own-child</td>\n",
       "      <td>Black</td>\n",
       "      <td>Male</td>\n",
       "      <td>0</td>\n",
       "      <td>0</td>\n",
       "      <td>30</td>\n",
       "      <td>United-States</td>\n",
       "      <td>&lt;=50K</td>\n",
       "    </tr>\n",
       "    <tr>\n",
       "      <th>38156</th>\n",
       "      <td>49</td>\n",
       "      <td>Private</td>\n",
       "      <td>31267</td>\n",
       "      <td>7th-8th</td>\n",
       "      <td>4</td>\n",
       "      <td>Married-civ-spouse</td>\n",
       "      <td>Craft-repair</td>\n",
       "      <td>Husband</td>\n",
       "      <td>White</td>\n",
       "      <td>Male</td>\n",
       "      <td>0</td>\n",
       "      <td>0</td>\n",
       "      <td>40</td>\n",
       "      <td>United-States</td>\n",
       "      <td>&lt;=50K</td>\n",
       "    </tr>\n",
       "    <tr>\n",
       "      <th>38255</th>\n",
       "      <td>30</td>\n",
       "      <td>Private</td>\n",
       "      <td>111567</td>\n",
       "      <td>HS-grad</td>\n",
       "      <td>9</td>\n",
       "      <td>Never-married</td>\n",
       "      <td>Craft-repair</td>\n",
       "      <td>Own-child</td>\n",
       "      <td>White</td>\n",
       "      <td>Male</td>\n",
       "      <td>0</td>\n",
       "      <td>0</td>\n",
       "      <td>48</td>\n",
       "      <td>United-States</td>\n",
       "      <td>&lt;=50K</td>\n",
       "    </tr>\n",
       "    <tr>\n",
       "      <th>38530</th>\n",
       "      <td>19</td>\n",
       "      <td>Private</td>\n",
       "      <td>139466</td>\n",
       "      <td>Some-college</td>\n",
       "      <td>10</td>\n",
       "      <td>Never-married</td>\n",
       "      <td>Sales</td>\n",
       "      <td>Own-child</td>\n",
       "      <td>White</td>\n",
       "      <td>Female</td>\n",
       "      <td>0</td>\n",
       "      <td>0</td>\n",
       "      <td>25</td>\n",
       "      <td>United-States</td>\n",
       "      <td>&lt;=50K</td>\n",
       "    </tr>\n",
       "    <tr>\n",
       "      <th>38581</th>\n",
       "      <td>25</td>\n",
       "      <td>Private</td>\n",
       "      <td>195994</td>\n",
       "      <td>1st-4th</td>\n",
       "      <td>2</td>\n",
       "      <td>Never-married</td>\n",
       "      <td>Priv-house-serv</td>\n",
       "      <td>Not-in-family</td>\n",
       "      <td>White</td>\n",
       "      <td>Female</td>\n",
       "      <td>0</td>\n",
       "      <td>0</td>\n",
       "      <td>40</td>\n",
       "      <td>Guatemala</td>\n",
       "      <td>&lt;=50K</td>\n",
       "    </tr>\n",
       "    <tr>\n",
       "      <th>38648</th>\n",
       "      <td>44</td>\n",
       "      <td>Private</td>\n",
       "      <td>367749</td>\n",
       "      <td>Bachelors</td>\n",
       "      <td>13</td>\n",
       "      <td>Never-married</td>\n",
       "      <td>Prof-specialty</td>\n",
       "      <td>Not-in-family</td>\n",
       "      <td>White</td>\n",
       "      <td>Female</td>\n",
       "      <td>0</td>\n",
       "      <td>0</td>\n",
       "      <td>45</td>\n",
       "      <td>Mexico</td>\n",
       "      <td>&lt;=50K</td>\n",
       "    </tr>\n",
       "    <tr>\n",
       "      <th>38775</th>\n",
       "      <td>49</td>\n",
       "      <td>Self-emp-not-inc</td>\n",
       "      <td>43479</td>\n",
       "      <td>Some-college</td>\n",
       "      <td>10</td>\n",
       "      <td>Married-civ-spouse</td>\n",
       "      <td>Craft-repair</td>\n",
       "      <td>Husband</td>\n",
       "      <td>White</td>\n",
       "      <td>Male</td>\n",
       "      <td>0</td>\n",
       "      <td>0</td>\n",
       "      <td>40</td>\n",
       "      <td>United-States</td>\n",
       "      <td>&lt;=50K</td>\n",
       "    </tr>\n",
       "    <tr>\n",
       "      <th>40948</th>\n",
       "      <td>17</td>\n",
       "      <td>Private</td>\n",
       "      <td>153021</td>\n",
       "      <td>12th</td>\n",
       "      <td>8</td>\n",
       "      <td>Never-married</td>\n",
       "      <td>Sales</td>\n",
       "      <td>Own-child</td>\n",
       "      <td>White</td>\n",
       "      <td>Female</td>\n",
       "      <td>0</td>\n",
       "      <td>0</td>\n",
       "      <td>20</td>\n",
       "      <td>United-States</td>\n",
       "      <td>&lt;=50K</td>\n",
       "    </tr>\n",
       "    <tr>\n",
       "      <th>41965</th>\n",
       "      <td>25</td>\n",
       "      <td>Private</td>\n",
       "      <td>112835</td>\n",
       "      <td>Bachelors</td>\n",
       "      <td>13</td>\n",
       "      <td>Never-married</td>\n",
       "      <td>Prof-specialty</td>\n",
       "      <td>Not-in-family</td>\n",
       "      <td>White</td>\n",
       "      <td>Male</td>\n",
       "      <td>0</td>\n",
       "      <td>0</td>\n",
       "      <td>40</td>\n",
       "      <td>United-States</td>\n",
       "      <td>&lt;=50K</td>\n",
       "    </tr>\n",
       "    <tr>\n",
       "      <th>42153</th>\n",
       "      <td>23</td>\n",
       "      <td>Private</td>\n",
       "      <td>240137</td>\n",
       "      <td>5th-6th</td>\n",
       "      <td>3</td>\n",
       "      <td>Never-married</td>\n",
       "      <td>Handlers-cleaners</td>\n",
       "      <td>Not-in-family</td>\n",
       "      <td>White</td>\n",
       "      <td>Male</td>\n",
       "      <td>0</td>\n",
       "      <td>0</td>\n",
       "      <td>55</td>\n",
       "      <td>Mexico</td>\n",
       "      <td>&lt;=50K</td>\n",
       "    </tr>\n",
       "    <tr>\n",
       "      <th>42594</th>\n",
       "      <td>28</td>\n",
       "      <td>Private</td>\n",
       "      <td>274679</td>\n",
       "      <td>Masters</td>\n",
       "      <td>14</td>\n",
       "      <td>Never-married</td>\n",
       "      <td>Prof-specialty</td>\n",
       "      <td>Not-in-family</td>\n",
       "      <td>White</td>\n",
       "      <td>Male</td>\n",
       "      <td>0</td>\n",
       "      <td>0</td>\n",
       "      <td>50</td>\n",
       "      <td>United-States</td>\n",
       "      <td>&lt;=50K</td>\n",
       "    </tr>\n",
       "    <tr>\n",
       "      <th>44201</th>\n",
       "      <td>23</td>\n",
       "      <td>Private</td>\n",
       "      <td>107882</td>\n",
       "      <td>Bachelors</td>\n",
       "      <td>13</td>\n",
       "      <td>Never-married</td>\n",
       "      <td>Adm-clerical</td>\n",
       "      <td>Own-child</td>\n",
       "      <td>White</td>\n",
       "      <td>Female</td>\n",
       "      <td>0</td>\n",
       "      <td>0</td>\n",
       "      <td>40</td>\n",
       "      <td>United-States</td>\n",
       "      <td>&lt;=50K</td>\n",
       "    </tr>\n",
       "    <tr>\n",
       "      <th>44511</th>\n",
       "      <td>27</td>\n",
       "      <td>Private</td>\n",
       "      <td>255582</td>\n",
       "      <td>HS-grad</td>\n",
       "      <td>9</td>\n",
       "      <td>Never-married</td>\n",
       "      <td>Machine-op-inspct</td>\n",
       "      <td>Not-in-family</td>\n",
       "      <td>White</td>\n",
       "      <td>Female</td>\n",
       "      <td>0</td>\n",
       "      <td>0</td>\n",
       "      <td>40</td>\n",
       "      <td>United-States</td>\n",
       "      <td>&lt;=50K</td>\n",
       "    </tr>\n",
       "    <tr>\n",
       "      <th>44803</th>\n",
       "      <td>42</td>\n",
       "      <td>Private</td>\n",
       "      <td>204235</td>\n",
       "      <td>Some-college</td>\n",
       "      <td>10</td>\n",
       "      <td>Married-civ-spouse</td>\n",
       "      <td>Prof-specialty</td>\n",
       "      <td>Husband</td>\n",
       "      <td>White</td>\n",
       "      <td>Male</td>\n",
       "      <td>0</td>\n",
       "      <td>0</td>\n",
       "      <td>40</td>\n",
       "      <td>United-States</td>\n",
       "      <td>&gt;50K</td>\n",
       "    </tr>\n",
       "    <tr>\n",
       "      <th>45127</th>\n",
       "      <td>39</td>\n",
       "      <td>Private</td>\n",
       "      <td>30916</td>\n",
       "      <td>HS-grad</td>\n",
       "      <td>9</td>\n",
       "      <td>Married-civ-spouse</td>\n",
       "      <td>Craft-repair</td>\n",
       "      <td>Husband</td>\n",
       "      <td>White</td>\n",
       "      <td>Male</td>\n",
       "      <td>0</td>\n",
       "      <td>0</td>\n",
       "      <td>40</td>\n",
       "      <td>United-States</td>\n",
       "      <td>&lt;=50K</td>\n",
       "    </tr>\n",
       "    <tr>\n",
       "      <th>45438</th>\n",
       "      <td>38</td>\n",
       "      <td>Private</td>\n",
       "      <td>207202</td>\n",
       "      <td>HS-grad</td>\n",
       "      <td>9</td>\n",
       "      <td>Married-civ-spouse</td>\n",
       "      <td>Machine-op-inspct</td>\n",
       "      <td>Husband</td>\n",
       "      <td>White</td>\n",
       "      <td>Male</td>\n",
       "      <td>0</td>\n",
       "      <td>0</td>\n",
       "      <td>48</td>\n",
       "      <td>United-States</td>\n",
       "      <td>&gt;50K</td>\n",
       "    </tr>\n",
       "    <tr>\n",
       "      <th>46626</th>\n",
       "      <td>23</td>\n",
       "      <td>Private</td>\n",
       "      <td>250630</td>\n",
       "      <td>Bachelors</td>\n",
       "      <td>13</td>\n",
       "      <td>Never-married</td>\n",
       "      <td>Sales</td>\n",
       "      <td>Not-in-family</td>\n",
       "      <td>White</td>\n",
       "      <td>Female</td>\n",
       "      <td>0</td>\n",
       "      <td>0</td>\n",
       "      <td>40</td>\n",
       "      <td>United-States</td>\n",
       "      <td>&lt;=50K</td>\n",
       "    </tr>\n",
       "    <tr>\n",
       "      <th>47126</th>\n",
       "      <td>46</td>\n",
       "      <td>Private</td>\n",
       "      <td>133616</td>\n",
       "      <td>Some-college</td>\n",
       "      <td>10</td>\n",
       "      <td>Divorced</td>\n",
       "      <td>Adm-clerical</td>\n",
       "      <td>Unmarried</td>\n",
       "      <td>White</td>\n",
       "      <td>Female</td>\n",
       "      <td>0</td>\n",
       "      <td>0</td>\n",
       "      <td>40</td>\n",
       "      <td>United-States</td>\n",
       "      <td>&lt;=50K</td>\n",
       "    </tr>\n",
       "    <tr>\n",
       "      <th>48274</th>\n",
       "      <td>19</td>\n",
       "      <td>Private</td>\n",
       "      <td>251579</td>\n",
       "      <td>Some-college</td>\n",
       "      <td>10</td>\n",
       "      <td>Never-married</td>\n",
       "      <td>Other-service</td>\n",
       "      <td>Own-child</td>\n",
       "      <td>White</td>\n",
       "      <td>Male</td>\n",
       "      <td>0</td>\n",
       "      <td>0</td>\n",
       "      <td>14</td>\n",
       "      <td>United-States</td>\n",
       "      <td>&lt;=50K</td>\n",
       "    </tr>\n",
       "    <tr>\n",
       "      <th>48685</th>\n",
       "      <td>35</td>\n",
       "      <td>Private</td>\n",
       "      <td>379959</td>\n",
       "      <td>HS-grad</td>\n",
       "      <td>9</td>\n",
       "      <td>Divorced</td>\n",
       "      <td>Other-service</td>\n",
       "      <td>Not-in-family</td>\n",
       "      <td>White</td>\n",
       "      <td>Female</td>\n",
       "      <td>0</td>\n",
       "      <td>0</td>\n",
       "      <td>40</td>\n",
       "      <td>United-States</td>\n",
       "      <td>&lt;=50K</td>\n",
       "    </tr>\n",
       "  </tbody>\n",
       "</table>\n",
       "</div>"
      ],
      "text/plain": [
       "       age         workclass  fnlwgt     education  educational-num  \\\n",
       "864     24           Private  194630     Bachelors               13   \n",
       "11189   37           Private   52870     Bachelors               13   \n",
       "11212   29           Private   36440     Bachelors               13   \n",
       "13848   30           Private  180317     Assoc-voc               11   \n",
       "15960   18      Self-emp-inc  378036          12th                8   \n",
       "18476   39           Private  184659       HS-grad                9   \n",
       "19399   19           Private  130431       5th-6th                3   \n",
       "19726   41           Private  116391     Bachelors               13   \n",
       "20606   25           Private  308144     Bachelors               13   \n",
       "21162   25           Private  308144     Bachelors               13   \n",
       "21385   90           Private   52386  Some-college               10   \n",
       "24361   21           Private  243368     Preschool                1   \n",
       "25452   21           Private  250051  Some-college               10   \n",
       "25652   23           Private  239539       HS-grad                9   \n",
       "26122   21           Private  301694       HS-grad                9   \n",
       "27912   20           Private  107658  Some-college               10   \n",
       "29365   25           Private  195994       1st-4th                2   \n",
       "30862   31           Private  228873       HS-grad                9   \n",
       "30971   19           Private  318822       HS-grad                9   \n",
       "31340   21           Private  243368     Preschool                1   \n",
       "33321   46           Private  173243       HS-grad                9   \n",
       "34148   45           Private   82797     Bachelors               13   \n",
       "34979   19           Private   97261       HS-grad                9   \n",
       "35848   47           Private  199058  Some-college               10   \n",
       "36767   43           Private  195258       HS-grad                9   \n",
       "36848   22           Private  137876  Some-college               10   \n",
       "37599   19           Private  138153  Some-college               10   \n",
       "37771   19           Private  146679  Some-college               10   \n",
       "38156   49           Private   31267       7th-8th                4   \n",
       "38255   30           Private  111567       HS-grad                9   \n",
       "38530   19           Private  139466  Some-college               10   \n",
       "38581   25           Private  195994       1st-4th                2   \n",
       "38648   44           Private  367749     Bachelors               13   \n",
       "38775   49  Self-emp-not-inc   43479  Some-college               10   \n",
       "40948   17           Private  153021          12th                8   \n",
       "41965   25           Private  112835     Bachelors               13   \n",
       "42153   23           Private  240137       5th-6th                3   \n",
       "42594   28           Private  274679       Masters               14   \n",
       "44201   23           Private  107882     Bachelors               13   \n",
       "44511   27           Private  255582       HS-grad                9   \n",
       "44803   42           Private  204235  Some-college               10   \n",
       "45127   39           Private   30916       HS-grad                9   \n",
       "45438   38           Private  207202       HS-grad                9   \n",
       "46626   23           Private  250630     Bachelors               13   \n",
       "47126   46           Private  133616  Some-college               10   \n",
       "48274   19           Private  251579  Some-college               10   \n",
       "48685   35           Private  379959       HS-grad                9   \n",
       "\n",
       "           marital-status         occupation   relationship  \\\n",
       "864         Never-married     Prof-specialty  Not-in-family   \n",
       "11189  Married-civ-spouse    Exec-managerial        Husband   \n",
       "11212       Never-married       Adm-clerical  Not-in-family   \n",
       "13848            Divorced  Machine-op-inspct  Not-in-family   \n",
       "15960       Never-married    Farming-fishing      Own-child   \n",
       "18476  Married-civ-spouse  Machine-op-inspct        Husband   \n",
       "19399       Never-married    Farming-fishing  Not-in-family   \n",
       "19726  Married-civ-spouse    Exec-managerial        Husband   \n",
       "20606       Never-married       Craft-repair  Not-in-family   \n",
       "21162       Never-married       Craft-repair  Not-in-family   \n",
       "21385       Never-married      Other-service  Not-in-family   \n",
       "24361       Never-married    Farming-fishing  Not-in-family   \n",
       "25452       Never-married     Prof-specialty      Own-child   \n",
       "25652       Never-married  Machine-op-inspct      Own-child   \n",
       "26122       Never-married       Craft-repair  Not-in-family   \n",
       "27912       Never-married       Tech-support  Not-in-family   \n",
       "29365       Never-married    Priv-house-serv  Not-in-family   \n",
       "30862  Married-civ-spouse       Craft-repair        Husband   \n",
       "30971       Never-married       Adm-clerical  Not-in-family   \n",
       "31340       Never-married    Farming-fishing  Not-in-family   \n",
       "33321  Married-civ-spouse       Craft-repair        Husband   \n",
       "34148  Married-civ-spouse    Exec-managerial        Husband   \n",
       "34979       Never-married    Farming-fishing  Not-in-family   \n",
       "35848  Married-civ-spouse     Prof-specialty        Husband   \n",
       "36767  Married-civ-spouse       Craft-repair        Husband   \n",
       "36848       Never-married    Protective-serv  Not-in-family   \n",
       "37599       Never-married       Adm-clerical      Own-child   \n",
       "37771       Never-married    Exec-managerial      Own-child   \n",
       "38156  Married-civ-spouse       Craft-repair        Husband   \n",
       "38255       Never-married       Craft-repair      Own-child   \n",
       "38530       Never-married              Sales      Own-child   \n",
       "38581       Never-married    Priv-house-serv  Not-in-family   \n",
       "38648       Never-married     Prof-specialty  Not-in-family   \n",
       "38775  Married-civ-spouse       Craft-repair        Husband   \n",
       "40948       Never-married              Sales      Own-child   \n",
       "41965       Never-married     Prof-specialty  Not-in-family   \n",
       "42153       Never-married  Handlers-cleaners  Not-in-family   \n",
       "42594       Never-married     Prof-specialty  Not-in-family   \n",
       "44201       Never-married       Adm-clerical      Own-child   \n",
       "44511       Never-married  Machine-op-inspct  Not-in-family   \n",
       "44803  Married-civ-spouse     Prof-specialty        Husband   \n",
       "45127  Married-civ-spouse       Craft-repair        Husband   \n",
       "45438  Married-civ-spouse  Machine-op-inspct        Husband   \n",
       "46626       Never-married              Sales  Not-in-family   \n",
       "47126            Divorced       Adm-clerical      Unmarried   \n",
       "48274       Never-married      Other-service      Own-child   \n",
       "48685            Divorced      Other-service  Not-in-family   \n",
       "\n",
       "                     race  gender  capital-gain  capital-loss  hours-per-week  \\\n",
       "864                 White    Male             0             0              35   \n",
       "11189               White    Male             0             0              40   \n",
       "11212               White  Female             0             0              40   \n",
       "13848               White    Male             0             0              40   \n",
       "15960               White    Male             0             0              10   \n",
       "18476               White    Male             0             0              40   \n",
       "19399               White    Male             0             0              36   \n",
       "19726               White    Male             0             0              40   \n",
       "20606               White    Male             0             0              40   \n",
       "21162               White    Male             0             0              40   \n",
       "21385  Asian-Pac-Islander    Male             0             0              35   \n",
       "24361               White    Male             0             0              50   \n",
       "25452               White  Female             0             0              10   \n",
       "25652  Asian-Pac-Islander    Male             0             0              40   \n",
       "26122               White    Male             0             0              35   \n",
       "27912               White  Female             0             0              10   \n",
       "29365               White  Female             0             0              40   \n",
       "30862               White    Male             0             0              40   \n",
       "30971               White  Female             0             0              40   \n",
       "31340               White    Male             0             0              50   \n",
       "33321               White    Male             0             0              40   \n",
       "34148               White    Male             0             0              45   \n",
       "34979               White    Male             0             0              40   \n",
       "35848               White    Male             0             0              40   \n",
       "36767               White    Male             0             0              40   \n",
       "36848               White    Male             0             0              20   \n",
       "37599               White  Female             0             0              10   \n",
       "37771               Black    Male             0             0              30   \n",
       "38156               White    Male             0             0              40   \n",
       "38255               White    Male             0             0              48   \n",
       "38530               White  Female             0             0              25   \n",
       "38581               White  Female             0             0              40   \n",
       "38648               White  Female             0             0              45   \n",
       "38775               White    Male             0             0              40   \n",
       "40948               White  Female             0             0              20   \n",
       "41965               White    Male             0             0              40   \n",
       "42153               White    Male             0             0              55   \n",
       "42594               White    Male             0             0              50   \n",
       "44201               White  Female             0             0              40   \n",
       "44511               White  Female             0             0              40   \n",
       "44803               White    Male             0             0              40   \n",
       "45127               White    Male             0             0              40   \n",
       "45438               White    Male             0             0              48   \n",
       "46626               White  Female             0             0              40   \n",
       "47126               White  Female             0             0              40   \n",
       "48274               White    Male             0             0              14   \n",
       "48685               White  Female             0             0              40   \n",
       "\n",
       "      native-country income  \n",
       "864    United-States  <=50K  \n",
       "11189  United-States  <=50K  \n",
       "11212  United-States  <=50K  \n",
       "13848  United-States  <=50K  \n",
       "15960  United-States  <=50K  \n",
       "18476  United-States  <=50K  \n",
       "19399         Mexico  <=50K  \n",
       "19726  United-States   >50K  \n",
       "20606         Mexico  <=50K  \n",
       "21162         Mexico  <=50K  \n",
       "21385  United-States  <=50K  \n",
       "24361         Mexico  <=50K  \n",
       "25452  United-States  <=50K  \n",
       "25652    Philippines  <=50K  \n",
       "26122         Mexico  <=50K  \n",
       "27912  United-States  <=50K  \n",
       "29365      Guatemala  <=50K  \n",
       "30862  United-States  <=50K  \n",
       "30971  United-States  <=50K  \n",
       "31340         Mexico  <=50K  \n",
       "33321  United-States  <=50K  \n",
       "34148  United-States   >50K  \n",
       "34979  United-States  <=50K  \n",
       "35848  United-States   >50K  \n",
       "36767  United-States   >50K  \n",
       "36848  United-States  <=50K  \n",
       "37599  United-States  <=50K  \n",
       "37771  United-States  <=50K  \n",
       "38156  United-States  <=50K  \n",
       "38255  United-States  <=50K  \n",
       "38530  United-States  <=50K  \n",
       "38581      Guatemala  <=50K  \n",
       "38648         Mexico  <=50K  \n",
       "38775  United-States  <=50K  \n",
       "40948  United-States  <=50K  \n",
       "41965  United-States  <=50K  \n",
       "42153         Mexico  <=50K  \n",
       "42594  United-States  <=50K  \n",
       "44201  United-States  <=50K  \n",
       "44511  United-States  <=50K  \n",
       "44803  United-States   >50K  \n",
       "45127  United-States  <=50K  \n",
       "45438  United-States   >50K  \n",
       "46626  United-States  <=50K  \n",
       "47126  United-States  <=50K  \n",
       "48274  United-States  <=50K  \n",
       "48685  United-States  <=50K  "
      ]
     },
     "execution_count": 14,
     "metadata": {},
     "output_type": "execute_result"
    }
   ],
   "source": [
    "bool_series = df.duplicated(keep='first')\n",
    "\n",
    "#count duplicates\n",
    "np.shape(df[bool_series])\n",
    "\n",
    "#view duplicates\n",
    "df[bool_series]"
   ]
  },
  {
   "cell_type": "code",
   "execution_count": 15,
   "metadata": {},
   "outputs": [],
   "source": [
    "#remove duplicates\n",
    "df = df[~bool_series]"
   ]
  },
  {
   "cell_type": "markdown",
   "metadata": {},
   "source": [
    "### Outliers\n",
    "\n",
    "In checking for outliers, a preliminary visual inspection was used on the distributions of the numeric columns. Other methods considered were IQR and Z-Score based methods, however, since the numeric fields in this dataset are all heavily skewed toward a specific value (such as 40 hour work weeks or 0 capital gains), numerous realistic values are flagged by conventional measures. During the modeling effort, it could be worth investigating scaling these measures or turning them into factors, particularly with capital-gain, where the data suggests that any gains over 99,999 are all classified as a 99,999. "
   ]
  },
  {
   "cell_type": "code",
   "execution_count": 16,
   "metadata": {},
   "outputs": [
    {
     "name": "stderr",
     "output_type": "stream",
     "text": [
      "C:\\Users\\Rysk\\anaconda3\\envs\\ML1\\lib\\site-packages\\seaborn\\_decorators.py:36: FutureWarning: Pass the following variable as a keyword arg: x. From version 0.12, the only valid positional argument will be `data`, and passing other arguments without an explicit keyword will result in an error or misinterpretation.\n",
      "  warnings.warn(\n"
     ]
    },
    {
     "data": {
      "text/plain": [
       "<AxesSubplot:xlabel='capital-gain'>"
      ]
     },
     "execution_count": 16,
     "metadata": {},
     "output_type": "execute_result"
    },
    {
     "data": {
      "image/png": "[encoded data removed]",
      "text/plain": [
       "<Figure size 432x288 with 1 Axes>"
      ]
     },
     "metadata": {
      "needs_background": "light"
     },
     "output_type": "display_data"
    }
   ],
   "source": [
    "from scipy import stats\n",
    "\n",
    "z = np.abs(stats.zscore(df['hours-per-week']))\n",
    "\n",
    "np.shape(np.where(z > 4))\n",
    "\n",
    "sns.boxplot(df['capital-gain'])"
   ]
  },
  {
   "cell_type": "code",
   "execution_count": 17,
   "metadata": {},
   "outputs": [
    {
     "name": "stderr",
     "output_type": "stream",
     "text": [
      "C:\\Users\\Rysk\\anaconda3\\envs\\ML1\\lib\\site-packages\\seaborn\\_decorators.py:36: FutureWarning: Pass the following variable as a keyword arg: x. From version 0.12, the only valid positional argument will be `data`, and passing other arguments without an explicit keyword will result in an error or misinterpretation.\n",
      "  warnings.warn(\n"
     ]
    },
    {
     "data": {
      "text/plain": [
       "<AxesSubplot:xlabel='capital-loss'>"
      ]
     },
     "execution_count": 17,
     "metadata": {},
     "output_type": "execute_result"
    },
    {
     "data": {
      "image/png": "[encoded data removed]",
      "text/plain": [
       "<Figure size 432x288 with 1 Axes>"
      ]
     },
     "metadata": {
      "needs_background": "light"
     },
     "output_type": "display_data"
    }
   ],
   "source": [
    "sns.boxplot(df['capital-loss'])"
   ]
  },
  {
   "cell_type": "code",
   "execution_count": 18,
   "metadata": {},
   "outputs": [
    {
     "name": "stderr",
     "output_type": "stream",
     "text": [
      "C:\\Users\\Rysk\\anaconda3\\envs\\ML1\\lib\\site-packages\\seaborn\\_decorators.py:36: FutureWarning: Pass the following variable as a keyword arg: x. From version 0.12, the only valid positional argument will be `data`, and passing other arguments without an explicit keyword will result in an error or misinterpretation.\n",
      "  warnings.warn(\n"
     ]
    },
    {
     "data": {
      "text/plain": [
       "<AxesSubplot:xlabel='fnlwgt'>"
      ]
     },
     "execution_count": 18,
     "metadata": {},
     "output_type": "execute_result"
    },
    {
     "data": {
      "image/png": "[encoded data removed]",
      "text/plain": [
       "<Figure size 432x288 with 1 Axes>"
      ]
     },
     "metadata": {
      "needs_background": "light"
     },
     "output_type": "display_data"
    }
   ],
   "source": [
    "sns.boxplot(df['fnlwgt'])"
   ]
  },
  {
   "cell_type": "code",
   "execution_count": 19,
   "metadata": {},
   "outputs": [
    {
     "name": "stderr",
     "output_type": "stream",
     "text": [
      "C:\\Users\\Rysk\\anaconda3\\envs\\ML1\\lib\\site-packages\\seaborn\\_decorators.py:36: FutureWarning: Pass the following variable as a keyword arg: x. From version 0.12, the only valid positional argument will be `data`, and passing other arguments without an explicit keyword will result in an error or misinterpretation.\n",
      "  warnings.warn(\n"
     ]
    },
    {
     "data": {
      "text/plain": [
       "<AxesSubplot:xlabel='hours-per-week'>"
      ]
     },
     "execution_count": 19,
     "metadata": {},
     "output_type": "execute_result"
    },
    {
     "data": {
      "image/png": "[encoded data removed]",
      "text/plain": [
       "<Figure size 432x288 with 1 Axes>"
      ]
     },
     "metadata": {
      "needs_background": "light"
     },
     "output_type": "display_data"
    }
   ],
   "source": [
    "sns.boxplot(df['hours-per-week'])"
   ]
  },
  {
   "cell_type": "code",
   "execution_count": 20,
   "metadata": {},
   "outputs": [
    {
     "data": {
      "text/html": [
       "<div>\n",
       "<style scoped>\n",
       "    .dataframe tbody tr th:only-of-type {\n",
       "        vertical-align: middle;\n",
       "    }\n",
       "\n",
       "    .dataframe tbody tr th {\n",
       "        vertical-align: top;\n",
       "    }\n",
       "\n",
       "    .dataframe thead th {\n",
       "        text-align: right;\n",
       "    }\n",
       "</style>\n",
       "<table border=\"1\" class=\"dataframe\">\n",
       "  <thead>\n",
       "    <tr style=\"text-align: right;\">\n",
       "      <th></th>\n",
       "      <th>age</th>\n",
       "      <th>workclass</th>\n",
       "      <th>fnlwgt</th>\n",
       "      <th>education</th>\n",
       "      <th>educational-num</th>\n",
       "      <th>marital-status</th>\n",
       "      <th>occupation</th>\n",
       "      <th>relationship</th>\n",
       "      <th>race</th>\n",
       "      <th>gender</th>\n",
       "      <th>capital-gain</th>\n",
       "      <th>capital-loss</th>\n",
       "      <th>hours-per-week</th>\n",
       "      <th>native-country</th>\n",
       "      <th>income</th>\n",
       "    </tr>\n",
       "  </thead>\n",
       "  <tbody>\n",
       "    <tr>\n",
       "      <th>346</th>\n",
       "      <td>39</td>\n",
       "      <td>Private</td>\n",
       "      <td>198654</td>\n",
       "      <td>HS-grad</td>\n",
       "      <td>9</td>\n",
       "      <td>Divorced</td>\n",
       "      <td>Exec-managerial</td>\n",
       "      <td>Unmarried</td>\n",
       "      <td>Black</td>\n",
       "      <td>Female</td>\n",
       "      <td>99999</td>\n",
       "      <td>0</td>\n",
       "      <td>40</td>\n",
       "      <td>United-States</td>\n",
       "      <td>&gt;50K</td>\n",
       "    </tr>\n",
       "    <tr>\n",
       "      <th>357</th>\n",
       "      <td>50</td>\n",
       "      <td>Self-emp-not-inc</td>\n",
       "      <td>165001</td>\n",
       "      <td>Prof-school</td>\n",
       "      <td>15</td>\n",
       "      <td>Married-civ-spouse</td>\n",
       "      <td>Prof-specialty</td>\n",
       "      <td>Husband</td>\n",
       "      <td>White</td>\n",
       "      <td>Male</td>\n",
       "      <td>99999</td>\n",
       "      <td>0</td>\n",
       "      <td>80</td>\n",
       "      <td>United-States</td>\n",
       "      <td>&gt;50K</td>\n",
       "    </tr>\n",
       "    <tr>\n",
       "      <th>418</th>\n",
       "      <td>54</td>\n",
       "      <td>Self-emp-inc</td>\n",
       "      <td>159219</td>\n",
       "      <td>Prof-school</td>\n",
       "      <td>15</td>\n",
       "      <td>Married-civ-spouse</td>\n",
       "      <td>Prof-specialty</td>\n",
       "      <td>Husband</td>\n",
       "      <td>White</td>\n",
       "      <td>Male</td>\n",
       "      <td>99999</td>\n",
       "      <td>0</td>\n",
       "      <td>40</td>\n",
       "      <td>United-States</td>\n",
       "      <td>&gt;50K</td>\n",
       "    </tr>\n",
       "    <tr>\n",
       "      <th>692</th>\n",
       "      <td>41</td>\n",
       "      <td>Private</td>\n",
       "      <td>191547</td>\n",
       "      <td>Masters</td>\n",
       "      <td>14</td>\n",
       "      <td>Married-civ-spouse</td>\n",
       "      <td>Exec-managerial</td>\n",
       "      <td>Husband</td>\n",
       "      <td>White</td>\n",
       "      <td>Male</td>\n",
       "      <td>99999</td>\n",
       "      <td>0</td>\n",
       "      <td>55</td>\n",
       "      <td>United-States</td>\n",
       "      <td>&gt;50K</td>\n",
       "    </tr>\n",
       "    <tr>\n",
       "      <th>702</th>\n",
       "      <td>43</td>\n",
       "      <td>State-gov</td>\n",
       "      <td>125831</td>\n",
       "      <td>Bachelors</td>\n",
       "      <td>13</td>\n",
       "      <td>Never-married</td>\n",
       "      <td>Prof-specialty</td>\n",
       "      <td>Own-child</td>\n",
       "      <td>White</td>\n",
       "      <td>Male</td>\n",
       "      <td>99999</td>\n",
       "      <td>0</td>\n",
       "      <td>60</td>\n",
       "      <td>United-States</td>\n",
       "      <td>&gt;50K</td>\n",
       "    </tr>\n",
       "    <tr>\n",
       "      <th>...</th>\n",
       "      <td>...</td>\n",
       "      <td>...</td>\n",
       "      <td>...</td>\n",
       "      <td>...</td>\n",
       "      <td>...</td>\n",
       "      <td>...</td>\n",
       "      <td>...</td>\n",
       "      <td>...</td>\n",
       "      <td>...</td>\n",
       "      <td>...</td>\n",
       "      <td>...</td>\n",
       "      <td>...</td>\n",
       "      <td>...</td>\n",
       "      <td>...</td>\n",
       "      <td>...</td>\n",
       "    </tr>\n",
       "    <tr>\n",
       "      <th>47392</th>\n",
       "      <td>22</td>\n",
       "      <td>Self-emp-not-inc</td>\n",
       "      <td>214014</td>\n",
       "      <td>Some-college</td>\n",
       "      <td>10</td>\n",
       "      <td>Never-married</td>\n",
       "      <td>Sales</td>\n",
       "      <td>Own-child</td>\n",
       "      <td>Black</td>\n",
       "      <td>Male</td>\n",
       "      <td>99999</td>\n",
       "      <td>0</td>\n",
       "      <td>55</td>\n",
       "      <td>United-States</td>\n",
       "      <td>&gt;50K</td>\n",
       "    </tr>\n",
       "    <tr>\n",
       "      <th>48109</th>\n",
       "      <td>47</td>\n",
       "      <td>Private</td>\n",
       "      <td>155664</td>\n",
       "      <td>Masters</td>\n",
       "      <td>14</td>\n",
       "      <td>Married-civ-spouse</td>\n",
       "      <td>Exec-managerial</td>\n",
       "      <td>Husband</td>\n",
       "      <td>White</td>\n",
       "      <td>Male</td>\n",
       "      <td>99999</td>\n",
       "      <td>0</td>\n",
       "      <td>55</td>\n",
       "      <td>United-States</td>\n",
       "      <td>&gt;50K</td>\n",
       "    </tr>\n",
       "    <tr>\n",
       "      <th>48253</th>\n",
       "      <td>43</td>\n",
       "      <td>Self-emp-inc</td>\n",
       "      <td>62026</td>\n",
       "      <td>Prof-school</td>\n",
       "      <td>15</td>\n",
       "      <td>Married-civ-spouse</td>\n",
       "      <td>Exec-managerial</td>\n",
       "      <td>Husband</td>\n",
       "      <td>White</td>\n",
       "      <td>Male</td>\n",
       "      <td>99999</td>\n",
       "      <td>0</td>\n",
       "      <td>40</td>\n",
       "      <td>United-States</td>\n",
       "      <td>&gt;50K</td>\n",
       "    </tr>\n",
       "    <tr>\n",
       "      <th>48519</th>\n",
       "      <td>47</td>\n",
       "      <td>Private</td>\n",
       "      <td>294913</td>\n",
       "      <td>Prof-school</td>\n",
       "      <td>15</td>\n",
       "      <td>Married-civ-spouse</td>\n",
       "      <td>Exec-managerial</td>\n",
       "      <td>Husband</td>\n",
       "      <td>White</td>\n",
       "      <td>Male</td>\n",
       "      <td>99999</td>\n",
       "      <td>0</td>\n",
       "      <td>40</td>\n",
       "      <td>United-States</td>\n",
       "      <td>&gt;50K</td>\n",
       "    </tr>\n",
       "    <tr>\n",
       "      <th>48799</th>\n",
       "      <td>57</td>\n",
       "      <td>Local-gov</td>\n",
       "      <td>110417</td>\n",
       "      <td>HS-grad</td>\n",
       "      <td>9</td>\n",
       "      <td>Married-civ-spouse</td>\n",
       "      <td>Craft-repair</td>\n",
       "      <td>Husband</td>\n",
       "      <td>White</td>\n",
       "      <td>Male</td>\n",
       "      <td>99999</td>\n",
       "      <td>0</td>\n",
       "      <td>40</td>\n",
       "      <td>United-States</td>\n",
       "      <td>&gt;50K</td>\n",
       "    </tr>\n",
       "  </tbody>\n",
       "</table>\n",
       "<p>229 rows × 15 columns</p>\n",
       "</div>"
      ],
      "text/plain": [
       "       age         workclass  fnlwgt     education  educational-num  \\\n",
       "346     39           Private  198654       HS-grad                9   \n",
       "357     50  Self-emp-not-inc  165001   Prof-school               15   \n",
       "418     54      Self-emp-inc  159219   Prof-school               15   \n",
       "692     41           Private  191547       Masters               14   \n",
       "702     43         State-gov  125831     Bachelors               13   \n",
       "...    ...               ...     ...           ...              ...   \n",
       "47392   22  Self-emp-not-inc  214014  Some-college               10   \n",
       "48109   47           Private  155664       Masters               14   \n",
       "48253   43      Self-emp-inc   62026   Prof-school               15   \n",
       "48519   47           Private  294913   Prof-school               15   \n",
       "48799   57         Local-gov  110417       HS-grad                9   \n",
       "\n",
       "           marital-status       occupation relationship   race  gender  \\\n",
       "346              Divorced  Exec-managerial    Unmarried  Black  Female   \n",
       "357    Married-civ-spouse   Prof-specialty      Husband  White    Male   \n",
       "418    Married-civ-spouse   Prof-specialty      Husband  White    Male   \n",
       "692    Married-civ-spouse  Exec-managerial      Husband  White    Male   \n",
       "702         Never-married   Prof-specialty    Own-child  White    Male   \n",
       "...                   ...              ...          ...    ...     ...   \n",
       "47392       Never-married            Sales    Own-child  Black    Male   \n",
       "48109  Married-civ-spouse  Exec-managerial      Husband  White    Male   \n",
       "48253  Married-civ-spouse  Exec-managerial      Husband  White    Male   \n",
       "48519  Married-civ-spouse  Exec-managerial      Husband  White    Male   \n",
       "48799  Married-civ-spouse     Craft-repair      Husband  White    Male   \n",
       "\n",
       "       capital-gain  capital-loss  hours-per-week native-country income  \n",
       "346           99999             0              40  United-States   >50K  \n",
       "357           99999             0              80  United-States   >50K  \n",
       "418           99999             0              40  United-States   >50K  \n",
       "692           99999             0              55  United-States   >50K  \n",
       "702           99999             0              60  United-States   >50K  \n",
       "...             ...           ...             ...            ...    ...  \n",
       "47392         99999             0              55  United-States   >50K  \n",
       "48109         99999             0              55  United-States   >50K  \n",
       "48253         99999             0              40  United-States   >50K  \n",
       "48519         99999             0              40  United-States   >50K  \n",
       "48799         99999             0              40  United-States   >50K  \n",
       "\n",
       "[229 rows x 15 columns]"
      ]
     },
     "execution_count": 20,
     "metadata": {},
     "output_type": "execute_result"
    }
   ],
   "source": [
    "df[df['capital-gain'] > 50000]"
   ]
  },
  {
   "cell_type": "markdown",
   "metadata": {},
   "source": [
    "### Summary Statistics - Numeric\n",
    "\n",
    "Distribution statistics such as quartiles, min and max, mean, and standard deviation are useful ways to explore numeric variables at a summary level. They help provide insight into what individual variables look like, providing a better starting point of necessary transformations or places where significant interactions may be more likely. \n",
    "\n",
    "The below is a summary of notable findings of the numeric variables:\n",
    "\n",
    "* Age - The summary statistics for age seem to show a fairly representative distribution of the adult working population (17 and older), however there is a slight right skew to the data with a max value of 90 but 75% of the observations being under the age of 48. This is the age we would want considering the main outcome we are interested in is income, people past retirement age, or under typical working age would not add any useful information to the data. \n",
    "* Capital Gains - Here again the statistics look to be representative of what we would expect out of the adult working population. At least 75% of the observations reported no capital gains, which makes \"domain knowledge\" sense. An important takeaway is the max of 99,999 suggests that there was a cutoff for the max value and that value truly represents 99,999 or greater. This will be important in later interpretations and modeling of the data, since it is not truly continuous.\n",
    "* Hours per Week - This variable had a bit more surpise than the previous two important variables looked at so far. The mean and median are right around 40 hours a week, which is expected since the data is collected from the US population. 50% of the observations are also between 40 and 45, which is also very reasonable. The minimum hour of 1 seems somewhat suspicious, however it could be they are reporting nothing but now \"passive\" income. The higher end of the values also seem questionable. 99 hours is a high amount of hours to be working consistently per week, but could be something like capital gains where past a certain value, numbers were bucketed together. Like capital gains, this variable could benefit from being transformed into a factor/categorical variable or otherwise normalized. "
   ]
  },
  {
   "cell_type": "code",
   "execution_count": 21,
   "metadata": {},
   "outputs": [
    {
     "data": {
      "text/html": [
       "<div>\n",
       "<style scoped>\n",
       "    .dataframe tbody tr th:only-of-type {\n",
       "        vertical-align: middle;\n",
       "    }\n",
       "\n",
       "    .dataframe tbody tr th {\n",
       "        vertical-align: top;\n",
       "    }\n",
       "\n",
       "    .dataframe thead th {\n",
       "        text-align: right;\n",
       "    }\n",
       "</style>\n",
       "<table border=\"1\" class=\"dataframe\">\n",
       "  <thead>\n",
       "    <tr style=\"text-align: right;\">\n",
       "      <th></th>\n",
       "      <th>age</th>\n",
       "      <th>fnlwgt</th>\n",
       "      <th>educational-num</th>\n",
       "      <th>capital-gain</th>\n",
       "      <th>capital-loss</th>\n",
       "      <th>hours-per-week</th>\n",
       "    </tr>\n",
       "  </thead>\n",
       "  <tbody>\n",
       "    <tr>\n",
       "      <th>count</th>\n",
       "      <td>45175.000000</td>\n",
       "      <td>4.517500e+04</td>\n",
       "      <td>45175.000000</td>\n",
       "      <td>45175.000000</td>\n",
       "      <td>45175.000000</td>\n",
       "      <td>45175.000000</td>\n",
       "    </tr>\n",
       "    <tr>\n",
       "      <th>mean</th>\n",
       "      <td>38.556170</td>\n",
       "      <td>1.897388e+05</td>\n",
       "      <td>10.119314</td>\n",
       "      <td>1102.576270</td>\n",
       "      <td>88.687593</td>\n",
       "      <td>40.942512</td>\n",
       "    </tr>\n",
       "    <tr>\n",
       "      <th>std</th>\n",
       "      <td>13.215349</td>\n",
       "      <td>1.056524e+05</td>\n",
       "      <td>2.551740</td>\n",
       "      <td>7510.249876</td>\n",
       "      <td>405.156611</td>\n",
       "      <td>12.007730</td>\n",
       "    </tr>\n",
       "    <tr>\n",
       "      <th>min</th>\n",
       "      <td>17.000000</td>\n",
       "      <td>1.349200e+04</td>\n",
       "      <td>1.000000</td>\n",
       "      <td>0.000000</td>\n",
       "      <td>0.000000</td>\n",
       "      <td>1.000000</td>\n",
       "    </tr>\n",
       "    <tr>\n",
       "      <th>25%</th>\n",
       "      <td>28.000000</td>\n",
       "      <td>1.173925e+05</td>\n",
       "      <td>9.000000</td>\n",
       "      <td>0.000000</td>\n",
       "      <td>0.000000</td>\n",
       "      <td>40.000000</td>\n",
       "    </tr>\n",
       "    <tr>\n",
       "      <th>50%</th>\n",
       "      <td>37.000000</td>\n",
       "      <td>1.783120e+05</td>\n",
       "      <td>10.000000</td>\n",
       "      <td>0.000000</td>\n",
       "      <td>0.000000</td>\n",
       "      <td>40.000000</td>\n",
       "    </tr>\n",
       "    <tr>\n",
       "      <th>75%</th>\n",
       "      <td>47.000000</td>\n",
       "      <td>2.379030e+05</td>\n",
       "      <td>13.000000</td>\n",
       "      <td>0.000000</td>\n",
       "      <td>0.000000</td>\n",
       "      <td>45.000000</td>\n",
       "    </tr>\n",
       "    <tr>\n",
       "      <th>max</th>\n",
       "      <td>90.000000</td>\n",
       "      <td>1.490400e+06</td>\n",
       "      <td>16.000000</td>\n",
       "      <td>99999.000000</td>\n",
       "      <td>4356.000000</td>\n",
       "      <td>99.000000</td>\n",
       "    </tr>\n",
       "  </tbody>\n",
       "</table>\n",
       "</div>"
      ],
      "text/plain": [
       "                age        fnlwgt  educational-num  capital-gain  \\\n",
       "count  45175.000000  4.517500e+04     45175.000000  45175.000000   \n",
       "mean      38.556170  1.897388e+05        10.119314   1102.576270   \n",
       "std       13.215349  1.056524e+05         2.551740   7510.249876   \n",
       "min       17.000000  1.349200e+04         1.000000      0.000000   \n",
       "25%       28.000000  1.173925e+05         9.000000      0.000000   \n",
       "50%       37.000000  1.783120e+05        10.000000      0.000000   \n",
       "75%       47.000000  2.379030e+05        13.000000      0.000000   \n",
       "max       90.000000  1.490400e+06        16.000000  99999.000000   \n",
       "\n",
       "       capital-loss  hours-per-week  \n",
       "count  45175.000000    45175.000000  \n",
       "mean      88.687593       40.942512  \n",
       "std      405.156611       12.007730  \n",
       "min        0.000000        1.000000  \n",
       "25%        0.000000       40.000000  \n",
       "50%        0.000000       40.000000  \n",
       "75%        0.000000       45.000000  \n",
       "max     4356.000000       99.000000  "
      ]
     },
     "execution_count": 21,
     "metadata": {},
     "output_type": "execute_result"
    }
   ],
   "source": [
    "df.describe()"
   ]
  },
  {
   "cell_type": "markdown",
   "metadata": {},
   "source": [
    "### Summary Statistics - Categorical\n",
    "\n",
    "Proportion was used to explore the categorical variables at a summary level. This statistic is important in understanding the balance of the individual fields and where it could be useful to group certain similar categories together to help improve sample size. \n",
    "\n",
    "The below is a summary of notable findings of the categorical variables:\n",
    "\n",
    "* Marital Status - The two most common values here were married civilians and those who have never been married, making up almost 80 percent of the population. Also noteworthy is that married armed forces made up an extremely small portion of the population, as expected. However it could be a potential sample size issue.\n",
    "* Native Country - As expected, the US makes up a large portion of the observations. Mexico makes up just under 2%, however, after that the portions are extremely small. This suggests it may be a good idea to bucket some of these native countries together to improve sample size, if they appear similarly behaved. \n",
    "* Work Class - This variable also is quite unbalanced, with private employment making up almost 75% of the observations, so grouping may also help improve model performance.\n",
    "* Occupation - The most balanced distribution seen yet, with no single occupation category making up more than 14% of the population. This balance indicates that this field may be one of the  most helpful in determining something like income, since there are less balance issues to worry about."
   ]
  },
  {
   "cell_type": "code",
   "execution_count": 22,
   "metadata": {},
   "outputs": [
    {
     "data": {
      "text/plain": [
       "Married-civ-spouse       0.465789\n",
       "Never-married            0.322457\n",
       "Divorced                 0.139325\n",
       "Separated                0.031234\n",
       "Widowed                  0.028268\n",
       "Married-spouse-absent    0.012219\n",
       "Married-AF-spouse        0.000708\n",
       "Name: marital-status, dtype: float64"
      ]
     },
     "execution_count": 22,
     "metadata": {},
     "output_type": "execute_result"
    }
   ],
   "source": [
    "df['marital-status'].value_counts(normalize=True)"
   ]
  },
  {
   "cell_type": "code",
   "execution_count": 145,
   "metadata": {},
   "outputs": [
    {
     "data": {
      "text/plain": [
       "United-States                 0.913248\n",
       "Mexico                        0.019812\n",
       "Philippines                   0.006242\n",
       "Germany                       0.004272\n",
       "Puerto-Rico                   0.003874\n",
       "Canada                        0.003608\n",
       "El-Salvador                   0.003254\n",
       "India                         0.003254\n",
       "Cuba                          0.002944\n",
       "England                       0.002634\n",
       "China                         0.002501\n",
       "Jamaica                       0.002280\n",
       "South                         0.002236\n",
       "Italy                         0.002214\n",
       "Dominican-Republic            0.002147\n",
       "Japan                         0.001970\n",
       "Guatemala                     0.001859\n",
       "Vietnam                       0.001837\n",
       "Columbia                      0.001815\n",
       "Poland                        0.001793\n",
       "Haiti                         0.001527\n",
       "Portugal                      0.001372\n",
       "Iran                          0.001240\n",
       "Taiwan                        0.001217\n",
       "Greece                        0.001085\n",
       "Nicaragua                     0.001063\n",
       "Peru                          0.000996\n",
       "Ecuador                       0.000952\n",
       "France                        0.000797\n",
       "Ireland                       0.000797\n",
       "Thailand                      0.000642\n",
       "Hong                          0.000620\n",
       "Cambodia                      0.000576\n",
       "Trinadad&Tobago               0.000576\n",
       "Yugoslavia                    0.000509\n",
       "Outlying-US(Guam-USVI-etc)    0.000487\n",
       "Laos                          0.000465\n",
       "Scotland                      0.000443\n",
       "Honduras                      0.000421\n",
       "Hungary                       0.000398\n",
       "Holand-Netherlands            0.000022\n",
       "Name: native-country, dtype: float64"
      ]
     },
     "execution_count": 145,
     "metadata": {},
     "output_type": "execute_result"
    }
   ],
   "source": [
    "df['native-country'].value_counts(normalize=True)"
   ]
  },
  {
   "cell_type": "code",
   "execution_count": 23,
   "metadata": {},
   "outputs": [
    {
     "data": {
      "text/plain": [
       "Private             0.736292\n",
       "Self-emp-not-inc    0.084007\n",
       "Local-gov           0.068622\n",
       "State-gov           0.043077\n",
       "Self-emp-inc        0.036414\n",
       "Federal-gov         0.031123\n",
       "Without-pay         0.000465\n",
       "Name: workclass, dtype: float64"
      ]
     },
     "execution_count": 23,
     "metadata": {},
     "output_type": "execute_result"
    }
   ],
   "source": [
    "df['workclass'].value_counts(normalize=True)"
   ]
  },
  {
   "cell_type": "code",
   "execution_count": 24,
   "metadata": {},
   "outputs": [
    {
     "data": {
      "text/plain": [
       "Craft-repair         0.133038\n",
       "Prof-specialty       0.132839\n",
       "Exec-managerial      0.132374\n",
       "Adm-clerical         0.122524\n",
       "Sales                0.119646\n",
       "Other-service        0.106364\n",
       "Machine-op-inspct    0.065634\n",
       "Transport-moving     0.051267\n",
       "Handlers-cleaners    0.045268\n",
       "Farming-fishing      0.032651\n",
       "Tech-support         0.031411\n",
       "Protective-serv      0.021583\n",
       "Priv-house-serv      0.005091\n",
       "Armed-Forces         0.000310\n",
       "Name: occupation, dtype: float64"
      ]
     },
     "execution_count": 24,
     "metadata": {},
     "output_type": "execute_result"
    }
   ],
   "source": [
    "df['occupation'].value_counts(normalize=True)"
   ]
  },
  {
   "cell_type": "markdown",
   "metadata": {},
   "source": [
    "### Visualize Attributes\n",
    "#### Education\n",
    "Via domain knowledge, we suspect education to be a strong predictor for income; thus, it will be the first variable we will visualize.To avoid manipulating the dataset in a manner that may affect future models, we will run all visualizations through a copy of the dataset (df_2). For the first variable, Education, we made sure it was set as categorical, then releveled the factors, such that they are outlined from least to most vis-a-vis education level for easier interpretation. The histogram shows an unbalanced distribution, such that all levels don't have the same number of instances. When modeling, it will be prudent to create more pragmatic levels (e.g., \"< High school\", \"HS-college/trade\", \"Bachelor's\", \"Post-high school\") to address this concern."
   ]
  },
  {
   "cell_type": "code",
   "execution_count": 25,
   "metadata": {},
   "outputs": [
    {
     "data": {
      "text/html": [
       "<div>\n",
       "<style scoped>\n",
       "    .dataframe tbody tr th:only-of-type {\n",
       "        vertical-align: middle;\n",
       "    }\n",
       "\n",
       "    .dataframe tbody tr th {\n",
       "        vertical-align: top;\n",
       "    }\n",
       "\n",
       "    .dataframe thead th {\n",
       "        text-align: right;\n",
       "    }\n",
       "</style>\n",
       "<table border=\"1\" class=\"dataframe\">\n",
       "  <thead>\n",
       "    <tr style=\"text-align: right;\">\n",
       "      <th></th>\n",
       "      <th>age</th>\n",
       "      <th>workclass</th>\n",
       "      <th>fnlwgt</th>\n",
       "      <th>education</th>\n",
       "      <th>educational-num</th>\n",
       "      <th>marital-status</th>\n",
       "      <th>occupation</th>\n",
       "      <th>relationship</th>\n",
       "      <th>race</th>\n",
       "      <th>gender</th>\n",
       "      <th>capital-gain</th>\n",
       "      <th>capital-loss</th>\n",
       "      <th>hours-per-week</th>\n",
       "      <th>native-country</th>\n",
       "      <th>income</th>\n",
       "    </tr>\n",
       "  </thead>\n",
       "  <tbody>\n",
       "    <tr>\n",
       "      <th>0</th>\n",
       "      <td>25</td>\n",
       "      <td>Private</td>\n",
       "      <td>226802</td>\n",
       "      <td>11th</td>\n",
       "      <td>7</td>\n",
       "      <td>Never-married</td>\n",
       "      <td>Machine-op-inspct</td>\n",
       "      <td>Own-child</td>\n",
       "      <td>Black</td>\n",
       "      <td>Male</td>\n",
       "      <td>0</td>\n",
       "      <td>0</td>\n",
       "      <td>40</td>\n",
       "      <td>United-States</td>\n",
       "      <td>&lt;=50K</td>\n",
       "    </tr>\n",
       "    <tr>\n",
       "      <th>1</th>\n",
       "      <td>38</td>\n",
       "      <td>Private</td>\n",
       "      <td>89814</td>\n",
       "      <td>HS-grad</td>\n",
       "      <td>9</td>\n",
       "      <td>Married-civ-spouse</td>\n",
       "      <td>Farming-fishing</td>\n",
       "      <td>Husband</td>\n",
       "      <td>White</td>\n",
       "      <td>Male</td>\n",
       "      <td>0</td>\n",
       "      <td>0</td>\n",
       "      <td>50</td>\n",
       "      <td>United-States</td>\n",
       "      <td>&lt;=50K</td>\n",
       "    </tr>\n",
       "    <tr>\n",
       "      <th>2</th>\n",
       "      <td>28</td>\n",
       "      <td>Local-gov</td>\n",
       "      <td>336951</td>\n",
       "      <td>Assoc-acdm</td>\n",
       "      <td>12</td>\n",
       "      <td>Married-civ-spouse</td>\n",
       "      <td>Protective-serv</td>\n",
       "      <td>Husband</td>\n",
       "      <td>White</td>\n",
       "      <td>Male</td>\n",
       "      <td>0</td>\n",
       "      <td>0</td>\n",
       "      <td>40</td>\n",
       "      <td>United-States</td>\n",
       "      <td>&gt;50K</td>\n",
       "    </tr>\n",
       "    <tr>\n",
       "      <th>3</th>\n",
       "      <td>44</td>\n",
       "      <td>Private</td>\n",
       "      <td>160323</td>\n",
       "      <td>Some-college</td>\n",
       "      <td>10</td>\n",
       "      <td>Married-civ-spouse</td>\n",
       "      <td>Machine-op-inspct</td>\n",
       "      <td>Husband</td>\n",
       "      <td>Black</td>\n",
       "      <td>Male</td>\n",
       "      <td>7688</td>\n",
       "      <td>0</td>\n",
       "      <td>40</td>\n",
       "      <td>United-States</td>\n",
       "      <td>&gt;50K</td>\n",
       "    </tr>\n",
       "    <tr>\n",
       "      <th>5</th>\n",
       "      <td>34</td>\n",
       "      <td>Private</td>\n",
       "      <td>198693</td>\n",
       "      <td>10th</td>\n",
       "      <td>6</td>\n",
       "      <td>Never-married</td>\n",
       "      <td>Other-service</td>\n",
       "      <td>Not-in-family</td>\n",
       "      <td>White</td>\n",
       "      <td>Male</td>\n",
       "      <td>0</td>\n",
       "      <td>0</td>\n",
       "      <td>30</td>\n",
       "      <td>United-States</td>\n",
       "      <td>&lt;=50K</td>\n",
       "    </tr>\n",
       "  </tbody>\n",
       "</table>\n",
       "</div>"
      ],
      "text/plain": [
       "   age  workclass  fnlwgt     education  educational-num      marital-status  \\\n",
       "0   25    Private  226802          11th                7       Never-married   \n",
       "1   38    Private   89814       HS-grad                9  Married-civ-spouse   \n",
       "2   28  Local-gov  336951    Assoc-acdm               12  Married-civ-spouse   \n",
       "3   44    Private  160323  Some-college               10  Married-civ-spouse   \n",
       "5   34    Private  198693          10th                6       Never-married   \n",
       "\n",
       "          occupation   relationship   race gender  capital-gain  capital-loss  \\\n",
       "0  Machine-op-inspct      Own-child  Black   Male             0             0   \n",
       "1    Farming-fishing        Husband  White   Male             0             0   \n",
       "2    Protective-serv        Husband  White   Male             0             0   \n",
       "3  Machine-op-inspct        Husband  Black   Male          7688             0   \n",
       "5      Other-service  Not-in-family  White   Male             0             0   \n",
       "\n",
       "   hours-per-week native-country income  \n",
       "0              40  United-States  <=50K  \n",
       "1              50  United-States  <=50K  \n",
       "2              40  United-States   >50K  \n",
       "3              40  United-States   >50K  \n",
       "5              30  United-States  <=50K  "
      ]
     },
     "execution_count": 25,
     "metadata": {},
     "output_type": "execute_result"
    }
   ],
   "source": [
    "#Create copy of dataset in order to apply manipulations for visual inspection\n",
    "df_2 = df.copy()\n",
    "\n",
    "# convert categorical variables into numeric\n",
    "# df_2['income'] = df_2['income'].map({'<=50K': 0, '>50K': 1}).astype(int)\n",
    "\n",
    "df_2.head()\n",
    "\n",
    "\n",
    "\n"
   ]
  },
  {
   "cell_type": "code",
   "execution_count": 26,
   "metadata": {},
   "outputs": [
    {
     "data": {
      "text/plain": [
       "[Text(0.5, 1.0, 'Distribution of Education')]"
      ]
     },
     "execution_count": 26,
     "metadata": {},
     "output_type": "execute_result"
    },
    {
     "data": {
      "image/png": "[encoded data removed]",
      "text/plain": [
       "<Figure size 432x288 with 1 Axes>"
      ]
     },
     "metadata": {},
     "output_type": "display_data"
    }
   ],
   "source": [
    "# Set variable as categorical, reorder factor levels form least to most education\n",
    "sns.set_theme(style='white', palette='deep')\n",
    "\n",
    "df_2[\"education\"] = df_2[\"education\"].astype('category')\n",
    "\n",
    "df_2[\"education\"] = df_2[\"education\"].cat.as_ordered()\n",
    "\n",
    "df_2[\"education\"] = df_2[\"education\"].cat.set_categories(['Preschool', '1st-4th', '5th-6th', '7th-8th', '9th', '10th', '11th', '12th', 'HS-grad', 'Assoc-acdm', 'Assoc-voc', 'Prof-school', 'Some-college', 'Bachelors', 'Masters', 'Doctorate'], ordered=True)\n",
    "\n",
    "sns.histplot(data = df_2, y = \"education\", discrete = True, stat = 'probability', alpha = 0.7, legend = False).set(title=\"Distribution of Education\")\n",
    "\n"
   ]
  },
  {
   "cell_type": "markdown",
   "metadata": {},
   "source": [
    "#### Age\n",
    "Since Age is continous variable, there is no need to rearrange levels of factors, as was done for Education. A visual inspection of the histogram below suggests the distribution to have a right skew. There also seems to be an abnormally high occurrence of instances of age 36, specifically 1283 of them. A transformation may be beneficial for further statistical anaylses and modeling. The attribute ranges from 17 to 90, with a mean of 38.6. The boxplot allows a different perspective by which we can see the right-skew and the presence of outliers outside of the inter-quartile range (IQR)."
   ]
  },
  {
   "cell_type": "code",
   "execution_count": 27,
   "metadata": {},
   "outputs": [
    {
     "name": "stdout",
     "output_type": "stream",
     "text": [
      "Highest Ocurrence: [(36, 1283)]\n"
     ]
    },
    {
     "data": {
      "image/png": "[encoded data removed]",
      "text/plain": [
       "<Figure size 432x288 with 1 Axes>"
      ]
     },
     "metadata": {},
     "output_type": "display_data"
    }
   ],
   "source": [
    "# Histogram\n",
    "sns.histplot(data = df_2, x = \"age\", alpha = 0.7).set(title=\"Distribution of Age\")\n",
    "\n",
    "# Find instance with highest occurences, code based on: https://www.codegrepper.com/code-examples/python/python+element+with+max+count\n",
    "from collections import Counter\n",
    "\n",
    "c = Counter(df_2[\"age\"])\n",
    "\n",
    "print(\"Highest Ocurrence:\", c.most_common(1))\n"
   ]
  },
  {
   "cell_type": "code",
   "execution_count": 28,
   "metadata": {},
   "outputs": [
    {
     "name": "stdout",
     "output_type": "stream",
     "text": [
      "Mean: 38.55617044825678\n",
      "Min: 17\n",
      "Max: 90\n"
     ]
    },
    {
     "data": {
      "image/png": "[encoded data removed]",
      "text/plain": [
       "<Figure size 432x288 with 1 Axes>"
      ]
     },
     "metadata": {},
     "output_type": "display_data"
    }
   ],
   "source": [
    "# Boxplot\n",
    "sns.boxplot(data = df_2, x=\"age\"). set(title=\"Boxplot of Age\")\n",
    "\n",
    "print(\"Mean:\", df_2[\"age\"].mean())\n",
    "print(\"Min:\", df_2[\"age\"].min())\n",
    "print(\"Max:\", df_2[\"age\"].max())"
   ]
  },
  {
   "cell_type": "markdown",
   "metadata": {},
   "source": [
    "#### Race\n",
    "The variable, Race, adds a social component to this analysis and particularly for data from the US, a degree of complexity that can lead to higher precision and clarity. Like other categorical variables, we set it as such and ran a histogram with respect to probability rather than count, as in this case, it allows for easier interpretation of the data. Although we are not to expect a normal distribution from the levels of this variable--given that a random sample taken from the US population would not reflect this pattern--it is worth noting that the \"White\" factor is over-represented in this set per current U.S. Census Bureau data (76.3% actual vs. 86% set); this, naturally, would imply an under-representation of one or more of the other factors--namely, \"Black\"(13.4% actual vs. 9.4% set) and \"Asian-Pac-Islander\" (6.1% actual vs. 2.9% set)."
   ]
  },
  {
   "cell_type": "code",
   "execution_count": 29,
   "metadata": {},
   "outputs": [
    {
     "name": "stdout",
     "output_type": "stream",
     "text": [
      "Percentages by Race:\n",
      " White                 86.018816\n",
      "Black                  9.356945\n",
      "Asian-Pac-Islander     2.879911\n",
      "Amer-Indian-Eskimo     0.962922\n",
      "Other                  0.781406\n",
      "Name: race, dtype: float64\n"
     ]
    },
    {
     "data": {
      "image/png": "[encoded data removed]",
      "text/plain": [
       "<Figure size 432x288 with 1 Axes>"
      ]
     },
     "metadata": {},
     "output_type": "display_data"
    }
   ],
   "source": [
    "# set variable as category\n",
    "df_2[\"race\"] = df_2[\"race\"].astype('category')\n",
    "\n",
    "# Histogram\n",
    "sns.histplot(data = df_2, y = 'race', discrete = True, stat = 'probability', hue = \"race\", legend = False). set(title=\"Distribution of Race\")\n",
    "\n",
    "# Outline percentages by Race, code based on: https://stackoverflow.com/questions/53690279/pandas-percentage-count-of-categorical-variable\n",
    "print(\"Percentages by Race:\\n\", (df_2[\"race\"].value_counts() / len(df_2[\"race\"]))*100)"
   ]
  },
  {
   "cell_type": "markdown",
   "metadata": {},
   "source": [
    "#### Gender\n",
    "Similar to the variable above, Gender adds an insightful social dimension, whose analysis must be duly contextualized within the history of the US's social dynamics with respect to this variable and the nuances pertaining thereunto. Unlike the previous variable, however, there should be relatively equal distribution between the factors. In this dataset there is a considerable difference between \"Male\" and \"Female\" (67.5% M vs. 32.5% F); whereas, the current US Census Bureau data reflects a nearly equal distribution (49.2% M vs. 50.8% F). This disparity must be taken into consideration when making inferences or applying models to the general population outside of this dataset. Nothing in particular was done to this variable other than defining it as a category before plotting with respect to percentage of dataset."
   ]
  },
  {
   "cell_type": "code",
   "execution_count": 30,
   "metadata": {
    "scrolled": true
   },
   "outputs": [
    {
     "name": "stdout",
     "output_type": "stream",
     "text": [
      "Percentages by Gender:\n",
      " Male      67.504151\n",
      "Female    32.495849\n",
      "Name: gender, dtype: float64\n"
     ]
    },
    {
     "data": {
      "image/png": "[encoded data removed]",
      "text/plain": [
       "<Figure size 432x288 with 1 Axes>"
      ]
     },
     "metadata": {},
     "output_type": "display_data"
    }
   ],
   "source": [
    "# set variable as category\n",
    "df_2[\"gender\"] = df_2[\"gender\"].astype('category')\n",
    "\n",
    "# Histogram\n",
    "sns.histplot(data = df_2, x = 'gender', discrete = True, stat = 'probability', hue = \"gender\", legend = False).set(title=\"Distribution of Gender\")\n",
    "\n",
    "# Outline percentages by Gender, code based on: https://stackoverflow.com/questions/53690279/pandas-percentage-count-of-categorical-variable\n",
    "print(\"Percentages by Gender:\\n\", (df_2[\"gender\"].value_counts() / len(df_2[\"gender\"]))*100)"
   ]
  },
  {
   "cell_type": "markdown",
   "metadata": {},
   "source": [
    "#### Income\n",
    "Income is one of the response variables being used, so it is essential to be aware of the distribution found therein. In this case, we have a significantly unbalanced dataset with respect to income--this, unfortunately, may compromise the accuracy and utility of models derived from this dataset. There are methods to balance the data, however, that may be used prior to modeling, if found prudent to do so. Although this distribution may reflect the reality of income distribution in the US in 1994, a balanced distribution allows us to lower the No Information Rate, which makes the evaluative metrics of a model more valuable for prediction and classification purposes. We are treating this variable as discrete, despite Income being numeric in nature; thus, we defined it as such prior to plotting."
   ]
  },
  {
   "cell_type": "code",
   "execution_count": 31,
   "metadata": {},
   "outputs": [
    {
     "name": "stdout",
     "output_type": "stream",
     "text": [
      "Percentages by Income:\n",
      " <=50K    75.203099\n",
      ">50K     24.796901\n",
      "Name: income, dtype: float64\n"
     ]
    },
    {
     "data": {
      "image/png": "[encoded data removed]",
      "text/plain": [
       "<Figure size 432x288 with 1 Axes>"
      ]
     },
     "metadata": {},
     "output_type": "display_data"
    }
   ],
   "source": [
    "df_2[\"income\"] = df_2[\"income\"].astype('category')\n",
    "\n",
    "df_2[\"income\"] = df_2[\"income\"].cat.as_ordered()\n",
    "\n",
    "sns.histplot(data = df_2, x = 'income', discrete = True, stat = 'probability', hue = 'income', legend = False).set(title=\"Distribution of Income\")\n",
    "\n",
    "# Outline percentages by income, code based on: https://stackoverflow.com/questions/53690279/pandas-percentage-count-of-categorical-variable\n",
    "print(\"Percentages by Income:\\n\", (df_2[\"income\"].value_counts() / len(df_2[\"income\"]))*100)"
   ]
  },
  {
   "cell_type": "markdown",
   "metadata": {},
   "source": [
    "### Explore Joint Attributes\n",
    "In this section, we will begin looking at relationships between attributes. \n",
    "\n",
    "#### Heatmap\n",
    "Below is a heatmap showing the correlations between all numeric variables. This chart gives us a broad look at which pairs of variables may be interesting to look at. This may give us later insight as to which may prove most useful in predicting our response variables. \n",
    "\n",
    "Given that the correlations are so low across all pairs of variables, this may point to a greater need for us to investigate our categorical variables, as well as their relationships to these numeric variables. "
   ]
  },
  {
   "cell_type": "code",
   "execution_count": 32,
   "metadata": {},
   "outputs": [
    {
     "data": {
      "text/plain": [
       "<AxesSubplot:>"
      ]
     },
     "execution_count": 32,
     "metadata": {},
     "output_type": "execute_result"
    },
    {
     "data": {
      "image/png": "[encoded data removed]",
      "text/plain": [
       "<Figure size 432x288 with 2 Axes>"
      ]
     },
     "metadata": {},
     "output_type": "display_data"
    }
   ],
   "source": [
    "# Create a copy and view correlation matrix in heatmap for all continuous variables\n",
    "df_1 = df.copy()\n",
    "df_cont = df_1[['age','fnlwgt','educational-num','capital-gain','capital-loss','hours-per-week']].copy()\n",
    "\n",
    "df_corr = df_cont.corr()\n",
    "\n",
    "sns.heatmap(df_corr, annot=True)"
   ]
  },
  {
   "cell_type": "markdown",
   "metadata": {},
   "source": [
    "#### Work Hours by Employment\n",
    "In predicting income level, we may believe the number of hours worked are likely to have a direct impact, where higher hours are associated with higher income. However, the boxplots below show that there may be more variability depending on the working status. \n",
    "\n",
    "Although the average number of hours don't seem to differ by much across these different categories, there are some clear differences in the range and variability of hours worked in these groups.  As we may expect, we see below that individuals that worked without pay were more likely to work fewer hours. We also see that self-employed individuals that work in corporate entities (Self-emp-inc) were on the upper end of the spectrum, working more hours. It is also interesting to see the wide distributions of those that were self-employed, as opposed to the much narrower distributions of those that worked in government. "
   ]
  },
  {
   "cell_type": "code",
   "execution_count": 33,
   "metadata": {},
   "outputs": [
    {
     "data": {
      "text/plain": [
       "[Text(0.5, 1.0, 'Work Hours by Class')]"
      ]
     },
     "execution_count": 33,
     "metadata": {},
     "output_type": "execute_result"
    },
    {
     "data": {
      "image/png": "[encoded data removed]",
      "text/plain": [
       "<Figure size 432x288 with 1 Axes>"
      ]
     },
     "metadata": {},
     "output_type": "display_data"
    }
   ],
   "source": [
    "# Although we may expect hours to be directly related to income, we may find that the class may moderate that relationship \n",
    "sns.boxplot(x=\"hours-per-week\", y=\"workclass\", data=df_1).set(title='Work Hours by Class')"
   ]
  },
  {
   "cell_type": "markdown",
   "metadata": {},
   "source": [
    "#### Education Level by Gender\n",
    "The distribution plots below show that most individuals in the dataset were graduated high school (9), attended some college (10), or obtained their bachelor's degree (12). Very few had education levels below high school or beyond a bachelor's. People were also less likely to end their education at an associate's degree. \n",
    "\n",
    "These patterns are strikingly similar for both males and females with some minor distinctions. While both groups have most individuals completing high school, there appear to be disproportionately more males that are high school graduates than any other group. We see that this disparity is less defined among females, evinced by the less obvious peak. By proportion, it appears females are more likely to attend some college or complete their bachelor's degree than males. "
   ]
  },
  {
   "cell_type": "code",
   "execution_count": 34,
   "metadata": {},
   "outputs": [
    {
     "data": {
      "text/plain": [
       "<seaborn.axisgrid.FacetGrid at 0x21a50af0d90>"
      ]
     },
     "execution_count": 34,
     "metadata": {},
     "output_type": "execute_result"
    },
    {
     "data": {
      "image/png": "[encoded data removed]",
      "text/plain": [
       "<Figure size 436.35x360 with 1 Axes>"
      ]
     },
     "metadata": {},
     "output_type": "display_data"
    }
   ],
   "source": [
    "sns.displot(x='educational-num', hue='gender', data=df_1, kind='kde', fill=True).set(title='Education by Gender')"
   ]
  },
  {
   "cell_type": "markdown",
   "metadata": {},
   "source": [
    "#### Employment by Gender\n",
    "We also take a look at gender differences in employment status below. \n",
    "\n",
    "The first plot shows that most individuals worked in a private company, while extremely few individuals worked without pay. While we are aware that there were far more males in the dataset than females overall, we also see that there were more males regardless of employment category. \n",
    "\n",
    "The second plot gives us a breakdown of the genders by proportion. In addition to confirming that males were more prevalent in every category, the second plot shows us that this difference is more pronounced among individuals that were self-employed. Both self-employed groups consisted of over 80% males, while government, private company, and without pay groups consisted of 60-70% males. "
   ]
  },
  {
   "cell_type": "code",
   "execution_count": 36,
   "metadata": {},
   "outputs": [
    {
     "data": {
      "text/plain": [
       "<AxesSubplot:xlabel='workclass'>"
      ]
     },
     "execution_count": 36,
     "metadata": {},
     "output_type": "execute_result"
    },
    {
     "data": {
      "image/png": "[encoded data removed]",
      "text/plain": [
       "<Figure size 432x288 with 1 Axes>"
      ]
     },
     "metadata": {},
     "output_type": "display_data"
    },
    {
     "data": {
      "image/png": "[encoded data removed]",
      "text/plain": [
       "<Figure size 432x288 with 1 Axes>"
      ]
     },
     "metadata": {},
     "output_type": "display_data"
    }
   ],
   "source": [
    "df_1['gender'] = df['gender'].astype('category')\n",
    "df_1['gender'].cat.reorder_categories(['Female', 'Male'])\n",
    "sns.countplot(x='workclass', hue='gender', data=df_1)\n",
    "\n",
    "cross = pd.crosstab(index=df_1['workclass'], columns=df_1['gender'], normalize='index')\n",
    "\n",
    "cross.plot(kind='bar', stacked=True)"
   ]
  },
  {
   "cell_type": "markdown",
   "metadata": {},
   "source": [
    "### Explore Attributes and Class\n",
    "In this section, we will begin examining relationships between the response and other variables via different plots.\n",
    "\n",
    "#### Income vs. Age\n",
    "Via domain knowledge and common sense, we suspect Age to be a strong predictor of Income. The first boxplot allows us to very clearly see the diffences between the IQR of both income groups. The group with an annual income greater than $50K appears to have an IQR that is considerably higher on the age axis."
   ]
  },
  {
   "cell_type": "code",
   "execution_count": 155,
   "metadata": {},
   "outputs": [
    {
     "data": {
      "text/plain": [
       "[Text(0.5, 1.0, 'Boxplot of Income and Age')]"
      ]
     },
     "execution_count": 155,
     "metadata": {},
     "output_type": "execute_result"
    },
    {
     "data": {
      "image/png": "[encoded data removed]",
      "text/plain": [
       "<Figure size 432x288 with 1 Axes>"
      ]
     },
     "metadata": {},
     "output_type": "display_data"
    }
   ],
   "source": [
    "#df_2['income'] = df_2['income'].map({'<=50K': 0, '>50K': 1}).astype(int)\n",
    "\n",
    "#df_2.head()\n",
    "\n",
    "sns.boxplot(data = df_2, x =\"income\", y = \"age\").set(title = \"Boxplot of Income and Age\")"
   ]
  },
  {
   "cell_type": "markdown",
   "metadata": {},
   "source": [
    "This next violin plot examines the same relationship while accounting for Gender. For both Male and Female cases, we see a considerable shift along the age axis between the Income groups."
   ]
  },
  {
   "cell_type": "code",
   "execution_count": 156,
   "metadata": {},
   "outputs": [
    {
     "data": {
      "text/plain": [
       "<seaborn.axisgrid.FacetGrid at 0x152ef2f10>"
      ]
     },
     "execution_count": 156,
     "metadata": {},
     "output_type": "execute_result"
    },
    {
     "data": {
      "image/png": "[encoded data removed]",
      "text/plain": [
       "<Figure size 436.35x360 with 1 Axes>"
      ]
     },
     "metadata": {},
     "output_type": "display_data"
    }
   ],
   "source": [
    "sns.catplot(x=\"age\", y=\"income\", hue=\"gender\", kind=\"violin\", split = True, data=df_2).set(title= \"Distributions of Age by Income and Gender\")"
   ]
  },
  {
   "cell_type": "markdown",
   "metadata": {},
   "source": [
    "This following bar plot shows the same relationship as the violin plot above to offer a different perspective."
   ]
  },
  {
   "cell_type": "code",
   "execution_count": 157,
   "metadata": {},
   "outputs": [
    {
     "data": {
      "text/plain": [
       "[Text(0.5, 1.0, 'Income by Age and Gender')]"
      ]
     },
     "execution_count": 157,
     "metadata": {},
     "output_type": "execute_result"
    },
    {
     "data": {
      "image/png": "[encoded data removed]",
      "text/plain": [
       "<Figure size 432x288 with 1 Axes>"
      ]
     },
     "metadata": {},
     "output_type": "display_data"
    }
   ],
   "source": [
    "sns.barplot(data = df_2, x = \"income\", y = \"age\", hue = \"gender\").set(title=\"Income by Age and Gender\")"
   ]
  },
  {
   "cell_type": "markdown",
   "metadata": {},
   "source": [
    "Next, we explored the same relationship while accounting for Race. The same phenomen as above was found in this case--namely, there seems to be a difference between income groups in age across all Race categories."
   ]
  },
  {
   "cell_type": "code",
   "execution_count": 173,
   "metadata": {},
   "outputs": [
    {
     "data": {
      "text/plain": [
       "<seaborn.axisgrid.FacetGrid at 0x1554aa400>"
      ]
     },
     "execution_count": 173,
     "metadata": {},
     "output_type": "execute_result"
    },
    {
     "data": {
      "image/png": "[encoded data removed]",
      "text/plain": [
       "<Figure size 499.6x360 with 1 Axes>"
      ]
     },
     "metadata": {},
     "output_type": "display_data"
    }
   ],
   "source": [
    "sns.catplot(data = df_2, y = \"income\", x = \"age\", hue= \"race\", kind = \"violin\").set(title= \"Distribution of Age by Income (Accounting for Race)\")"
   ]
  },
  {
   "cell_type": "markdown",
   "metadata": {},
   "source": [
    "The relationship between age and income seems to hold even when accounting for other variables, so it will be worth exploring further."
   ]
  },
  {
   "cell_type": "markdown",
   "metadata": {},
   "source": [
    "#### Income vs. Hours per Week\n",
    "\n",
    "Hours per Week seems to have potential to be a strong predictor variable, given that it could be reasoned that the more hours one works, the higher the income; however, wage rate is the other essential component to this calculation, which is not an attribute found in this dataset. Due to this, there may be shortcomings in using this variable in models. \n",
    "\n",
    "Our first boxplot provides for some interesting observations:\n",
    "- The IQRs for both groups differ considerably, with the >50K group showing a wider distribution at a higher position along the hours-per-week axis. \n",
    "- The <=50K group finds the IQR to be around 40 hours per week, with only a slight deviation-- this phenomenon may be attributed to wage workers, who almost exclusively work for 40 hours a week as full-time employees.\n",
    "- Lower income classes are almost exclusively comprised of hourly wage workers, while middle to higher income classes are paid in salaries, stock options, commissions, investment returns, etc.; thus, not limited by the 40 hour/over-time limit.\n",
    "- Essentially, by itself, Hours per Week may not have a very strong relationship, but this may change if applied in interaction form (perhaps with Occupation).\n",
    "- Outliers should be examined and addressed"
   ]
  },
  {
   "cell_type": "code",
   "execution_count": 159,
   "metadata": {},
   "outputs": [
    {
     "data": {
      "text/plain": [
       "<AxesSubplot:xlabel='income', ylabel='hours-per-week'>"
      ]
     },
     "execution_count": 159,
     "metadata": {},
     "output_type": "execute_result"
    },
    {
     "data": {
      "image/png": "[encoded data removed]",
      "text/plain": [
       "<Figure size 432x288 with 1 Axes>"
      ]
     },
     "metadata": {},
     "output_type": "display_data"
    }
   ],
   "source": [
    "sns.boxplot(data = df_2, x = \"income\", y = \"hours-per-week\")"
   ]
  },
  {
   "cell_type": "markdown",
   "metadata": {},
   "source": [
    "The violin plot below allows us to examine the distribution better, with both groups having a significant number of instances along the 40hrs/week mark, but the trend does appear to extend further in the >50K group."
   ]
  },
  {
   "cell_type": "code",
   "execution_count": 178,
   "metadata": {},
   "outputs": [
    {
     "data": {
      "text/plain": [
       "<seaborn.axisgrid.FacetGrid at 0x155a74d60>"
      ]
     },
     "execution_count": 178,
     "metadata": {},
     "output_type": "execute_result"
    },
    {
     "data": {
      "image/png": "[encoded data removed]",
      "text/plain": [
       "<Figure size 360x360 with 1 Axes>"
      ]
     },
     "metadata": {},
     "output_type": "display_data"
    }
   ],
   "source": [
    "sns.catplot(data = df_2, y = \"income\", x = \"hours-per-week\", kind = \"violin\").set(title= \"Distribution of Hours per Week by Income\")"
   ]
  },
  {
   "cell_type": "markdown",
   "metadata": {},
   "source": [
    "#### Education vs. Income\n",
    "As mentioned, we suspect Education to be a strong predictor for Income. The variable labeled Educational-num has the categories ranked in education levels, so we can use that for visualization purposes to examine the relationship.\n",
    "\n",
    "This first boxplot depicts the distributions found in both income groups with respect to Education. Those in the <=50K group seem to percolate within an education level between 8-12, whereas the higher income group has a wider range and appears to be hgiher up along the educational-num axis, supporting our initial suspicion. The KDE plot following the boxplot gives us a clear idea of the frequency of instances within the 8-12 education levels for the <=50K group."
   ]
  },
  {
   "cell_type": "code",
   "execution_count": 174,
   "metadata": {},
   "outputs": [
    {
     "data": {
      "text/plain": [
       "[Text(0.5, 1.0, 'Distribution of Income by Education')]"
      ]
     },
     "execution_count": 174,
     "metadata": {},
     "output_type": "execute_result"
    },
    {
     "data": {
      "image/png": "[encoded data removed]",
      "text/plain": [
       "<Figure size 432x288 with 1 Axes>"
      ]
     },
     "metadata": {},
     "output_type": "display_data"
    }
   ],
   "source": [
    "sns.boxplot(data= df_2, x = \"income\", y = \"educational-num\").set(title=\"Distribution of Income by Education\")\n",
    "\n"
   ]
  },
  {
   "cell_type": "code",
   "execution_count": 188,
   "metadata": {},
   "outputs": [
    {
     "data": {
      "text/plain": [
       "<seaborn.axisgrid.FacetGrid at 0x155c57640>"
      ]
     },
     "execution_count": 188,
     "metadata": {},
     "output_type": "execute_result"
    },
    {
     "data": {
      "image/png": "[encoded data removed]",
      "text/plain": [
       "<Figure size 431.725x360 with 1 Axes>"
      ]
     },
     "metadata": {},
     "output_type": "display_data"
    }
   ],
   "source": [
    "sns.displot(data = df_2, x=\"educational-num\", hue=\"income\", kind=\"kde\").set(title= \"Distribution of Education by Income\")"
   ]
  },
  {
   "cell_type": "markdown",
   "metadata": {},
   "source": [
    "The following violin plot allows us to examine this relationship while accounting for Gender. The effect found above is reflected in the distributions for both Gender categories."
   ]
  },
  {
   "cell_type": "code",
   "execution_count": 183,
   "metadata": {},
   "outputs": [
    {
     "data": {
      "text/plain": [
       "<seaborn.axisgrid.FacetGrid at 0x155a33c10>"
      ]
     },
     "execution_count": 183,
     "metadata": {},
     "output_type": "execute_result"
    },
    {
     "data": {
      "image/png": "[encoded data removed]",
      "text/plain": [
       "<Figure size 436.35x360 with 1 Axes>"
      ]
     },
     "metadata": {},
     "output_type": "display_data"
    }
   ],
   "source": [
    "sns.catplot(data = df_2, y = \"income\", x = \"educational-num\", hue =  \"gender\", split = True, kind = \"violin\").set(title= \"Distribution of Income by Education (Accounting for Gender)\")"
   ]
  },
  {
   "cell_type": "markdown",
   "metadata": {},
   "source": [
    "Similar to the violin plot found above, it appears the relationship between Education and Income remains evident across all Race categories."
   ]
  },
  {
   "cell_type": "code",
   "execution_count": 184,
   "metadata": {},
   "outputs": [
    {
     "data": {
      "text/plain": [
       "<seaborn.axisgrid.FacetGrid at 0x1555a0eb0>"
      ]
     },
     "execution_count": 184,
     "metadata": {},
     "output_type": "execute_result"
    },
    {
     "data": {
      "image/png": "[encoded data removed]",
      "text/plain": [
       "<Figure size 499.6x360 with 1 Axes>"
      ]
     },
     "metadata": {},
     "output_type": "display_data"
    }
   ],
   "source": [
    "sns.catplot(data = df_2, y = \"income\", x = \"educational-num\", hue =  \"race\", kind = \"violin\").set(title= \"Distribution of Income by Education (Accounting for Gender)\")"
   ]
  },
  {
   "cell_type": "markdown",
   "metadata": {},
   "source": [
    "### New Features"
   ]
  },
  {
   "cell_type": "markdown",
   "metadata": {},
   "source": [
    "Below is a list of attributes that can be added to help build a model. Considerations and specific changes would be tweaked later, which would largely depend on how well these variables perform in predicting/classifying our response variables: \n",
    "\n",
    "1. White vs Other Race\n",
    "   - There are far more individuals who identify as white than any other race. If we want to consider using race, it may be best to derive a binary variable distinguishing those that identify as white versus those that don't. \n",
    "\n",
    "2. USA vs Other Country\n",
    "   - Similar to the race variable, there are far more individuals in the United States than any other country. We can again merge all other countries as a single group. \n",
    "\n",
    "3. Marital Status Reduced\n",
    "   - There are some granular details in the marital status variable that can be reduced to fewer categories. While the never married category can remain its own group, there are three married categories that can probably be merged into one. We may also want to consider merging those that were divorced with those that were separated. Given that the count for widowed individuals is low, we may also consider merging this group with divorced and separated. \n",
    "\n",
    "4. Education Reduced\n",
    "   - Given that there are so few individuals below high school or above bachelor's level education, we can group the lower education groups into one group and the higher education groups into a second group. High school graduates, individuals with some college, and those with a bachelor's would retain their own grouping. It may also be appropriate to merge the associate's group with those that attended some college. \n",
    "\n",
    "5. Capital Gains\n",
    "   - It may be safe to assume that those with capital gain were those who had the income to attain those capital assets to begin with. We can aim for a more parsimonious model by including capital gain as a factor with two or three levels (those without, those with some gain, and those identified with 99999 or more). \n",
    "\n",
    "Please see below for some summary statistics of the above-mentioned variables that were used in determining these considerations. "
   ]
  },
  {
   "cell_type": "code",
   "execution_count": 69,
   "metadata": {},
   "outputs": [
    {
     "data": {
      "text/plain": [
       "White    38859\n",
       "Other     6316\n",
       "Name: white, dtype: int64"
      ]
     },
     "execution_count": 69,
     "metadata": {},
     "output_type": "execute_result"
    }
   ],
   "source": [
    "# Derived a new variable distinguishing white versus others\n",
    "df_1['white'] = df_1['race'].where(df['race'].eq('White'), 'Other')\n",
    "df_1['white'].value_counts()"
   ]
  },
  {
   "cell_type": "code",
   "execution_count": 67,
   "metadata": {},
   "outputs": [
    {
     "data": {
      "text/plain": [
       "United-States        41256\n",
       "Not United-States     3919\n",
       "Name: usa, dtype: int64"
      ]
     },
     "execution_count": 67,
     "metadata": {},
     "output_type": "execute_result"
    }
   ],
   "source": [
    "# Derived a new variable distinguishing USA versus others\n",
    "df_1['usa'] = df_1['native-country'].where(df['native-country'].eq('United-States'), 'Not United-States')\n",
    "df_1['usa'].value_counts()"
   ]
  },
  {
   "cell_type": "code",
   "execution_count": 71,
   "metadata": {},
   "outputs": [
    {
     "data": {
      "text/plain": [
       "Married-civ-spouse       21042\n",
       "Never-married            14567\n",
       "Divorced                  6294\n",
       "Separated                 1411\n",
       "Widowed                   1277\n",
       "Married-spouse-absent      552\n",
       "Married-AF-spouse           32\n",
       "Name: marital-status, dtype: int64"
      ]
     },
     "execution_count": 71,
     "metadata": {},
     "output_type": "execute_result"
    }
   ],
   "source": [
    "# Count of each marital status category as they exist in the current data\n",
    "df_1['marital-status'].value_counts()"
   ]
  },
  {
   "cell_type": "code",
   "execution_count": 79,
   "metadata": {},
   "outputs": [
    {
     "data": {
      "text/plain": [
       "1        70\n",
       "2       220\n",
       "3       447\n",
       "4       822\n",
       "5       676\n",
       "6      1223\n",
       "7      1619\n",
       "8       575\n",
       "9     14770\n",
       "10     9887\n",
       "11     1958\n",
       "12     1507\n",
       "13     7559\n",
       "14     2513\n",
       "15      785\n",
       "16      544\n",
       "Name: educational-num, dtype: int64"
      ]
     },
     "execution_count": 79,
     "metadata": {},
     "output_type": "execute_result"
    }
   ],
   "source": [
    "# Count of each education level as they exist in the current data\n",
    "df_1['educational-num'].value_counts().sort_index()"
   ]
  },
  {
   "cell_type": "code",
   "execution_count": 81,
   "metadata": {},
   "outputs": [
    {
     "data": {
      "text/plain": [
       "income\n",
       "<=50K     149.203250\n",
       ">50K     3993.929745\n",
       "Name: capital-gain, dtype: float64"
      ]
     },
     "execution_count": 81,
     "metadata": {},
     "output_type": "execute_result"
    }
   ],
   "source": [
    "# Average capital gain by income\n",
    "df_byincome = df_1.groupby(['income'])\n",
    "df_byincome['capital-gain'].mean()"
   ]
  }
 ],
 "metadata": {
  "interpreter": {
   "hash": "aee8b7b246df8f9039afb4144a1f6fd8d2ca17a180786b69acc140d282b71a49"
  },
  "kernelspec": {
   "display_name": "Python 3 (ipykernel)",
   "language": "python",
   "name": "python3"
  },
  "language_info": {
   "codemirror_mode": {
    "name": "ipython",
    "version": 3
   },
   "file_extension": ".py",
   "mimetype": "text/x-python",
   "name": "python",
   "nbconvert_exporter": "python",
   "pygments_lexer": "ipython3",
   "version": "3.8.13"
  }
 },
 "nbformat": 4,
 "nbformat_minor": 2
}
